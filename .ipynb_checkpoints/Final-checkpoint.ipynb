{
 "cells": [
  {
   "cell_type": "markdown",
   "metadata": {},
   "source": [
    "# Final Submission for Mod 1 Project"
   ]
  },
  {
   "cell_type": "markdown",
   "metadata": {},
   "source": [
    "Created by Aren Carpenter & Albert Um\n",
    "Data Science Cohort 06/22/20\n",
    "\n",
    "Using data science to explore the movie industry and provide recommendations for Microsoft to enter the film industry.\n",
    "\n",
    "This notebook contains the following:\n",
    "   - EDA : Movie Revenue over Time\n",
    "   - EDA : ROI for Budget\n",
    "   - EDA : User Rating and Revenue\n",
    "   - EDA : Genres and Revenue\n",
    "   \n",
    "Key insights are provided with each visualization and are summed up in our ReadMe file. \n",
    "\n",
    "Thank you."
   ]
  },
  {
   "cell_type": "markdown",
   "metadata": {},
   "source": [
    "# Exploratory Data Analysis: Movie Revenue over Time"
   ]
  },
  {
   "cell_type": "markdown",
   "metadata": {},
   "source": [
    "We want to start by getting a sense of how movie revenue has changed over time. As movies became a more popular and mainstream entertainment source both movie budgets and revenue have exploded. Let's take a look. "
   ]
  },
  {
   "cell_type": "markdown",
   "metadata": {},
   "source": [
    "### Libraries to import:"
   ]
  },
  {
   "cell_type": "code",
   "execution_count": 1,
   "metadata": {},
   "outputs": [],
   "source": [
    "import pandas as pd\n",
    "import matplotlib.pyplot as plt\n",
    "import seaborn as sns\n",
    "sns.set_palette(\"muted\")\n",
    "%matplotlib inline"
   ]
  },
  {
   "cell_type": "markdown",
   "metadata": {},
   "source": [
    "### Import Data:"
   ]
  },
  {
   "cell_type": "markdown",
   "metadata": {},
   "source": [
    "We'll start by importing our The Movie DB dataset. "
   ]
  },
  {
   "cell_type": "code",
   "execution_count": 2,
   "metadata": {
    "scrolled": true
   },
   "outputs": [
    {
     "data": {
      "text/html": [
       "<div>\n",
       "<style scoped>\n",
       "    .dataframe tbody tr th:only-of-type {\n",
       "        vertical-align: middle;\n",
       "    }\n",
       "\n",
       "    .dataframe tbody tr th {\n",
       "        vertical-align: top;\n",
       "    }\n",
       "\n",
       "    .dataframe thead th {\n",
       "        text-align: right;\n",
       "    }\n",
       "</style>\n",
       "<table border=\"1\" class=\"dataframe\">\n",
       "  <thead>\n",
       "    <tr style=\"text-align: right;\">\n",
       "      <th></th>\n",
       "      <th>id</th>\n",
       "      <th>release_date</th>\n",
       "      <th>movie</th>\n",
       "      <th>production_budget</th>\n",
       "      <th>domestic_gross</th>\n",
       "      <th>worldwide_gross</th>\n",
       "    </tr>\n",
       "  </thead>\n",
       "  <tbody>\n",
       "    <tr>\n",
       "      <th>0</th>\n",
       "      <td>1</td>\n",
       "      <td>Dec 18, 2009</td>\n",
       "      <td>Avatar</td>\n",
       "      <td>$425,000,000</td>\n",
       "      <td>$760,507,625</td>\n",
       "      <td>$2,776,345,279</td>\n",
       "    </tr>\n",
       "    <tr>\n",
       "      <th>1</th>\n",
       "      <td>2</td>\n",
       "      <td>May 20, 2011</td>\n",
       "      <td>Pirates of the Caribbean: On Stranger Tides</td>\n",
       "      <td>$410,600,000</td>\n",
       "      <td>$241,063,875</td>\n",
       "      <td>$1,045,663,875</td>\n",
       "    </tr>\n",
       "    <tr>\n",
       "      <th>2</th>\n",
       "      <td>3</td>\n",
       "      <td>Jun 7, 2019</td>\n",
       "      <td>Dark Phoenix</td>\n",
       "      <td>$350,000,000</td>\n",
       "      <td>$42,762,350</td>\n",
       "      <td>$149,762,350</td>\n",
       "    </tr>\n",
       "    <tr>\n",
       "      <th>3</th>\n",
       "      <td>4</td>\n",
       "      <td>May 1, 2015</td>\n",
       "      <td>Avengers: Age of Ultron</td>\n",
       "      <td>$330,600,000</td>\n",
       "      <td>$459,005,868</td>\n",
       "      <td>$1,403,013,963</td>\n",
       "    </tr>\n",
       "    <tr>\n",
       "      <th>4</th>\n",
       "      <td>5</td>\n",
       "      <td>Dec 15, 2017</td>\n",
       "      <td>Star Wars Ep. VIII: The Last Jedi</td>\n",
       "      <td>$317,000,000</td>\n",
       "      <td>$620,181,382</td>\n",
       "      <td>$1,316,721,747</td>\n",
       "    </tr>\n",
       "    <tr>\n",
       "      <th>...</th>\n",
       "      <td>...</td>\n",
       "      <td>...</td>\n",
       "      <td>...</td>\n",
       "      <td>...</td>\n",
       "      <td>...</td>\n",
       "      <td>...</td>\n",
       "    </tr>\n",
       "    <tr>\n",
       "      <th>5777</th>\n",
       "      <td>78</td>\n",
       "      <td>Dec 31, 2018</td>\n",
       "      <td>Red 11</td>\n",
       "      <td>$7,000</td>\n",
       "      <td>$0</td>\n",
       "      <td>$0</td>\n",
       "    </tr>\n",
       "    <tr>\n",
       "      <th>5778</th>\n",
       "      <td>79</td>\n",
       "      <td>Apr 2, 1999</td>\n",
       "      <td>Following</td>\n",
       "      <td>$6,000</td>\n",
       "      <td>$48,482</td>\n",
       "      <td>$240,495</td>\n",
       "    </tr>\n",
       "    <tr>\n",
       "      <th>5779</th>\n",
       "      <td>80</td>\n",
       "      <td>Jul 13, 2005</td>\n",
       "      <td>Return to the Land of Wonders</td>\n",
       "      <td>$5,000</td>\n",
       "      <td>$1,338</td>\n",
       "      <td>$1,338</td>\n",
       "    </tr>\n",
       "    <tr>\n",
       "      <th>5780</th>\n",
       "      <td>81</td>\n",
       "      <td>Sep 29, 2015</td>\n",
       "      <td>A Plague So Pleasant</td>\n",
       "      <td>$1,400</td>\n",
       "      <td>$0</td>\n",
       "      <td>$0</td>\n",
       "    </tr>\n",
       "    <tr>\n",
       "      <th>5781</th>\n",
       "      <td>82</td>\n",
       "      <td>Aug 5, 2005</td>\n",
       "      <td>My Date With Drew</td>\n",
       "      <td>$1,100</td>\n",
       "      <td>$181,041</td>\n",
       "      <td>$181,041</td>\n",
       "    </tr>\n",
       "  </tbody>\n",
       "</table>\n",
       "<p>5782 rows × 6 columns</p>\n",
       "</div>"
      ],
      "text/plain": [
       "      id  release_date                                        movie  \\\n",
       "0      1  Dec 18, 2009                                       Avatar   \n",
       "1      2  May 20, 2011  Pirates of the Caribbean: On Stranger Tides   \n",
       "2      3   Jun 7, 2019                                 Dark Phoenix   \n",
       "3      4   May 1, 2015                      Avengers: Age of Ultron   \n",
       "4      5  Dec 15, 2017            Star Wars Ep. VIII: The Last Jedi   \n",
       "...   ..           ...                                          ...   \n",
       "5777  78  Dec 31, 2018                                       Red 11   \n",
       "5778  79   Apr 2, 1999                                    Following   \n",
       "5779  80  Jul 13, 2005                Return to the Land of Wonders   \n",
       "5780  81  Sep 29, 2015                         A Plague So Pleasant   \n",
       "5781  82   Aug 5, 2005                            My Date With Drew   \n",
       "\n",
       "     production_budget domestic_gross worldwide_gross  \n",
       "0         $425,000,000   $760,507,625  $2,776,345,279  \n",
       "1         $410,600,000   $241,063,875  $1,045,663,875  \n",
       "2         $350,000,000    $42,762,350    $149,762,350  \n",
       "3         $330,600,000   $459,005,868  $1,403,013,963  \n",
       "4         $317,000,000   $620,181,382  $1,316,721,747  \n",
       "...                ...            ...             ...  \n",
       "5777            $7,000             $0              $0  \n",
       "5778            $6,000        $48,482        $240,495  \n",
       "5779            $5,000         $1,338          $1,338  \n",
       "5780            $1,400             $0              $0  \n",
       "5781            $1,100       $181,041        $181,041  \n",
       "\n",
       "[5782 rows x 6 columns]"
      ]
     },
     "execution_count": 2,
     "metadata": {},
     "output_type": "execute_result"
    }
   ],
   "source": [
    "data = pd.read_csv('zippedData/tn.movie_budgets.csv.gz') # Import our data.\n",
    "data"
   ]
  },
  {
   "cell_type": "markdown",
   "metadata": {},
   "source": [
    "### Cleaning Data:"
   ]
  },
  {
   "cell_type": "markdown",
   "metadata": {},
   "source": [
    "#### Changing Release Date to Year: "
   ]
  },
  {
   "cell_type": "markdown",
   "metadata": {},
   "source": [
    "We don't need the full date of release for each movie. To keep it simple, lets select just the year."
   ]
  },
  {
   "cell_type": "code",
   "execution_count": 3,
   "metadata": {
    "scrolled": true
   },
   "outputs": [],
   "source": [
    "data['Release_Year'] = pd.DatetimeIndex(data['release_date']).year # The release_date column is formatted in a way\n",
    "                                                                   # that pandas can recognize so use .year method to\n",
    "                                                                   # make a new Release_Year column."
   ]
  },
  {
   "cell_type": "markdown",
   "metadata": {},
   "source": [
    "#### Recasting Worldwide Gross as an Integer:"
   ]
  },
  {
   "cell_type": "markdown",
   "metadata": {},
   "source": [
    "Currently our worldwide_gross column in an object 'O' datatype due to the string characters -- dollar signs and commas."
   ]
  },
  {
   "cell_type": "code",
   "execution_count": 4,
   "metadata": {},
   "outputs": [
    {
     "data": {
      "text/plain": [
       "dtype('O')"
      ]
     },
     "execution_count": 4,
     "metadata": {},
     "output_type": "execute_result"
    }
   ],
   "source": [
    "data.worldwide_gross.dtype"
   ]
  },
  {
   "cell_type": "markdown",
   "metadata": {},
   "source": [
    "Let's strip the dollar signs and remove commas. Then we can recast the column as a numerical value, 'int64'."
   ]
  },
  {
   "cell_type": "code",
   "execution_count": 5,
   "metadata": {},
   "outputs": [],
   "source": [
    "data['worldwide_gross'] = data['worldwide_gross'].str.strip('$')        # Strip dollar signs. \n",
    "data['worldwide_gross'] = data['worldwide_gross'].str.replace(',', '')  # Remove commas.\n",
    "data['worldwide_gross'] = data['worldwide_gross'].astype('int64')       # Recast as numerical data type. "
   ]
  },
  {
   "cell_type": "markdown",
   "metadata": {},
   "source": [
    "Type check to confirm our new column data type."
   ]
  },
  {
   "cell_type": "code",
   "execution_count": 6,
   "metadata": {
    "scrolled": true
   },
   "outputs": [
    {
     "data": {
      "text/plain": [
       "dtype('int64')"
      ]
     },
     "execution_count": 6,
     "metadata": {},
     "output_type": "execute_result"
    }
   ],
   "source": [
    "data.worldwide_gross.dtype"
   ]
  },
  {
   "cell_type": "markdown",
   "metadata": {},
   "source": [
    "#### Re-examine our data:"
   ]
  },
  {
   "cell_type": "markdown",
   "metadata": {},
   "source": [
    "As we can see, our worldwide_gross column is now just numbers and we have a new Release_Year column. "
   ]
  },
  {
   "cell_type": "code",
   "execution_count": 7,
   "metadata": {},
   "outputs": [
    {
     "data": {
      "text/html": [
       "<div>\n",
       "<style scoped>\n",
       "    .dataframe tbody tr th:only-of-type {\n",
       "        vertical-align: middle;\n",
       "    }\n",
       "\n",
       "    .dataframe tbody tr th {\n",
       "        vertical-align: top;\n",
       "    }\n",
       "\n",
       "    .dataframe thead th {\n",
       "        text-align: right;\n",
       "    }\n",
       "</style>\n",
       "<table border=\"1\" class=\"dataframe\">\n",
       "  <thead>\n",
       "    <tr style=\"text-align: right;\">\n",
       "      <th></th>\n",
       "      <th>id</th>\n",
       "      <th>release_date</th>\n",
       "      <th>movie</th>\n",
       "      <th>production_budget</th>\n",
       "      <th>domestic_gross</th>\n",
       "      <th>worldwide_gross</th>\n",
       "      <th>Release_Year</th>\n",
       "    </tr>\n",
       "  </thead>\n",
       "  <tbody>\n",
       "    <tr>\n",
       "      <th>0</th>\n",
       "      <td>1</td>\n",
       "      <td>Dec 18, 2009</td>\n",
       "      <td>Avatar</td>\n",
       "      <td>$425,000,000</td>\n",
       "      <td>$760,507,625</td>\n",
       "      <td>2776345279</td>\n",
       "      <td>2009</td>\n",
       "    </tr>\n",
       "    <tr>\n",
       "      <th>1</th>\n",
       "      <td>2</td>\n",
       "      <td>May 20, 2011</td>\n",
       "      <td>Pirates of the Caribbean: On Stranger Tides</td>\n",
       "      <td>$410,600,000</td>\n",
       "      <td>$241,063,875</td>\n",
       "      <td>1045663875</td>\n",
       "      <td>2011</td>\n",
       "    </tr>\n",
       "    <tr>\n",
       "      <th>2</th>\n",
       "      <td>3</td>\n",
       "      <td>Jun 7, 2019</td>\n",
       "      <td>Dark Phoenix</td>\n",
       "      <td>$350,000,000</td>\n",
       "      <td>$42,762,350</td>\n",
       "      <td>149762350</td>\n",
       "      <td>2019</td>\n",
       "    </tr>\n",
       "    <tr>\n",
       "      <th>3</th>\n",
       "      <td>4</td>\n",
       "      <td>May 1, 2015</td>\n",
       "      <td>Avengers: Age of Ultron</td>\n",
       "      <td>$330,600,000</td>\n",
       "      <td>$459,005,868</td>\n",
       "      <td>1403013963</td>\n",
       "      <td>2015</td>\n",
       "    </tr>\n",
       "    <tr>\n",
       "      <th>4</th>\n",
       "      <td>5</td>\n",
       "      <td>Dec 15, 2017</td>\n",
       "      <td>Star Wars Ep. VIII: The Last Jedi</td>\n",
       "      <td>$317,000,000</td>\n",
       "      <td>$620,181,382</td>\n",
       "      <td>1316721747</td>\n",
       "      <td>2017</td>\n",
       "    </tr>\n",
       "    <tr>\n",
       "      <th>...</th>\n",
       "      <td>...</td>\n",
       "      <td>...</td>\n",
       "      <td>...</td>\n",
       "      <td>...</td>\n",
       "      <td>...</td>\n",
       "      <td>...</td>\n",
       "      <td>...</td>\n",
       "    </tr>\n",
       "    <tr>\n",
       "      <th>5777</th>\n",
       "      <td>78</td>\n",
       "      <td>Dec 31, 2018</td>\n",
       "      <td>Red 11</td>\n",
       "      <td>$7,000</td>\n",
       "      <td>$0</td>\n",
       "      <td>0</td>\n",
       "      <td>2018</td>\n",
       "    </tr>\n",
       "    <tr>\n",
       "      <th>5778</th>\n",
       "      <td>79</td>\n",
       "      <td>Apr 2, 1999</td>\n",
       "      <td>Following</td>\n",
       "      <td>$6,000</td>\n",
       "      <td>$48,482</td>\n",
       "      <td>240495</td>\n",
       "      <td>1999</td>\n",
       "    </tr>\n",
       "    <tr>\n",
       "      <th>5779</th>\n",
       "      <td>80</td>\n",
       "      <td>Jul 13, 2005</td>\n",
       "      <td>Return to the Land of Wonders</td>\n",
       "      <td>$5,000</td>\n",
       "      <td>$1,338</td>\n",
       "      <td>1338</td>\n",
       "      <td>2005</td>\n",
       "    </tr>\n",
       "    <tr>\n",
       "      <th>5780</th>\n",
       "      <td>81</td>\n",
       "      <td>Sep 29, 2015</td>\n",
       "      <td>A Plague So Pleasant</td>\n",
       "      <td>$1,400</td>\n",
       "      <td>$0</td>\n",
       "      <td>0</td>\n",
       "      <td>2015</td>\n",
       "    </tr>\n",
       "    <tr>\n",
       "      <th>5781</th>\n",
       "      <td>82</td>\n",
       "      <td>Aug 5, 2005</td>\n",
       "      <td>My Date With Drew</td>\n",
       "      <td>$1,100</td>\n",
       "      <td>$181,041</td>\n",
       "      <td>181041</td>\n",
       "      <td>2005</td>\n",
       "    </tr>\n",
       "  </tbody>\n",
       "</table>\n",
       "<p>5782 rows × 7 columns</p>\n",
       "</div>"
      ],
      "text/plain": [
       "      id  release_date                                        movie  \\\n",
       "0      1  Dec 18, 2009                                       Avatar   \n",
       "1      2  May 20, 2011  Pirates of the Caribbean: On Stranger Tides   \n",
       "2      3   Jun 7, 2019                                 Dark Phoenix   \n",
       "3      4   May 1, 2015                      Avengers: Age of Ultron   \n",
       "4      5  Dec 15, 2017            Star Wars Ep. VIII: The Last Jedi   \n",
       "...   ..           ...                                          ...   \n",
       "5777  78  Dec 31, 2018                                       Red 11   \n",
       "5778  79   Apr 2, 1999                                    Following   \n",
       "5779  80  Jul 13, 2005                Return to the Land of Wonders   \n",
       "5780  81  Sep 29, 2015                         A Plague So Pleasant   \n",
       "5781  82   Aug 5, 2005                            My Date With Drew   \n",
       "\n",
       "     production_budget domestic_gross  worldwide_gross  Release_Year  \n",
       "0         $425,000,000   $760,507,625       2776345279          2009  \n",
       "1         $410,600,000   $241,063,875       1045663875          2011  \n",
       "2         $350,000,000    $42,762,350        149762350          2019  \n",
       "3         $330,600,000   $459,005,868       1403013963          2015  \n",
       "4         $317,000,000   $620,181,382       1316721747          2017  \n",
       "...                ...            ...              ...           ...  \n",
       "5777            $7,000             $0                0          2018  \n",
       "5778            $6,000        $48,482           240495          1999  \n",
       "5779            $5,000         $1,338             1338          2005  \n",
       "5780            $1,400             $0                0          2015  \n",
       "5781            $1,100       $181,041           181041          2005  \n",
       "\n",
       "[5782 rows x 7 columns]"
      ]
     },
     "execution_count": 7,
     "metadata": {},
     "output_type": "execute_result"
    }
   ],
   "source": [
    "data"
   ]
  },
  {
   "cell_type": "markdown",
   "metadata": {},
   "source": [
    "### Visualization: "
   ]
  },
  {
   "cell_type": "markdown",
   "metadata": {},
   "source": [
    "Now we can start to visualize. We selected a regplot so we can examine the univariate distributions of each variable in addition to the scatter plot between them. We used manually selected y-axis ticks to highlight the exponential growth of worldwide revenue. "
   ]
  },
  {
   "cell_type": "code",
   "execution_count": 8,
   "metadata": {
    "scrolled": false
   },
   "outputs": [
    {
     "data": {
      "image/png": "[encoded data removed]",
      "text/plain": [
       "<Figure size 576x576 with 3 Axes>"
      ]
     },
     "metadata": {
      "needs_background": "light"
     },
     "output_type": "display_data"
    }
   ],
   "source": [
    "graph = sns.jointplot(x = 'Release_Year', y = 'worldwide_gross', data = data, kind = 'reg', height = 8, scatter_kws={'alpha':0.3})\n",
    "graph.set_axis_labels('Year Released', 'World Wide Gross in billions') # Set axis labels.\n",
    "graph.ax_joint.set_yticks([0, 100000000, 250000000, 500000000, 1000000000, 2000000000, 3000000000]) # Set custom ticks.\n",
    "plt.text(2005,2650000000,'Avatar', color = 'royalblue') # Add text for Avatar.\n",
    "sns.despine()"
   ]
  },
  {
   "cell_type": "markdown",
   "metadata": {},
   "source": [
    "Movie revenue has grown exponentially in the last hundred years. The top distribution plot of movies per year also illustrate the growing number of films produced every year. As the revenue has increased, producers are eager to take a slice of the earnings. However, the distribution plot of movies per revenue highlight the fact that the vast majority of films make very little money (~ $100,000,000) compared to blockbusters like Avatar, which earned 2.7 billion. "
   ]
  },
  {
   "cell_type": "markdown",
   "metadata": {},
   "source": [
    "### Insights:"
   ]
  },
  {
   "cell_type": "markdown",
   "metadata": {},
   "source": [
    "There has been a drastic increase in the potential earnings from a feature film, especially in the last twenty years. A handful of films have worldwide earnings of more than 1.5 billion dollars. However, the vast majority of films have earned less than 100 million."
   ]
  },
  {
   "cell_type": "markdown",
   "metadata": {},
   "source": [
    "======================================================================================================================"
   ]
  },
  {
   "cell_type": "markdown",
   "metadata": {},
   "source": [
    "# Exploratory Data Analysis: ROI for Budget"
   ]
  },
  {
   "cell_type": "markdown",
   "metadata": {},
   "source": [
    "While we've seen that movie revenue has been increasing over time, movies are also more expensive to make now than they used to be. With the advent of CGI and greenscreen technology, blockbuster budgets have also increased exponentially. Let's see how that affects a movie's earning potential."
   ]
  },
  {
   "cell_type": "markdown",
   "metadata": {},
   "source": [
    "### Libraries to import:"
   ]
  },
  {
   "cell_type": "code",
   "execution_count": 9,
   "metadata": {},
   "outputs": [],
   "source": [
    "import pandas as pd\n",
    "import seaborn as sns\n",
    "sns.set_palette(\"muted\")\n",
    "import matplotlib.pyplot as plt\n",
    "import numpy as np\n",
    "%matplotlib inline"
   ]
  },
  {
   "cell_type": "markdown",
   "metadata": {},
   "source": [
    "### Concatenate Scraped Movie Data by Decade:"
   ]
  },
  {
   "cell_type": "markdown",
   "metadata": {},
   "source": [
    "Let's start by creating a dataframe consisting of webscraped data from IMDB for the top 300 movies from each year going back to 1960. We will concatenate each decade's csv file into one. "
   ]
  },
  {
   "cell_type": "code",
   "execution_count": 10,
   "metadata": {},
   "outputs": [],
   "source": [
    "sixties = pd.read_csv('zippedData/1960_1970.csv')"
   ]
  },
  {
   "cell_type": "code",
   "execution_count": 11,
   "metadata": {
    "scrolled": true
   },
   "outputs": [],
   "source": [
    "seventies = pd.read_csv('zippedData/1971_1980.csv')"
   ]
  },
  {
   "cell_type": "code",
   "execution_count": 12,
   "metadata": {
    "scrolled": true
   },
   "outputs": [],
   "source": [
    "eighties = pd.read_csv('zippedData/1981_1990.csv')"
   ]
  },
  {
   "cell_type": "code",
   "execution_count": 13,
   "metadata": {},
   "outputs": [],
   "source": [
    "nineties = pd.read_csv('zippedData/1991_2000.csv')"
   ]
  },
  {
   "cell_type": "code",
   "execution_count": 14,
   "metadata": {},
   "outputs": [],
   "source": [
    "aughts = pd.read_csv('zippedData/2001_2010.csv')"
   ]
  },
  {
   "cell_type": "code",
   "execution_count": 15,
   "metadata": {},
   "outputs": [],
   "source": [
    "teens = pd.read_csv('zippedData/2011_2020.csv')"
   ]
  },
  {
   "cell_type": "code",
   "execution_count": 16,
   "metadata": {},
   "outputs": [
    {
     "data": {
      "text/html": [
       "<div>\n",
       "<style scoped>\n",
       "    .dataframe tbody tr th:only-of-type {\n",
       "        vertical-align: middle;\n",
       "    }\n",
       "\n",
       "    .dataframe tbody tr th {\n",
       "        vertical-align: top;\n",
       "    }\n",
       "\n",
       "    .dataframe thead th {\n",
       "        text-align: right;\n",
       "    }\n",
       "</style>\n",
       "<table border=\"1\" class=\"dataframe\">\n",
       "  <thead>\n",
       "    <tr style=\"text-align: right;\">\n",
       "      <th></th>\n",
       "      <th>url</th>\n",
       "      <th>title</th>\n",
       "      <th>year</th>\n",
       "      <th>genre</th>\n",
       "      <th>gross_usa</th>\n",
       "      <th>budget</th>\n",
       "      <th>worldwide_gross</th>\n",
       "      <th>pg_rated</th>\n",
       "      <th>rating</th>\n",
       "      <th>rating_pop</th>\n",
       "    </tr>\n",
       "  </thead>\n",
       "  <tbody>\n",
       "    <tr>\n",
       "      <th>0</th>\n",
       "      <td>https://www.imdb.com/title/tt0054215/</td>\n",
       "      <td>Psycho</td>\n",
       "      <td>1960</td>\n",
       "      <td>['Horror', 'Mystery', 'Thriller']</td>\n",
       "      <td>$32,000,000</td>\n",
       "      <td>$806,947</td>\n",
       "      <td>$32,000,000</td>\n",
       "      <td>NaN</td>\n",
       "      <td>8.5</td>\n",
       "      <td>580,863</td>\n",
       "    </tr>\n",
       "    <tr>\n",
       "      <th>1</th>\n",
       "      <td>https://www.imdb.com/title/tt0054047/</td>\n",
       "      <td>The Magnificent Seven</td>\n",
       "      <td>1960</td>\n",
       "      <td>['Action', 'Adventure', 'Western']</td>\n",
       "      <td>NaN</td>\n",
       "      <td>$2,000,000</td>\n",
       "      <td>NaN</td>\n",
       "      <td>NaN</td>\n",
       "      <td>7.7</td>\n",
       "      <td>85,315</td>\n",
       "    </tr>\n",
       "    <tr>\n",
       "      <th>2</th>\n",
       "      <td>https://www.imdb.com/title/tt0054331/</td>\n",
       "      <td>Spartacus</td>\n",
       "      <td>1960</td>\n",
       "      <td>['Adventure', 'Biography', 'Drama', 'History',...</td>\n",
       "      <td>$1,830,650</td>\n",
       "      <td>$12,000,000</td>\n",
       "      <td>$1,836,351</td>\n",
       "      <td>NaN</td>\n",
       "      <td>7.9</td>\n",
       "      <td>120,895</td>\n",
       "    </tr>\n",
       "    <tr>\n",
       "      <th>3</th>\n",
       "      <td>https://www.imdb.com/title/tt0053604/</td>\n",
       "      <td>The Apartment</td>\n",
       "      <td>1960</td>\n",
       "      <td>['Comedy', 'Drama', 'Romance']</td>\n",
       "      <td>NaN</td>\n",
       "      <td>$3,000,000</td>\n",
       "      <td>$177,066</td>\n",
       "      <td>NaN</td>\n",
       "      <td>8.3</td>\n",
       "      <td>157,134</td>\n",
       "    </tr>\n",
       "    <tr>\n",
       "      <th>4</th>\n",
       "      <td>https://www.imdb.com/title/tt0053917/</td>\n",
       "      <td>Home from the Hill</td>\n",
       "      <td>1960</td>\n",
       "      <td>['Drama', 'Romance']</td>\n",
       "      <td>NaN</td>\n",
       "      <td>$1,818,688</td>\n",
       "      <td>NaN</td>\n",
       "      <td>NaN</td>\n",
       "      <td>7.4</td>\n",
       "      <td>2,864</td>\n",
       "    </tr>\n",
       "    <tr>\n",
       "      <th>...</th>\n",
       "      <td>...</td>\n",
       "      <td>...</td>\n",
       "      <td>...</td>\n",
       "      <td>...</td>\n",
       "      <td>...</td>\n",
       "      <td>...</td>\n",
       "      <td>...</td>\n",
       "      <td>...</td>\n",
       "      <td>...</td>\n",
       "      <td>...</td>\n",
       "    </tr>\n",
       "    <tr>\n",
       "      <th>2995</th>\n",
       "      <td>https://www.imdb.com/title/tt7541720/</td>\n",
       "      <td>Music</td>\n",
       "      <td>2020</td>\n",
       "      <td>['Drama']</td>\n",
       "      <td>NaN</td>\n",
       "      <td>NaN</td>\n",
       "      <td>NaN</td>\n",
       "      <td>PG-13</td>\n",
       "      <td>NaN</td>\n",
       "      <td>NaN</td>\n",
       "    </tr>\n",
       "    <tr>\n",
       "      <th>2996</th>\n",
       "      <td>https://www.imdb.com/title/tt5867314/</td>\n",
       "      <td>The Empty Man</td>\n",
       "      <td>2020</td>\n",
       "      <td>['Crime', 'Drama', 'Horror', 'Mystery', 'Thril...</td>\n",
       "      <td>NaN</td>\n",
       "      <td>NaN</td>\n",
       "      <td>NaN</td>\n",
       "      <td>R</td>\n",
       "      <td>NaN</td>\n",
       "      <td>NaN</td>\n",
       "    </tr>\n",
       "    <tr>\n",
       "      <th>2997</th>\n",
       "      <td>https://www.imdb.com/title/tt5714470/</td>\n",
       "      <td>Come Away</td>\n",
       "      <td>2020</td>\n",
       "      <td>['Adventure', 'Drama', 'Fantasy']</td>\n",
       "      <td>NaN</td>\n",
       "      <td>NaN</td>\n",
       "      <td>NaN</td>\n",
       "      <td>NaN</td>\n",
       "      <td>6.6</td>\n",
       "      <td>27</td>\n",
       "    </tr>\n",
       "    <tr>\n",
       "      <th>2998</th>\n",
       "      <td>https://www.imdb.com/title/tt6559576/</td>\n",
       "      <td>Selfie Dad</td>\n",
       "      <td>2020</td>\n",
       "      <td>['Comedy', 'Family']</td>\n",
       "      <td>NaN</td>\n",
       "      <td>NaN</td>\n",
       "      <td>NaN</td>\n",
       "      <td>PG</td>\n",
       "      <td>3.7</td>\n",
       "      <td>83</td>\n",
       "    </tr>\n",
       "    <tr>\n",
       "      <th>2999</th>\n",
       "      <td>https://www.imdb.com/title/tt9614452/</td>\n",
       "      <td>The Big Bull</td>\n",
       "      <td>2020</td>\n",
       "      <td>['Crime', 'Drama']</td>\n",
       "      <td>NaN</td>\n",
       "      <td>NaN</td>\n",
       "      <td>NaN</td>\n",
       "      <td>NaN</td>\n",
       "      <td>NaN</td>\n",
       "      <td>NaN</td>\n",
       "    </tr>\n",
       "  </tbody>\n",
       "</table>\n",
       "<p>18300 rows × 10 columns</p>\n",
       "</div>"
      ],
      "text/plain": [
       "                                        url                  title  year  \\\n",
       "0     https://www.imdb.com/title/tt0054215/                 Psycho  1960   \n",
       "1     https://www.imdb.com/title/tt0054047/  The Magnificent Seven  1960   \n",
       "2     https://www.imdb.com/title/tt0054331/              Spartacus  1960   \n",
       "3     https://www.imdb.com/title/tt0053604/          The Apartment  1960   \n",
       "4     https://www.imdb.com/title/tt0053917/     Home from the Hill  1960   \n",
       "...                                     ...                    ...   ...   \n",
       "2995  https://www.imdb.com/title/tt7541720/                  Music  2020   \n",
       "2996  https://www.imdb.com/title/tt5867314/          The Empty Man  2020   \n",
       "2997  https://www.imdb.com/title/tt5714470/              Come Away  2020   \n",
       "2998  https://www.imdb.com/title/tt6559576/             Selfie Dad  2020   \n",
       "2999  https://www.imdb.com/title/tt9614452/           The Big Bull  2020   \n",
       "\n",
       "                                                  genre    gross_usa  \\\n",
       "0                     ['Horror', 'Mystery', 'Thriller']  $32,000,000   \n",
       "1                    ['Action', 'Adventure', 'Western']          NaN   \n",
       "2     ['Adventure', 'Biography', 'Drama', 'History',...   $1,830,650   \n",
       "3                        ['Comedy', 'Drama', 'Romance']          NaN   \n",
       "4                                  ['Drama', 'Romance']          NaN   \n",
       "...                                                 ...          ...   \n",
       "2995                                          ['Drama']          NaN   \n",
       "2996  ['Crime', 'Drama', 'Horror', 'Mystery', 'Thril...          NaN   \n",
       "2997                  ['Adventure', 'Drama', 'Fantasy']          NaN   \n",
       "2998                               ['Comedy', 'Family']          NaN   \n",
       "2999                                 ['Crime', 'Drama']          NaN   \n",
       "\n",
       "           budget worldwide_gross pg_rated  rating rating_pop  \n",
       "0        $806,947     $32,000,000      NaN     8.5    580,863  \n",
       "1      $2,000,000             NaN      NaN     7.7     85,315  \n",
       "2     $12,000,000      $1,836,351      NaN     7.9    120,895  \n",
       "3      $3,000,000        $177,066      NaN     8.3    157,134  \n",
       "4      $1,818,688             NaN      NaN     7.4      2,864  \n",
       "...           ...             ...      ...     ...        ...  \n",
       "2995          NaN             NaN    PG-13     NaN        NaN  \n",
       "2996          NaN             NaN        R     NaN        NaN  \n",
       "2997          NaN             NaN      NaN     6.6         27  \n",
       "2998          NaN             NaN       PG     3.7         83  \n",
       "2999          NaN             NaN      NaN     NaN        NaN  \n",
       "\n",
       "[18300 rows x 10 columns]"
      ]
     },
     "execution_count": 16,
     "metadata": {},
     "output_type": "execute_result"
    }
   ],
   "source": [
    "combined = sixties.append([seventies, eighties, nineties, aughts, teens])\n",
    "combined"
   ]
  },
  {
   "cell_type": "markdown",
   "metadata": {},
   "source": [
    "### Examine DataFrame and Preliminary Cleaning:"
   ]
  },
  {
   "cell_type": "markdown",
   "metadata": {},
   "source": [
    "18,000 entries, not bad."
   ]
  },
  {
   "cell_type": "code",
   "execution_count": 17,
   "metadata": {},
   "outputs": [
    {
     "data": {
      "text/plain": [
       "(18300, 10)"
      ]
     },
     "execution_count": 17,
     "metadata": {},
     "output_type": "execute_result"
    }
   ],
   "source": [
    "combined.shape"
   ]
  },
  {
   "cell_type": "code",
   "execution_count": 18,
   "metadata": {},
   "outputs": [
    {
     "data": {
      "text/plain": [
       "Index(['url', 'title', 'year', 'genre', 'gross_usa', 'budget',\n",
       "       'worldwide_gross', 'pg_rated', 'rating', 'rating_pop'],\n",
       "      dtype='object')"
      ]
     },
     "execution_count": 18,
     "metadata": {},
     "output_type": "execute_result"
    }
   ],
   "source": [
    "combined.columns"
   ]
  },
  {
   "cell_type": "markdown",
   "metadata": {},
   "source": [
    "Because we are combining multiple dataframes they will have shared indexes. So let's reset the index and remove the old column this will create."
   ]
  },
  {
   "cell_type": "code",
   "execution_count": 19,
   "metadata": {},
   "outputs": [],
   "source": [
    "combined.reset_index(inplace=True)"
   ]
  },
  {
   "cell_type": "code",
   "execution_count": 20,
   "metadata": {},
   "outputs": [],
   "source": [
    "combined = combined.drop('index', axis=1)"
   ]
  },
  {
   "cell_type": "code",
   "execution_count": 21,
   "metadata": {},
   "outputs": [
    {
     "data": {
      "text/html": [
       "<div>\n",
       "<style scoped>\n",
       "    .dataframe tbody tr th:only-of-type {\n",
       "        vertical-align: middle;\n",
       "    }\n",
       "\n",
       "    .dataframe tbody tr th {\n",
       "        vertical-align: top;\n",
       "    }\n",
       "\n",
       "    .dataframe thead th {\n",
       "        text-align: right;\n",
       "    }\n",
       "</style>\n",
       "<table border=\"1\" class=\"dataframe\">\n",
       "  <thead>\n",
       "    <tr style=\"text-align: right;\">\n",
       "      <th></th>\n",
       "      <th>url</th>\n",
       "      <th>title</th>\n",
       "      <th>year</th>\n",
       "      <th>genre</th>\n",
       "      <th>gross_usa</th>\n",
       "      <th>budget</th>\n",
       "      <th>worldwide_gross</th>\n",
       "      <th>pg_rated</th>\n",
       "      <th>rating</th>\n",
       "      <th>rating_pop</th>\n",
       "    </tr>\n",
       "  </thead>\n",
       "  <tbody>\n",
       "    <tr>\n",
       "      <th>0</th>\n",
       "      <td>https://www.imdb.com/title/tt0054215/</td>\n",
       "      <td>Psycho</td>\n",
       "      <td>1960</td>\n",
       "      <td>['Horror', 'Mystery', 'Thriller']</td>\n",
       "      <td>$32,000,000</td>\n",
       "      <td>$806,947</td>\n",
       "      <td>$32,000,000</td>\n",
       "      <td>NaN</td>\n",
       "      <td>8.5</td>\n",
       "      <td>580,863</td>\n",
       "    </tr>\n",
       "    <tr>\n",
       "      <th>1</th>\n",
       "      <td>https://www.imdb.com/title/tt0054047/</td>\n",
       "      <td>The Magnificent Seven</td>\n",
       "      <td>1960</td>\n",
       "      <td>['Action', 'Adventure', 'Western']</td>\n",
       "      <td>NaN</td>\n",
       "      <td>$2,000,000</td>\n",
       "      <td>NaN</td>\n",
       "      <td>NaN</td>\n",
       "      <td>7.7</td>\n",
       "      <td>85,315</td>\n",
       "    </tr>\n",
       "    <tr>\n",
       "      <th>2</th>\n",
       "      <td>https://www.imdb.com/title/tt0054331/</td>\n",
       "      <td>Spartacus</td>\n",
       "      <td>1960</td>\n",
       "      <td>['Adventure', 'Biography', 'Drama', 'History',...</td>\n",
       "      <td>$1,830,650</td>\n",
       "      <td>$12,000,000</td>\n",
       "      <td>$1,836,351</td>\n",
       "      <td>NaN</td>\n",
       "      <td>7.9</td>\n",
       "      <td>120,895</td>\n",
       "    </tr>\n",
       "    <tr>\n",
       "      <th>3</th>\n",
       "      <td>https://www.imdb.com/title/tt0053604/</td>\n",
       "      <td>The Apartment</td>\n",
       "      <td>1960</td>\n",
       "      <td>['Comedy', 'Drama', 'Romance']</td>\n",
       "      <td>NaN</td>\n",
       "      <td>$3,000,000</td>\n",
       "      <td>$177,066</td>\n",
       "      <td>NaN</td>\n",
       "      <td>8.3</td>\n",
       "      <td>157,134</td>\n",
       "    </tr>\n",
       "    <tr>\n",
       "      <th>4</th>\n",
       "      <td>https://www.imdb.com/title/tt0053917/</td>\n",
       "      <td>Home from the Hill</td>\n",
       "      <td>1960</td>\n",
       "      <td>['Drama', 'Romance']</td>\n",
       "      <td>NaN</td>\n",
       "      <td>$1,818,688</td>\n",
       "      <td>NaN</td>\n",
       "      <td>NaN</td>\n",
       "      <td>7.4</td>\n",
       "      <td>2,864</td>\n",
       "    </tr>\n",
       "    <tr>\n",
       "      <th>...</th>\n",
       "      <td>...</td>\n",
       "      <td>...</td>\n",
       "      <td>...</td>\n",
       "      <td>...</td>\n",
       "      <td>...</td>\n",
       "      <td>...</td>\n",
       "      <td>...</td>\n",
       "      <td>...</td>\n",
       "      <td>...</td>\n",
       "      <td>...</td>\n",
       "    </tr>\n",
       "    <tr>\n",
       "      <th>18295</th>\n",
       "      <td>https://www.imdb.com/title/tt7541720/</td>\n",
       "      <td>Music</td>\n",
       "      <td>2020</td>\n",
       "      <td>['Drama']</td>\n",
       "      <td>NaN</td>\n",
       "      <td>NaN</td>\n",
       "      <td>NaN</td>\n",
       "      <td>PG-13</td>\n",
       "      <td>NaN</td>\n",
       "      <td>NaN</td>\n",
       "    </tr>\n",
       "    <tr>\n",
       "      <th>18296</th>\n",
       "      <td>https://www.imdb.com/title/tt5867314/</td>\n",
       "      <td>The Empty Man</td>\n",
       "      <td>2020</td>\n",
       "      <td>['Crime', 'Drama', 'Horror', 'Mystery', 'Thril...</td>\n",
       "      <td>NaN</td>\n",
       "      <td>NaN</td>\n",
       "      <td>NaN</td>\n",
       "      <td>R</td>\n",
       "      <td>NaN</td>\n",
       "      <td>NaN</td>\n",
       "    </tr>\n",
       "    <tr>\n",
       "      <th>18297</th>\n",
       "      <td>https://www.imdb.com/title/tt5714470/</td>\n",
       "      <td>Come Away</td>\n",
       "      <td>2020</td>\n",
       "      <td>['Adventure', 'Drama', 'Fantasy']</td>\n",
       "      <td>NaN</td>\n",
       "      <td>NaN</td>\n",
       "      <td>NaN</td>\n",
       "      <td>NaN</td>\n",
       "      <td>6.6</td>\n",
       "      <td>27</td>\n",
       "    </tr>\n",
       "    <tr>\n",
       "      <th>18298</th>\n",
       "      <td>https://www.imdb.com/title/tt6559576/</td>\n",
       "      <td>Selfie Dad</td>\n",
       "      <td>2020</td>\n",
       "      <td>['Comedy', 'Family']</td>\n",
       "      <td>NaN</td>\n",
       "      <td>NaN</td>\n",
       "      <td>NaN</td>\n",
       "      <td>PG</td>\n",
       "      <td>3.7</td>\n",
       "      <td>83</td>\n",
       "    </tr>\n",
       "    <tr>\n",
       "      <th>18299</th>\n",
       "      <td>https://www.imdb.com/title/tt9614452/</td>\n",
       "      <td>The Big Bull</td>\n",
       "      <td>2020</td>\n",
       "      <td>['Crime', 'Drama']</td>\n",
       "      <td>NaN</td>\n",
       "      <td>NaN</td>\n",
       "      <td>NaN</td>\n",
       "      <td>NaN</td>\n",
       "      <td>NaN</td>\n",
       "      <td>NaN</td>\n",
       "    </tr>\n",
       "  </tbody>\n",
       "</table>\n",
       "<p>18300 rows × 10 columns</p>\n",
       "</div>"
      ],
      "text/plain": [
       "                                         url                  title  year  \\\n",
       "0      https://www.imdb.com/title/tt0054215/                 Psycho  1960   \n",
       "1      https://www.imdb.com/title/tt0054047/  The Magnificent Seven  1960   \n",
       "2      https://www.imdb.com/title/tt0054331/              Spartacus  1960   \n",
       "3      https://www.imdb.com/title/tt0053604/          The Apartment  1960   \n",
       "4      https://www.imdb.com/title/tt0053917/     Home from the Hill  1960   \n",
       "...                                      ...                    ...   ...   \n",
       "18295  https://www.imdb.com/title/tt7541720/                  Music  2020   \n",
       "18296  https://www.imdb.com/title/tt5867314/          The Empty Man  2020   \n",
       "18297  https://www.imdb.com/title/tt5714470/              Come Away  2020   \n",
       "18298  https://www.imdb.com/title/tt6559576/             Selfie Dad  2020   \n",
       "18299  https://www.imdb.com/title/tt9614452/           The Big Bull  2020   \n",
       "\n",
       "                                                   genre    gross_usa  \\\n",
       "0                      ['Horror', 'Mystery', 'Thriller']  $32,000,000   \n",
       "1                     ['Action', 'Adventure', 'Western']          NaN   \n",
       "2      ['Adventure', 'Biography', 'Drama', 'History',...   $1,830,650   \n",
       "3                         ['Comedy', 'Drama', 'Romance']          NaN   \n",
       "4                                   ['Drama', 'Romance']          NaN   \n",
       "...                                                  ...          ...   \n",
       "18295                                          ['Drama']          NaN   \n",
       "18296  ['Crime', 'Drama', 'Horror', 'Mystery', 'Thril...          NaN   \n",
       "18297                  ['Adventure', 'Drama', 'Fantasy']          NaN   \n",
       "18298                               ['Comedy', 'Family']          NaN   \n",
       "18299                                 ['Crime', 'Drama']          NaN   \n",
       "\n",
       "            budget worldwide_gross pg_rated  rating rating_pop  \n",
       "0         $806,947     $32,000,000      NaN     8.5    580,863  \n",
       "1       $2,000,000             NaN      NaN     7.7     85,315  \n",
       "2      $12,000,000      $1,836,351      NaN     7.9    120,895  \n",
       "3       $3,000,000        $177,066      NaN     8.3    157,134  \n",
       "4       $1,818,688             NaN      NaN     7.4      2,864  \n",
       "...            ...             ...      ...     ...        ...  \n",
       "18295          NaN             NaN    PG-13     NaN        NaN  \n",
       "18296          NaN             NaN        R     NaN        NaN  \n",
       "18297          NaN             NaN      NaN     6.6         27  \n",
       "18298          NaN             NaN       PG     3.7         83  \n",
       "18299          NaN             NaN      NaN     NaN        NaN  \n",
       "\n",
       "[18300 rows x 10 columns]"
      ]
     },
     "execution_count": 21,
     "metadata": {},
     "output_type": "execute_result"
    }
   ],
   "source": [
    "combined"
   ]
  },
  {
   "cell_type": "markdown",
   "metadata": {},
   "source": [
    "### Data Cleaning:"
   ]
  },
  {
   "cell_type": "markdown",
   "metadata": {},
   "source": [
    "#### Check for Missing Values:"
   ]
  },
  {
   "cell_type": "code",
   "execution_count": 22,
   "metadata": {
    "scrolled": true
   },
   "outputs": [
    {
     "data": {
      "text/plain": [
       "url                    0\n",
       "title                  0\n",
       "year                   0\n",
       "genre                  5\n",
       "gross_usa           8893\n",
       "budget              9547\n",
       "worldwide_gross     8212\n",
       "pg_rated           11061\n",
       "rating               117\n",
       "rating_pop           117\n",
       "dtype: int64"
      ]
     },
     "execution_count": 22,
     "metadata": {},
     "output_type": "execute_result"
    }
   ],
   "source": [
    "combined.isnull().sum()"
   ]
  },
  {
   "cell_type": "markdown",
   "metadata": {},
   "source": [
    "#### Remove Dollar Signs and Commas from Currency Columns:"
   ]
  },
  {
   "cell_type": "code",
   "execution_count": 23,
   "metadata": {},
   "outputs": [],
   "source": [
    "combined['worldwide_gross'] = combined['worldwide_gross'].str.strip('$')\n",
    "combined['worldwide_gross'] = combined['worldwide_gross'].str.replace(',', '')\n",
    "\n",
    "combined['budget'] = combined['budget'].str.strip('$')\n",
    "combined['budget'] = combined['budget'].str.replace(',', '')\n",
    "\n",
    "combined['gross_usa'] = combined['gross_usa'].str.strip('$')\n",
    "combined['gross_usa'] = combined['gross_usa'].str.replace(',', '')"
   ]
  },
  {
   "cell_type": "markdown",
   "metadata": {},
   "source": [
    "#### Remove Non-USD Reported Earnings:"
   ]
  },
  {
   "cell_type": "markdown",
   "metadata": {},
   "source": [
    "We removed entries with non-USD reported budgets. This removed about 600 entries of the 18,000. Note that this does not remove all foreign films, just films produced by companies who did not report their budget in USD."
   ]
  },
  {
   "cell_type": "code",
   "execution_count": 24,
   "metadata": {},
   "outputs": [],
   "source": [
    "combined = combined[~combined['budget'].astype(str).str.startswith('SEK')] # Format is redefine the column with all\n",
    "combined = combined[~combined['budget'].astype(str).str.startswith('NOK')] # entries EXCEPT where the entry starts\n",
    "combined = combined[~combined['budget'].astype(str).str.startswith('KRW')] # with the specified currency string.\n",
    "combined = combined[~combined['budget'].astype(str).str.startswith('SGD')]\n",
    "combined = combined[~combined['budget'].astype(str).str.startswith('THB')]\n",
    "combined = combined[~combined['budget'].astype(str).str.startswith('JPY')]\n",
    "combined = combined[~combined['budget'].astype(str).str.startswith('HUF')]\n",
    "combined = combined[~combined['budget'].astype(str).str.startswith('INR')]\n",
    "combined = combined[~combined['budget'].astype(str).str.startswith('GBP')]\n",
    "combined = combined[~combined['budget'].astype(str).str.startswith('HKD')]\n",
    "combined = combined[~combined['budget'].astype(str).str.startswith('FRF')]\n",
    "combined = combined[~combined['budget'].astype(str).str.startswith('EUR')]\n",
    "combined = combined[~combined['budget'].astype(str).str.startswith('FIM')]\n",
    "combined = combined[~combined['budget'].astype(str).str.startswith('DEM')]\n",
    "combined = combined[~combined['budget'].astype(str).str.startswith('DKK')]\n",
    "combined = combined[~combined['budget'].astype(str).str.startswith('CAD')]\n",
    "combined = combined[~combined['budget'].astype(str).str.startswith('ESP')]\n",
    "combined = combined[~combined['budget'].astype(str).str.startswith('AUD')]\n",
    "combined = combined[~combined['budget'].astype(str).str.startswith('BEF')]\n",
    "combined = combined[~combined['budget'].astype(str).str.startswith('CNY')]\n",
    "combined = combined[~combined['budget'].astype(str).str.startswith('ATS')]\n",
    "combined = combined[~combined['budget'].astype(str).str.startswith('BRL')]"
   ]
  },
  {
   "cell_type": "code",
   "execution_count": 25,
   "metadata": {},
   "outputs": [
    {
     "data": {
      "text/html": [
       "<div>\n",
       "<style scoped>\n",
       "    .dataframe tbody tr th:only-of-type {\n",
       "        vertical-align: middle;\n",
       "    }\n",
       "\n",
       "    .dataframe tbody tr th {\n",
       "        vertical-align: top;\n",
       "    }\n",
       "\n",
       "    .dataframe thead th {\n",
       "        text-align: right;\n",
       "    }\n",
       "</style>\n",
       "<table border=\"1\" class=\"dataframe\">\n",
       "  <thead>\n",
       "    <tr style=\"text-align: right;\">\n",
       "      <th></th>\n",
       "      <th>url</th>\n",
       "      <th>title</th>\n",
       "      <th>year</th>\n",
       "      <th>genre</th>\n",
       "      <th>gross_usa</th>\n",
       "      <th>budget</th>\n",
       "      <th>worldwide_gross</th>\n",
       "      <th>pg_rated</th>\n",
       "      <th>rating</th>\n",
       "      <th>rating_pop</th>\n",
       "    </tr>\n",
       "  </thead>\n",
       "  <tbody>\n",
       "    <tr>\n",
       "      <th>0</th>\n",
       "      <td>https://www.imdb.com/title/tt0054215/</td>\n",
       "      <td>Psycho</td>\n",
       "      <td>1960</td>\n",
       "      <td>['Horror', 'Mystery', 'Thriller']</td>\n",
       "      <td>32000000</td>\n",
       "      <td>806947</td>\n",
       "      <td>32000000</td>\n",
       "      <td>NaN</td>\n",
       "      <td>8.5</td>\n",
       "      <td>580,863</td>\n",
       "    </tr>\n",
       "    <tr>\n",
       "      <th>1</th>\n",
       "      <td>https://www.imdb.com/title/tt0054047/</td>\n",
       "      <td>The Magnificent Seven</td>\n",
       "      <td>1960</td>\n",
       "      <td>['Action', 'Adventure', 'Western']</td>\n",
       "      <td>NaN</td>\n",
       "      <td>2000000</td>\n",
       "      <td>NaN</td>\n",
       "      <td>NaN</td>\n",
       "      <td>7.7</td>\n",
       "      <td>85,315</td>\n",
       "    </tr>\n",
       "    <tr>\n",
       "      <th>2</th>\n",
       "      <td>https://www.imdb.com/title/tt0054331/</td>\n",
       "      <td>Spartacus</td>\n",
       "      <td>1960</td>\n",
       "      <td>['Adventure', 'Biography', 'Drama', 'History',...</td>\n",
       "      <td>1830650</td>\n",
       "      <td>12000000</td>\n",
       "      <td>1836351</td>\n",
       "      <td>NaN</td>\n",
       "      <td>7.9</td>\n",
       "      <td>120,895</td>\n",
       "    </tr>\n",
       "    <tr>\n",
       "      <th>3</th>\n",
       "      <td>https://www.imdb.com/title/tt0053604/</td>\n",
       "      <td>The Apartment</td>\n",
       "      <td>1960</td>\n",
       "      <td>['Comedy', 'Drama', 'Romance']</td>\n",
       "      <td>NaN</td>\n",
       "      <td>3000000</td>\n",
       "      <td>177066</td>\n",
       "      <td>NaN</td>\n",
       "      <td>8.3</td>\n",
       "      <td>157,134</td>\n",
       "    </tr>\n",
       "    <tr>\n",
       "      <th>4</th>\n",
       "      <td>https://www.imdb.com/title/tt0053917/</td>\n",
       "      <td>Home from the Hill</td>\n",
       "      <td>1960</td>\n",
       "      <td>['Drama', 'Romance']</td>\n",
       "      <td>NaN</td>\n",
       "      <td>1818688</td>\n",
       "      <td>NaN</td>\n",
       "      <td>NaN</td>\n",
       "      <td>7.4</td>\n",
       "      <td>2,864</td>\n",
       "    </tr>\n",
       "    <tr>\n",
       "      <th>...</th>\n",
       "      <td>...</td>\n",
       "      <td>...</td>\n",
       "      <td>...</td>\n",
       "      <td>...</td>\n",
       "      <td>...</td>\n",
       "      <td>...</td>\n",
       "      <td>...</td>\n",
       "      <td>...</td>\n",
       "      <td>...</td>\n",
       "      <td>...</td>\n",
       "    </tr>\n",
       "    <tr>\n",
       "      <th>18295</th>\n",
       "      <td>https://www.imdb.com/title/tt7541720/</td>\n",
       "      <td>Music</td>\n",
       "      <td>2020</td>\n",
       "      <td>['Drama']</td>\n",
       "      <td>NaN</td>\n",
       "      <td>NaN</td>\n",
       "      <td>NaN</td>\n",
       "      <td>PG-13</td>\n",
       "      <td>NaN</td>\n",
       "      <td>NaN</td>\n",
       "    </tr>\n",
       "    <tr>\n",
       "      <th>18296</th>\n",
       "      <td>https://www.imdb.com/title/tt5867314/</td>\n",
       "      <td>The Empty Man</td>\n",
       "      <td>2020</td>\n",
       "      <td>['Crime', 'Drama', 'Horror', 'Mystery', 'Thril...</td>\n",
       "      <td>NaN</td>\n",
       "      <td>NaN</td>\n",
       "      <td>NaN</td>\n",
       "      <td>R</td>\n",
       "      <td>NaN</td>\n",
       "      <td>NaN</td>\n",
       "    </tr>\n",
       "    <tr>\n",
       "      <th>18297</th>\n",
       "      <td>https://www.imdb.com/title/tt5714470/</td>\n",
       "      <td>Come Away</td>\n",
       "      <td>2020</td>\n",
       "      <td>['Adventure', 'Drama', 'Fantasy']</td>\n",
       "      <td>NaN</td>\n",
       "      <td>NaN</td>\n",
       "      <td>NaN</td>\n",
       "      <td>NaN</td>\n",
       "      <td>6.6</td>\n",
       "      <td>27</td>\n",
       "    </tr>\n",
       "    <tr>\n",
       "      <th>18298</th>\n",
       "      <td>https://www.imdb.com/title/tt6559576/</td>\n",
       "      <td>Selfie Dad</td>\n",
       "      <td>2020</td>\n",
       "      <td>['Comedy', 'Family']</td>\n",
       "      <td>NaN</td>\n",
       "      <td>NaN</td>\n",
       "      <td>NaN</td>\n",
       "      <td>PG</td>\n",
       "      <td>3.7</td>\n",
       "      <td>83</td>\n",
       "    </tr>\n",
       "    <tr>\n",
       "      <th>18299</th>\n",
       "      <td>https://www.imdb.com/title/tt9614452/</td>\n",
       "      <td>The Big Bull</td>\n",
       "      <td>2020</td>\n",
       "      <td>['Crime', 'Drama']</td>\n",
       "      <td>NaN</td>\n",
       "      <td>NaN</td>\n",
       "      <td>NaN</td>\n",
       "      <td>NaN</td>\n",
       "      <td>NaN</td>\n",
       "      <td>NaN</td>\n",
       "    </tr>\n",
       "  </tbody>\n",
       "</table>\n",
       "<p>17445 rows × 10 columns</p>\n",
       "</div>"
      ],
      "text/plain": [
       "                                         url                  title  year  \\\n",
       "0      https://www.imdb.com/title/tt0054215/                 Psycho  1960   \n",
       "1      https://www.imdb.com/title/tt0054047/  The Magnificent Seven  1960   \n",
       "2      https://www.imdb.com/title/tt0054331/              Spartacus  1960   \n",
       "3      https://www.imdb.com/title/tt0053604/          The Apartment  1960   \n",
       "4      https://www.imdb.com/title/tt0053917/     Home from the Hill  1960   \n",
       "...                                      ...                    ...   ...   \n",
       "18295  https://www.imdb.com/title/tt7541720/                  Music  2020   \n",
       "18296  https://www.imdb.com/title/tt5867314/          The Empty Man  2020   \n",
       "18297  https://www.imdb.com/title/tt5714470/              Come Away  2020   \n",
       "18298  https://www.imdb.com/title/tt6559576/             Selfie Dad  2020   \n",
       "18299  https://www.imdb.com/title/tt9614452/           The Big Bull  2020   \n",
       "\n",
       "                                                   genre gross_usa    budget  \\\n",
       "0                      ['Horror', 'Mystery', 'Thriller']  32000000    806947   \n",
       "1                     ['Action', 'Adventure', 'Western']       NaN   2000000   \n",
       "2      ['Adventure', 'Biography', 'Drama', 'History',...   1830650  12000000   \n",
       "3                         ['Comedy', 'Drama', 'Romance']       NaN   3000000   \n",
       "4                                   ['Drama', 'Romance']       NaN   1818688   \n",
       "...                                                  ...       ...       ...   \n",
       "18295                                          ['Drama']       NaN       NaN   \n",
       "18296  ['Crime', 'Drama', 'Horror', 'Mystery', 'Thril...       NaN       NaN   \n",
       "18297                  ['Adventure', 'Drama', 'Fantasy']       NaN       NaN   \n",
       "18298                               ['Comedy', 'Family']       NaN       NaN   \n",
       "18299                                 ['Crime', 'Drama']       NaN       NaN   \n",
       "\n",
       "      worldwide_gross pg_rated  rating rating_pop  \n",
       "0            32000000      NaN     8.5    580,863  \n",
       "1                 NaN      NaN     7.7     85,315  \n",
       "2             1836351      NaN     7.9    120,895  \n",
       "3              177066      NaN     8.3    157,134  \n",
       "4                 NaN      NaN     7.4      2,864  \n",
       "...               ...      ...     ...        ...  \n",
       "18295             NaN    PG-13     NaN        NaN  \n",
       "18296             NaN        R     NaN        NaN  \n",
       "18297             NaN      NaN     6.6         27  \n",
       "18298             NaN       PG     3.7         83  \n",
       "18299             NaN      NaN     NaN        NaN  \n",
       "\n",
       "[17445 rows x 10 columns]"
      ]
     },
     "execution_count": 25,
     "metadata": {},
     "output_type": "execute_result"
    }
   ],
   "source": [
    "combined"
   ]
  },
  {
   "cell_type": "markdown",
   "metadata": {},
   "source": [
    "#### Remove Rows with Missing Data: \n",
    "\n",
    "We need intact budget and worldwide gross earnings for each movie so we need to remove rows with missing values in these columns. This will decrease the size of the dataframe, but, in this case, it is necessary. "
   ]
  },
  {
   "cell_type": "code",
   "execution_count": 26,
   "metadata": {},
   "outputs": [
    {
     "data": {
      "text/html": [
       "<div>\n",
       "<style scoped>\n",
       "    .dataframe tbody tr th:only-of-type {\n",
       "        vertical-align: middle;\n",
       "    }\n",
       "\n",
       "    .dataframe tbody tr th {\n",
       "        vertical-align: top;\n",
       "    }\n",
       "\n",
       "    .dataframe thead th {\n",
       "        text-align: right;\n",
       "    }\n",
       "</style>\n",
       "<table border=\"1\" class=\"dataframe\">\n",
       "  <thead>\n",
       "    <tr style=\"text-align: right;\">\n",
       "      <th></th>\n",
       "      <th>url</th>\n",
       "      <th>title</th>\n",
       "      <th>year</th>\n",
       "      <th>genre</th>\n",
       "      <th>gross_usa</th>\n",
       "      <th>budget</th>\n",
       "      <th>worldwide_gross</th>\n",
       "      <th>pg_rated</th>\n",
       "      <th>rating</th>\n",
       "      <th>rating_pop</th>\n",
       "    </tr>\n",
       "  </thead>\n",
       "  <tbody>\n",
       "    <tr>\n",
       "      <th>1202</th>\n",
       "      <td>https://www.imdb.com/title/tt0057012/</td>\n",
       "      <td>Dr. Strangelove or: How I Learned to Stop Worr...</td>\n",
       "      <td>1964</td>\n",
       "      <td>['Comedy']</td>\n",
       "      <td>9440272</td>\n",
       "      <td>1800000</td>\n",
       "      <td>9443876</td>\n",
       "      <td>PG</td>\n",
       "      <td>8.4</td>\n",
       "      <td>437,986</td>\n",
       "    </tr>\n",
       "    <tr>\n",
       "      <th>1205</th>\n",
       "      <td>https://www.imdb.com/title/tt0058461/</td>\n",
       "      <td>A Fistful of Dollars</td>\n",
       "      <td>1964</td>\n",
       "      <td>['Action', 'Drama', 'Western']</td>\n",
       "      <td>14500000</td>\n",
       "      <td>200000</td>\n",
       "      <td>14516248</td>\n",
       "      <td>R</td>\n",
       "      <td>8.0</td>\n",
       "      <td>190,339</td>\n",
       "    </tr>\n",
       "    <tr>\n",
       "      <th>1238</th>\n",
       "      <td>https://www.imdb.com/title/tt0057877/</td>\n",
       "      <td>Becket</td>\n",
       "      <td>1964</td>\n",
       "      <td>['Biography', 'Drama', 'History']</td>\n",
       "      <td>149327</td>\n",
       "      <td>3000000</td>\n",
       "      <td>149327</td>\n",
       "      <td>PG-13</td>\n",
       "      <td>7.8</td>\n",
       "      <td>13,272</td>\n",
       "    </tr>\n",
       "    <tr>\n",
       "      <th>1502</th>\n",
       "      <td>https://www.imdb.com/title/tt0059113/</td>\n",
       "      <td>Doctor Zhivago</td>\n",
       "      <td>1965</td>\n",
       "      <td>['Drama', 'Romance', 'War']</td>\n",
       "      <td>111721910</td>\n",
       "      <td>11000000</td>\n",
       "      <td>111918564</td>\n",
       "      <td>PG-13</td>\n",
       "      <td>8.0</td>\n",
       "      <td>67,790</td>\n",
       "    </tr>\n",
       "    <tr>\n",
       "      <th>1558</th>\n",
       "      <td>https://www.imdb.com/title/tt0059418/</td>\n",
       "      <td>Major Dundee</td>\n",
       "      <td>1965</td>\n",
       "      <td>['Adventure', 'War', 'Western']</td>\n",
       "      <td>20807</td>\n",
       "      <td>3800000</td>\n",
       "      <td>20807</td>\n",
       "      <td>PG-13</td>\n",
       "      <td>6.7</td>\n",
       "      <td>6,864</td>\n",
       "    </tr>\n",
       "    <tr>\n",
       "      <th>...</th>\n",
       "      <td>...</td>\n",
       "      <td>...</td>\n",
       "      <td>...</td>\n",
       "      <td>...</td>\n",
       "      <td>...</td>\n",
       "      <td>...</td>\n",
       "      <td>...</td>\n",
       "      <td>...</td>\n",
       "      <td>...</td>\n",
       "      <td>...</td>\n",
       "    </tr>\n",
       "    <tr>\n",
       "      <th>18099</th>\n",
       "      <td>https://www.imdb.com/title/tt9173418/</td>\n",
       "      <td>Brahms: The Boy II</td>\n",
       "      <td>2020</td>\n",
       "      <td>['Drama', 'Horror', 'Mystery', 'Thriller']</td>\n",
       "      <td>12611536</td>\n",
       "      <td>10000000</td>\n",
       "      <td>20311536</td>\n",
       "      <td>PG-13</td>\n",
       "      <td>4.6</td>\n",
       "      <td>7,432</td>\n",
       "    </tr>\n",
       "    <tr>\n",
       "      <th>18127</th>\n",
       "      <td>https://www.imdb.com/title/tt7545266/</td>\n",
       "      <td>Like a Boss</td>\n",
       "      <td>2020</td>\n",
       "      <td>['Comedy']</td>\n",
       "      <td>22169514</td>\n",
       "      <td>29000000</td>\n",
       "      <td>29753143</td>\n",
       "      <td>R</td>\n",
       "      <td>4.4</td>\n",
       "      <td>6,756</td>\n",
       "    </tr>\n",
       "    <tr>\n",
       "      <th>18130</th>\n",
       "      <td>https://www.imdb.com/title/tt7510346/</td>\n",
       "      <td>The Turning</td>\n",
       "      <td>2020</td>\n",
       "      <td>['Drama', 'Horror', 'Mystery']</td>\n",
       "      <td>15472775</td>\n",
       "      <td>14000000</td>\n",
       "      <td>18592707</td>\n",
       "      <td>PG-13</td>\n",
       "      <td>3.8</td>\n",
       "      <td>6,813</td>\n",
       "    </tr>\n",
       "    <tr>\n",
       "      <th>18136</th>\n",
       "      <td>https://www.imdb.com/title/tt9208444/</td>\n",
       "      <td>Impractical Jokers: The Movie</td>\n",
       "      <td>2020</td>\n",
       "      <td>['Comedy']</td>\n",
       "      <td>10691091</td>\n",
       "      <td>3000000</td>\n",
       "      <td>10691091</td>\n",
       "      <td>PG-13</td>\n",
       "      <td>6.0</td>\n",
       "      <td>3,694</td>\n",
       "    </tr>\n",
       "    <tr>\n",
       "      <th>18217</th>\n",
       "      <td>https://www.imdb.com/title/tt7798646/</td>\n",
       "      <td>The Photograph</td>\n",
       "      <td>2020</td>\n",
       "      <td>['Drama', 'Romance']</td>\n",
       "      <td>20578185</td>\n",
       "      <td>16000000</td>\n",
       "      <td>20653204</td>\n",
       "      <td>PG-13</td>\n",
       "      <td>5.9</td>\n",
       "      <td>2,353</td>\n",
       "    </tr>\n",
       "  </tbody>\n",
       "</table>\n",
       "<p>4616 rows × 10 columns</p>\n",
       "</div>"
      ],
      "text/plain": [
       "                                         url  \\\n",
       "1202   https://www.imdb.com/title/tt0057012/   \n",
       "1205   https://www.imdb.com/title/tt0058461/   \n",
       "1238   https://www.imdb.com/title/tt0057877/   \n",
       "1502   https://www.imdb.com/title/tt0059113/   \n",
       "1558   https://www.imdb.com/title/tt0059418/   \n",
       "...                                      ...   \n",
       "18099  https://www.imdb.com/title/tt9173418/   \n",
       "18127  https://www.imdb.com/title/tt7545266/   \n",
       "18130  https://www.imdb.com/title/tt7510346/   \n",
       "18136  https://www.imdb.com/title/tt9208444/   \n",
       "18217  https://www.imdb.com/title/tt7798646/   \n",
       "\n",
       "                                                   title  year  \\\n",
       "1202   Dr. Strangelove or: How I Learned to Stop Worr...  1964   \n",
       "1205                                A Fistful of Dollars  1964   \n",
       "1238                                              Becket  1964   \n",
       "1502                                      Doctor Zhivago  1965   \n",
       "1558                                        Major Dundee  1965   \n",
       "...                                                  ...   ...   \n",
       "18099                                 Brahms: The Boy II  2020   \n",
       "18127                                        Like a Boss  2020   \n",
       "18130                                        The Turning  2020   \n",
       "18136                      Impractical Jokers: The Movie  2020   \n",
       "18217                                     The Photograph  2020   \n",
       "\n",
       "                                            genre  gross_usa    budget  \\\n",
       "1202                                   ['Comedy']    9440272   1800000   \n",
       "1205               ['Action', 'Drama', 'Western']   14500000    200000   \n",
       "1238            ['Biography', 'Drama', 'History']     149327   3000000   \n",
       "1502                  ['Drama', 'Romance', 'War']  111721910  11000000   \n",
       "1558              ['Adventure', 'War', 'Western']      20807   3800000   \n",
       "...                                           ...        ...       ...   \n",
       "18099  ['Drama', 'Horror', 'Mystery', 'Thriller']   12611536  10000000   \n",
       "18127                                  ['Comedy']   22169514  29000000   \n",
       "18130              ['Drama', 'Horror', 'Mystery']   15472775  14000000   \n",
       "18136                                  ['Comedy']   10691091   3000000   \n",
       "18217                        ['Drama', 'Romance']   20578185  16000000   \n",
       "\n",
       "      worldwide_gross pg_rated  rating rating_pop  \n",
       "1202          9443876       PG     8.4    437,986  \n",
       "1205         14516248        R     8.0    190,339  \n",
       "1238           149327    PG-13     7.8     13,272  \n",
       "1502        111918564    PG-13     8.0     67,790  \n",
       "1558            20807    PG-13     6.7      6,864  \n",
       "...               ...      ...     ...        ...  \n",
       "18099        20311536    PG-13     4.6      7,432  \n",
       "18127        29753143        R     4.4      6,756  \n",
       "18130        18592707    PG-13     3.8      6,813  \n",
       "18136        10691091    PG-13     6.0      3,694  \n",
       "18217        20653204    PG-13     5.9      2,353  \n",
       "\n",
       "[4616 rows x 10 columns]"
      ]
     },
     "execution_count": 26,
     "metadata": {},
     "output_type": "execute_result"
    }
   ],
   "source": [
    "pared_down = combined.dropna() #Now we can drop missing values.\n",
    "pared_down"
   ]
  },
  {
   "cell_type": "markdown",
   "metadata": {},
   "source": [
    "#### Recast Budget and Worldwide Gross as Int64: \n",
    "\n",
    "This throws a warning because we are altering a copy of a dataframe. In this case, it is what we want so don't mind the warning, the change will go through."
   ]
  },
  {
   "cell_type": "code",
   "execution_count": 27,
   "metadata": {
    "scrolled": false
   },
   "outputs": [
    {
     "name": "stderr",
     "output_type": "stream",
     "text": [
      "/Users/arencarpenter/opt/anaconda3/lib/python3.7/site-packages/ipykernel_launcher.py:1: SettingWithCopyWarning: \n",
      "A value is trying to be set on a copy of a slice from a DataFrame.\n",
      "Try using .loc[row_indexer,col_indexer] = value instead\n",
      "\n",
      "See the caveats in the documentation: https://pandas.pydata.org/pandas-docs/stable/user_guide/indexing.html#returning-a-view-versus-a-copy\n",
      "  \"\"\"Entry point for launching an IPython kernel.\n"
     ]
    }
   ],
   "source": [
    "pared_down['budget'] = pared_down.budget.astype('int64') # Recast as numerical data type."
   ]
  },
  {
   "cell_type": "code",
   "execution_count": 28,
   "metadata": {},
   "outputs": [
    {
     "name": "stderr",
     "output_type": "stream",
     "text": [
      "/Users/arencarpenter/opt/anaconda3/lib/python3.7/site-packages/ipykernel_launcher.py:1: SettingWithCopyWarning: \n",
      "A value is trying to be set on a copy of a slice from a DataFrame.\n",
      "Try using .loc[row_indexer,col_indexer] = value instead\n",
      "\n",
      "See the caveats in the documentation: https://pandas.pydata.org/pandas-docs/stable/user_guide/indexing.html#returning-a-view-versus-a-copy\n",
      "  \"\"\"Entry point for launching an IPython kernel.\n"
     ]
    }
   ],
   "source": [
    "pared_down['worldwide_gross'] = pared_down.worldwide_gross.astype('int64')"
   ]
  },
  {
   "cell_type": "markdown",
   "metadata": {},
   "source": [
    "Confirm that the data type of both columns is now int64."
   ]
  },
  {
   "cell_type": "code",
   "execution_count": 29,
   "metadata": {},
   "outputs": [
    {
     "data": {
      "text/plain": [
       "dtype('int64')"
      ]
     },
     "execution_count": 29,
     "metadata": {},
     "output_type": "execute_result"
    }
   ],
   "source": [
    "pared_down.budget.dtype"
   ]
  },
  {
   "cell_type": "code",
   "execution_count": 30,
   "metadata": {},
   "outputs": [
    {
     "data": {
      "text/plain": [
       "dtype('int64')"
      ]
     },
     "execution_count": 30,
     "metadata": {},
     "output_type": "execute_result"
    }
   ],
   "source": [
    "pared_down.worldwide_gross.dtype"
   ]
  },
  {
   "cell_type": "markdown",
   "metadata": {},
   "source": [
    "Let's sort the values to get a sense of our range of budgets."
   ]
  },
  {
   "cell_type": "code",
   "execution_count": 31,
   "metadata": {},
   "outputs": [
    {
     "data": {
      "text/plain": [
       "11436         6000\n",
       "9672          7000\n",
       "13262         7000\n",
       "10425        15000\n",
       "14150        15000\n",
       "           ...    \n",
       "17111    300000000\n",
       "14113    300000000\n",
       "17122    317000000\n",
       "17401    321000000\n",
       "17706    356000000\n",
       "Name: budget, Length: 4616, dtype: int64"
      ]
     },
     "execution_count": 31,
     "metadata": {},
     "output_type": "execute_result"
    }
   ],
   "source": [
    "pared_down.budget.sort_values()"
   ]
  },
  {
   "cell_type": "markdown",
   "metadata": {},
   "source": [
    "### Data Visualization:"
   ]
  },
  {
   "cell_type": "markdown",
   "metadata": {},
   "source": [
    "Now we can start to visualize. Let's plot each movie's budget and worldwide revenue."
   ]
  },
  {
   "cell_type": "code",
   "execution_count": 32,
   "metadata": {},
   "outputs": [
    {
     "data": {
      "image/png": "[encoded data removed]",
      "text/plain": [
       "<Figure size 1008x720 with 1 Axes>"
      ]
     },
     "metadata": {
      "needs_background": "light"
     },
     "output_type": "display_data"
    }
   ],
   "source": [
    "plt.figure(figsize=(14, 10))\n",
    "sns.regplot(x = 'budget', y = 'worldwide_gross', data = pared_down, scatter_kws={'alpha':0.5})\n",
    "plt.title('Budget vs Worldwide Revenue')          # Set title.\n",
    "plt.xlabel(\"Budget \\n in hundred millions\")       # Set x-axis label.\n",
    "plt.ylabel('Worldwide Revenue \\n in billions')    # Set y-axis label.\n",
    "sns.despine()"
   ]
  },
  {
   "cell_type": "markdown",
   "metadata": {},
   "source": [
    "As we can see, there is a positive relationship between budget and revenue. Using our regression line, we would expect a film with budget of 150,000,000 -- or 150 million -- to return 500,000,000 -- or 0.5 billion -- in revenue. Thus a profit of 350,000,000. "
   ]
  },
  {
   "cell_type": "markdown",
   "metadata": {},
   "source": [
    "Here is the same scatter plot as a regplot for the distribution of each variable. As we can see, most movies have a budget of less than 50,000,000 and earn less than 100,000,000. "
   ]
  },
  {
   "cell_type": "code",
   "execution_count": 33,
   "metadata": {
    "scrolled": false
   },
   "outputs": [
    {
     "data": {
      "text/plain": [
       "<seaborn.axisgrid.JointGrid at 0x7fc4383ec490>"
      ]
     },
     "execution_count": 33,
     "metadata": {},
     "output_type": "execute_result"
    },
    {
     "data": {
      "image/png": "[encoded data removed]",
      "text/plain": [
       "<Figure size 432x432 with 3 Axes>"
      ]
     },
     "metadata": {
      "needs_background": "light"
     },
     "output_type": "display_data"
    }
   ],
   "source": [
    "sns.jointplot(x = 'budget', y = 'worldwide_gross', data = pared_down, alpha = 0.5)"
   ]
  },
  {
   "cell_type": "markdown",
   "metadata": {},
   "source": [
    "### Insights:"
   ]
  },
  {
   "cell_type": "markdown",
   "metadata": {},
   "source": [
    "The average movie has a positive return on investment for its budget. Devoid of other factors, producers should put in as much money as they can to ensure the biggest payoff. However, this does not account for other important factors, such as release time, user and critic ratings, and competition from other films."
   ]
  },
  {
   "cell_type": "markdown",
   "metadata": {},
   "source": [
    "======================================================================================================================"
   ]
  },
  {
   "cell_type": "markdown",
   "metadata": {},
   "source": [
    "# Exploratory Data Analysis: Rating and Revenue"
   ]
  },
  {
   "cell_type": "markdown",
   "metadata": {},
   "source": [
    "### Libraries to import:"
   ]
  },
  {
   "cell_type": "code",
   "execution_count": 34,
   "metadata": {},
   "outputs": [],
   "source": [
    "import pandas as pd\n",
    "import seaborn as sns\n",
    "sns.set_palette(\"muted\")\n",
    "import matplotlib.pyplot as plt\n",
    "import numpy as np\n",
    "%matplotlib inline"
   ]
  },
  {
   "cell_type": "markdown",
   "metadata": {},
   "source": [
    "### Load in our dataset:"
   ]
  },
  {
   "cell_type": "code",
   "execution_count": 35,
   "metadata": {},
   "outputs": [
    {
     "data": {
      "text/html": [
       "<div>\n",
       "<style scoped>\n",
       "    .dataframe tbody tr th:only-of-type {\n",
       "        vertical-align: middle;\n",
       "    }\n",
       "\n",
       "    .dataframe tbody tr th {\n",
       "        vertical-align: top;\n",
       "    }\n",
       "\n",
       "    .dataframe thead th {\n",
       "        text-align: right;\n",
       "    }\n",
       "</style>\n",
       "<table border=\"1\" class=\"dataframe\">\n",
       "  <thead>\n",
       "    <tr style=\"text-align: right;\">\n",
       "      <th></th>\n",
       "      <th>Unnamed: 0</th>\n",
       "      <th>url</th>\n",
       "      <th>title</th>\n",
       "      <th>year</th>\n",
       "      <th>genre</th>\n",
       "      <th>gross_usa</th>\n",
       "      <th>budget</th>\n",
       "      <th>worldwide_gross</th>\n",
       "      <th>pg_rated</th>\n",
       "      <th>rating</th>\n",
       "      <th>rating_pop</th>\n",
       "    </tr>\n",
       "  </thead>\n",
       "  <tbody>\n",
       "    <tr>\n",
       "      <th>0</th>\n",
       "      <td>0</td>\n",
       "      <td>https://www.imdb.com/title/tt0054215/</td>\n",
       "      <td>Psycho</td>\n",
       "      <td>1960</td>\n",
       "      <td>['Horror', 'Mystery', 'Thriller']</td>\n",
       "      <td>$32,000,000</td>\n",
       "      <td>$806,947</td>\n",
       "      <td>$32,000,000</td>\n",
       "      <td>NaN</td>\n",
       "      <td>8.5</td>\n",
       "      <td>580,863</td>\n",
       "    </tr>\n",
       "    <tr>\n",
       "      <th>1</th>\n",
       "      <td>1</td>\n",
       "      <td>https://www.imdb.com/title/tt0054047/</td>\n",
       "      <td>The Magnificent Seven</td>\n",
       "      <td>1960</td>\n",
       "      <td>['Action', 'Adventure', 'Western']</td>\n",
       "      <td>NaN</td>\n",
       "      <td>$2,000,000</td>\n",
       "      <td>NaN</td>\n",
       "      <td>NaN</td>\n",
       "      <td>7.7</td>\n",
       "      <td>85,315</td>\n",
       "    </tr>\n",
       "    <tr>\n",
       "      <th>2</th>\n",
       "      <td>2</td>\n",
       "      <td>https://www.imdb.com/title/tt0054331/</td>\n",
       "      <td>Spartacus</td>\n",
       "      <td>1960</td>\n",
       "      <td>['Adventure', 'Biography', 'Drama', 'History',...</td>\n",
       "      <td>$1,830,650</td>\n",
       "      <td>$12,000,000</td>\n",
       "      <td>$1,836,351</td>\n",
       "      <td>NaN</td>\n",
       "      <td>7.9</td>\n",
       "      <td>120,895</td>\n",
       "    </tr>\n",
       "    <tr>\n",
       "      <th>3</th>\n",
       "      <td>3</td>\n",
       "      <td>https://www.imdb.com/title/tt0053604/</td>\n",
       "      <td>The Apartment</td>\n",
       "      <td>1960</td>\n",
       "      <td>['Comedy', 'Drama', 'Romance']</td>\n",
       "      <td>NaN</td>\n",
       "      <td>$3,000,000</td>\n",
       "      <td>$177,066</td>\n",
       "      <td>NaN</td>\n",
       "      <td>8.3</td>\n",
       "      <td>157,134</td>\n",
       "    </tr>\n",
       "    <tr>\n",
       "      <th>4</th>\n",
       "      <td>4</td>\n",
       "      <td>https://www.imdb.com/title/tt0053917/</td>\n",
       "      <td>Home from the Hill</td>\n",
       "      <td>1960</td>\n",
       "      <td>['Drama', 'Romance']</td>\n",
       "      <td>NaN</td>\n",
       "      <td>$1,818,688</td>\n",
       "      <td>NaN</td>\n",
       "      <td>NaN</td>\n",
       "      <td>7.4</td>\n",
       "      <td>2,864</td>\n",
       "    </tr>\n",
       "    <tr>\n",
       "      <th>...</th>\n",
       "      <td>...</td>\n",
       "      <td>...</td>\n",
       "      <td>...</td>\n",
       "      <td>...</td>\n",
       "      <td>...</td>\n",
       "      <td>...</td>\n",
       "      <td>...</td>\n",
       "      <td>...</td>\n",
       "      <td>...</td>\n",
       "      <td>...</td>\n",
       "      <td>...</td>\n",
       "    </tr>\n",
       "    <tr>\n",
       "      <th>18295</th>\n",
       "      <td>2995</td>\n",
       "      <td>https://www.imdb.com/title/tt7541720/</td>\n",
       "      <td>Music</td>\n",
       "      <td>2020</td>\n",
       "      <td>['Drama']</td>\n",
       "      <td>NaN</td>\n",
       "      <td>NaN</td>\n",
       "      <td>NaN</td>\n",
       "      <td>PG-13</td>\n",
       "      <td>NaN</td>\n",
       "      <td>NaN</td>\n",
       "    </tr>\n",
       "    <tr>\n",
       "      <th>18296</th>\n",
       "      <td>2996</td>\n",
       "      <td>https://www.imdb.com/title/tt5867314/</td>\n",
       "      <td>The Empty Man</td>\n",
       "      <td>2020</td>\n",
       "      <td>['Crime', 'Drama', 'Horror', 'Mystery', 'Thril...</td>\n",
       "      <td>NaN</td>\n",
       "      <td>NaN</td>\n",
       "      <td>NaN</td>\n",
       "      <td>R</td>\n",
       "      <td>NaN</td>\n",
       "      <td>NaN</td>\n",
       "    </tr>\n",
       "    <tr>\n",
       "      <th>18297</th>\n",
       "      <td>2997</td>\n",
       "      <td>https://www.imdb.com/title/tt5714470/</td>\n",
       "      <td>Come Away</td>\n",
       "      <td>2020</td>\n",
       "      <td>['Adventure', 'Drama', 'Fantasy']</td>\n",
       "      <td>NaN</td>\n",
       "      <td>NaN</td>\n",
       "      <td>NaN</td>\n",
       "      <td>NaN</td>\n",
       "      <td>6.6</td>\n",
       "      <td>27</td>\n",
       "    </tr>\n",
       "    <tr>\n",
       "      <th>18298</th>\n",
       "      <td>2998</td>\n",
       "      <td>https://www.imdb.com/title/tt6559576/</td>\n",
       "      <td>Selfie Dad</td>\n",
       "      <td>2020</td>\n",
       "      <td>['Comedy', 'Family']</td>\n",
       "      <td>NaN</td>\n",
       "      <td>NaN</td>\n",
       "      <td>NaN</td>\n",
       "      <td>PG</td>\n",
       "      <td>3.7</td>\n",
       "      <td>83</td>\n",
       "    </tr>\n",
       "    <tr>\n",
       "      <th>18299</th>\n",
       "      <td>2999</td>\n",
       "      <td>https://www.imdb.com/title/tt9614452/</td>\n",
       "      <td>The Big Bull</td>\n",
       "      <td>2020</td>\n",
       "      <td>['Crime', 'Drama']</td>\n",
       "      <td>NaN</td>\n",
       "      <td>NaN</td>\n",
       "      <td>NaN</td>\n",
       "      <td>NaN</td>\n",
       "      <td>NaN</td>\n",
       "      <td>NaN</td>\n",
       "    </tr>\n",
       "  </tbody>\n",
       "</table>\n",
       "<p>18300 rows × 11 columns</p>\n",
       "</div>"
      ],
      "text/plain": [
       "       Unnamed: 0                                    url  \\\n",
       "0               0  https://www.imdb.com/title/tt0054215/   \n",
       "1               1  https://www.imdb.com/title/tt0054047/   \n",
       "2               2  https://www.imdb.com/title/tt0054331/   \n",
       "3               3  https://www.imdb.com/title/tt0053604/   \n",
       "4               4  https://www.imdb.com/title/tt0053917/   \n",
       "...           ...                                    ...   \n",
       "18295        2995  https://www.imdb.com/title/tt7541720/   \n",
       "18296        2996  https://www.imdb.com/title/tt5867314/   \n",
       "18297        2997  https://www.imdb.com/title/tt5714470/   \n",
       "18298        2998  https://www.imdb.com/title/tt6559576/   \n",
       "18299        2999  https://www.imdb.com/title/tt9614452/   \n",
       "\n",
       "                       title  year  \\\n",
       "0                     Psycho  1960   \n",
       "1      The Magnificent Seven  1960   \n",
       "2                  Spartacus  1960   \n",
       "3              The Apartment  1960   \n",
       "4         Home from the Hill  1960   \n",
       "...                      ...   ...   \n",
       "18295                  Music  2020   \n",
       "18296          The Empty Man  2020   \n",
       "18297              Come Away  2020   \n",
       "18298             Selfie Dad  2020   \n",
       "18299           The Big Bull  2020   \n",
       "\n",
       "                                                   genre    gross_usa  \\\n",
       "0                      ['Horror', 'Mystery', 'Thriller']  $32,000,000   \n",
       "1                     ['Action', 'Adventure', 'Western']          NaN   \n",
       "2      ['Adventure', 'Biography', 'Drama', 'History',...   $1,830,650   \n",
       "3                         ['Comedy', 'Drama', 'Romance']          NaN   \n",
       "4                                   ['Drama', 'Romance']          NaN   \n",
       "...                                                  ...          ...   \n",
       "18295                                          ['Drama']          NaN   \n",
       "18296  ['Crime', 'Drama', 'Horror', 'Mystery', 'Thril...          NaN   \n",
       "18297                  ['Adventure', 'Drama', 'Fantasy']          NaN   \n",
       "18298                               ['Comedy', 'Family']          NaN   \n",
       "18299                                 ['Crime', 'Drama']          NaN   \n",
       "\n",
       "            budget worldwide_gross pg_rated  rating rating_pop  \n",
       "0         $806,947     $32,000,000      NaN     8.5    580,863  \n",
       "1       $2,000,000             NaN      NaN     7.7     85,315  \n",
       "2      $12,000,000      $1,836,351      NaN     7.9    120,895  \n",
       "3       $3,000,000        $177,066      NaN     8.3    157,134  \n",
       "4       $1,818,688             NaN      NaN     7.4      2,864  \n",
       "...            ...             ...      ...     ...        ...  \n",
       "18295          NaN             NaN    PG-13     NaN        NaN  \n",
       "18296          NaN             NaN        R     NaN        NaN  \n",
       "18297          NaN             NaN      NaN     6.6         27  \n",
       "18298          NaN             NaN       PG     3.7         83  \n",
       "18299          NaN             NaN      NaN     NaN        NaN  \n",
       "\n",
       "[18300 rows x 11 columns]"
      ]
     },
     "execution_count": 35,
     "metadata": {},
     "output_type": "execute_result"
    }
   ],
   "source": [
    "combined = pd.read_csv('zippedData/combined.csv') # Load in our combined dataset.\n",
    "combined"
   ]
  },
  {
   "cell_type": "markdown",
   "metadata": {},
   "source": [
    "### Data Cleaning:"
   ]
  },
  {
   "cell_type": "markdown",
   "metadata": {},
   "source": [
    "We are concatenating several dataframes so their indexes are shared. We reset the index so they are unique."
   ]
  },
  {
   "cell_type": "code",
   "execution_count": 36,
   "metadata": {},
   "outputs": [],
   "source": [
    "combined.reset_index(inplace=True) # Reset index due to concatenation."
   ]
  },
  {
   "cell_type": "markdown",
   "metadata": {},
   "source": [
    "Now we have to remove the extra column of old indexes."
   ]
  },
  {
   "cell_type": "code",
   "execution_count": 37,
   "metadata": {},
   "outputs": [],
   "source": [
    "combined = combined.drop('Unnamed: 0', axis=1)  # Remove extra index column from resetting index. "
   ]
  },
  {
   "cell_type": "markdown",
   "metadata": {},
   "source": [
    "Let's make sure that our changes have been successful."
   ]
  },
  {
   "cell_type": "code",
   "execution_count": 38,
   "metadata": {},
   "outputs": [
    {
     "data": {
      "text/html": [
       "<div>\n",
       "<style scoped>\n",
       "    .dataframe tbody tr th:only-of-type {\n",
       "        vertical-align: middle;\n",
       "    }\n",
       "\n",
       "    .dataframe tbody tr th {\n",
       "        vertical-align: top;\n",
       "    }\n",
       "\n",
       "    .dataframe thead th {\n",
       "        text-align: right;\n",
       "    }\n",
       "</style>\n",
       "<table border=\"1\" class=\"dataframe\">\n",
       "  <thead>\n",
       "    <tr style=\"text-align: right;\">\n",
       "      <th></th>\n",
       "      <th>index</th>\n",
       "      <th>url</th>\n",
       "      <th>title</th>\n",
       "      <th>year</th>\n",
       "      <th>genre</th>\n",
       "      <th>gross_usa</th>\n",
       "      <th>budget</th>\n",
       "      <th>worldwide_gross</th>\n",
       "      <th>pg_rated</th>\n",
       "      <th>rating</th>\n",
       "      <th>rating_pop</th>\n",
       "    </tr>\n",
       "  </thead>\n",
       "  <tbody>\n",
       "    <tr>\n",
       "      <th>0</th>\n",
       "      <td>0</td>\n",
       "      <td>https://www.imdb.com/title/tt0054215/</td>\n",
       "      <td>Psycho</td>\n",
       "      <td>1960</td>\n",
       "      <td>['Horror', 'Mystery', 'Thriller']</td>\n",
       "      <td>$32,000,000</td>\n",
       "      <td>$806,947</td>\n",
       "      <td>$32,000,000</td>\n",
       "      <td>NaN</td>\n",
       "      <td>8.5</td>\n",
       "      <td>580,863</td>\n",
       "    </tr>\n",
       "    <tr>\n",
       "      <th>1</th>\n",
       "      <td>1</td>\n",
       "      <td>https://www.imdb.com/title/tt0054047/</td>\n",
       "      <td>The Magnificent Seven</td>\n",
       "      <td>1960</td>\n",
       "      <td>['Action', 'Adventure', 'Western']</td>\n",
       "      <td>NaN</td>\n",
       "      <td>$2,000,000</td>\n",
       "      <td>NaN</td>\n",
       "      <td>NaN</td>\n",
       "      <td>7.7</td>\n",
       "      <td>85,315</td>\n",
       "    </tr>\n",
       "    <tr>\n",
       "      <th>2</th>\n",
       "      <td>2</td>\n",
       "      <td>https://www.imdb.com/title/tt0054331/</td>\n",
       "      <td>Spartacus</td>\n",
       "      <td>1960</td>\n",
       "      <td>['Adventure', 'Biography', 'Drama', 'History',...</td>\n",
       "      <td>$1,830,650</td>\n",
       "      <td>$12,000,000</td>\n",
       "      <td>$1,836,351</td>\n",
       "      <td>NaN</td>\n",
       "      <td>7.9</td>\n",
       "      <td>120,895</td>\n",
       "    </tr>\n",
       "    <tr>\n",
       "      <th>3</th>\n",
       "      <td>3</td>\n",
       "      <td>https://www.imdb.com/title/tt0053604/</td>\n",
       "      <td>The Apartment</td>\n",
       "      <td>1960</td>\n",
       "      <td>['Comedy', 'Drama', 'Romance']</td>\n",
       "      <td>NaN</td>\n",
       "      <td>$3,000,000</td>\n",
       "      <td>$177,066</td>\n",
       "      <td>NaN</td>\n",
       "      <td>8.3</td>\n",
       "      <td>157,134</td>\n",
       "    </tr>\n",
       "    <tr>\n",
       "      <th>4</th>\n",
       "      <td>4</td>\n",
       "      <td>https://www.imdb.com/title/tt0053917/</td>\n",
       "      <td>Home from the Hill</td>\n",
       "      <td>1960</td>\n",
       "      <td>['Drama', 'Romance']</td>\n",
       "      <td>NaN</td>\n",
       "      <td>$1,818,688</td>\n",
       "      <td>NaN</td>\n",
       "      <td>NaN</td>\n",
       "      <td>7.4</td>\n",
       "      <td>2,864</td>\n",
       "    </tr>\n",
       "    <tr>\n",
       "      <th>...</th>\n",
       "      <td>...</td>\n",
       "      <td>...</td>\n",
       "      <td>...</td>\n",
       "      <td>...</td>\n",
       "      <td>...</td>\n",
       "      <td>...</td>\n",
       "      <td>...</td>\n",
       "      <td>...</td>\n",
       "      <td>...</td>\n",
       "      <td>...</td>\n",
       "      <td>...</td>\n",
       "    </tr>\n",
       "    <tr>\n",
       "      <th>18295</th>\n",
       "      <td>18295</td>\n",
       "      <td>https://www.imdb.com/title/tt7541720/</td>\n",
       "      <td>Music</td>\n",
       "      <td>2020</td>\n",
       "      <td>['Drama']</td>\n",
       "      <td>NaN</td>\n",
       "      <td>NaN</td>\n",
       "      <td>NaN</td>\n",
       "      <td>PG-13</td>\n",
       "      <td>NaN</td>\n",
       "      <td>NaN</td>\n",
       "    </tr>\n",
       "    <tr>\n",
       "      <th>18296</th>\n",
       "      <td>18296</td>\n",
       "      <td>https://www.imdb.com/title/tt5867314/</td>\n",
       "      <td>The Empty Man</td>\n",
       "      <td>2020</td>\n",
       "      <td>['Crime', 'Drama', 'Horror', 'Mystery', 'Thril...</td>\n",
       "      <td>NaN</td>\n",
       "      <td>NaN</td>\n",
       "      <td>NaN</td>\n",
       "      <td>R</td>\n",
       "      <td>NaN</td>\n",
       "      <td>NaN</td>\n",
       "    </tr>\n",
       "    <tr>\n",
       "      <th>18297</th>\n",
       "      <td>18297</td>\n",
       "      <td>https://www.imdb.com/title/tt5714470/</td>\n",
       "      <td>Come Away</td>\n",
       "      <td>2020</td>\n",
       "      <td>['Adventure', 'Drama', 'Fantasy']</td>\n",
       "      <td>NaN</td>\n",
       "      <td>NaN</td>\n",
       "      <td>NaN</td>\n",
       "      <td>NaN</td>\n",
       "      <td>6.6</td>\n",
       "      <td>27</td>\n",
       "    </tr>\n",
       "    <tr>\n",
       "      <th>18298</th>\n",
       "      <td>18298</td>\n",
       "      <td>https://www.imdb.com/title/tt6559576/</td>\n",
       "      <td>Selfie Dad</td>\n",
       "      <td>2020</td>\n",
       "      <td>['Comedy', 'Family']</td>\n",
       "      <td>NaN</td>\n",
       "      <td>NaN</td>\n",
       "      <td>NaN</td>\n",
       "      <td>PG</td>\n",
       "      <td>3.7</td>\n",
       "      <td>83</td>\n",
       "    </tr>\n",
       "    <tr>\n",
       "      <th>18299</th>\n",
       "      <td>18299</td>\n",
       "      <td>https://www.imdb.com/title/tt9614452/</td>\n",
       "      <td>The Big Bull</td>\n",
       "      <td>2020</td>\n",
       "      <td>['Crime', 'Drama']</td>\n",
       "      <td>NaN</td>\n",
       "      <td>NaN</td>\n",
       "      <td>NaN</td>\n",
       "      <td>NaN</td>\n",
       "      <td>NaN</td>\n",
       "      <td>NaN</td>\n",
       "    </tr>\n",
       "  </tbody>\n",
       "</table>\n",
       "<p>18300 rows × 11 columns</p>\n",
       "</div>"
      ],
      "text/plain": [
       "       index                                    url                  title  \\\n",
       "0          0  https://www.imdb.com/title/tt0054215/                 Psycho   \n",
       "1          1  https://www.imdb.com/title/tt0054047/  The Magnificent Seven   \n",
       "2          2  https://www.imdb.com/title/tt0054331/              Spartacus   \n",
       "3          3  https://www.imdb.com/title/tt0053604/          The Apartment   \n",
       "4          4  https://www.imdb.com/title/tt0053917/     Home from the Hill   \n",
       "...      ...                                    ...                    ...   \n",
       "18295  18295  https://www.imdb.com/title/tt7541720/                  Music   \n",
       "18296  18296  https://www.imdb.com/title/tt5867314/          The Empty Man   \n",
       "18297  18297  https://www.imdb.com/title/tt5714470/              Come Away   \n",
       "18298  18298  https://www.imdb.com/title/tt6559576/             Selfie Dad   \n",
       "18299  18299  https://www.imdb.com/title/tt9614452/           The Big Bull   \n",
       "\n",
       "       year                                              genre    gross_usa  \\\n",
       "0      1960                  ['Horror', 'Mystery', 'Thriller']  $32,000,000   \n",
       "1      1960                 ['Action', 'Adventure', 'Western']          NaN   \n",
       "2      1960  ['Adventure', 'Biography', 'Drama', 'History',...   $1,830,650   \n",
       "3      1960                     ['Comedy', 'Drama', 'Romance']          NaN   \n",
       "4      1960                               ['Drama', 'Romance']          NaN   \n",
       "...     ...                                                ...          ...   \n",
       "18295  2020                                          ['Drama']          NaN   \n",
       "18296  2020  ['Crime', 'Drama', 'Horror', 'Mystery', 'Thril...          NaN   \n",
       "18297  2020                  ['Adventure', 'Drama', 'Fantasy']          NaN   \n",
       "18298  2020                               ['Comedy', 'Family']          NaN   \n",
       "18299  2020                                 ['Crime', 'Drama']          NaN   \n",
       "\n",
       "            budget worldwide_gross pg_rated  rating rating_pop  \n",
       "0         $806,947     $32,000,000      NaN     8.5    580,863  \n",
       "1       $2,000,000             NaN      NaN     7.7     85,315  \n",
       "2      $12,000,000      $1,836,351      NaN     7.9    120,895  \n",
       "3       $3,000,000        $177,066      NaN     8.3    157,134  \n",
       "4       $1,818,688             NaN      NaN     7.4      2,864  \n",
       "...            ...             ...      ...     ...        ...  \n",
       "18295          NaN             NaN    PG-13     NaN        NaN  \n",
       "18296          NaN             NaN        R     NaN        NaN  \n",
       "18297          NaN             NaN      NaN     6.6         27  \n",
       "18298          NaN             NaN       PG     3.7         83  \n",
       "18299          NaN             NaN      NaN     NaN        NaN  \n",
       "\n",
       "[18300 rows x 11 columns]"
      ]
     },
     "execution_count": 38,
     "metadata": {},
     "output_type": "execute_result"
    }
   ],
   "source": [
    "combined # Examine changes."
   ]
  },
  {
   "cell_type": "markdown",
   "metadata": {},
   "source": [
    "\n",
    "For visualization we need our rating to be a numerical value so we will do an explicit type check to make sure."
   ]
  },
  {
   "cell_type": "code",
   "execution_count": 39,
   "metadata": {},
   "outputs": [
    {
     "data": {
      "text/plain": [
       "dtype('float64')"
      ]
     },
     "execution_count": 39,
     "metadata": {},
     "output_type": "execute_result"
    }
   ],
   "source": [
    "combined.rating.dtype # Confirm the rating is numeric type."
   ]
  },
  {
   "cell_type": "markdown",
   "metadata": {},
   "source": [
    "Cleaning our rating and rating_pop columns by removing commas and any missing values in either column."
   ]
  },
  {
   "cell_type": "code",
   "execution_count": 40,
   "metadata": {},
   "outputs": [
    {
     "data": {
      "text/html": [
       "<div>\n",
       "<style scoped>\n",
       "    .dataframe tbody tr th:only-of-type {\n",
       "        vertical-align: middle;\n",
       "    }\n",
       "\n",
       "    .dataframe tbody tr th {\n",
       "        vertical-align: top;\n",
       "    }\n",
       "\n",
       "    .dataframe thead th {\n",
       "        text-align: right;\n",
       "    }\n",
       "</style>\n",
       "<table border=\"1\" class=\"dataframe\">\n",
       "  <thead>\n",
       "    <tr style=\"text-align: right;\">\n",
       "      <th></th>\n",
       "      <th>index</th>\n",
       "      <th>url</th>\n",
       "      <th>title</th>\n",
       "      <th>year</th>\n",
       "      <th>genre</th>\n",
       "      <th>gross_usa</th>\n",
       "      <th>budget</th>\n",
       "      <th>worldwide_gross</th>\n",
       "      <th>pg_rated</th>\n",
       "      <th>rating</th>\n",
       "      <th>rating_pop</th>\n",
       "    </tr>\n",
       "  </thead>\n",
       "  <tbody>\n",
       "    <tr>\n",
       "      <th>0</th>\n",
       "      <td>0</td>\n",
       "      <td>https://www.imdb.com/title/tt0054215/</td>\n",
       "      <td>Psycho</td>\n",
       "      <td>1960</td>\n",
       "      <td>['Horror', 'Mystery', 'Thriller']</td>\n",
       "      <td>$32,000,000</td>\n",
       "      <td>$806,947</td>\n",
       "      <td>$32,000,000</td>\n",
       "      <td>NaN</td>\n",
       "      <td>8.5</td>\n",
       "      <td>580863</td>\n",
       "    </tr>\n",
       "    <tr>\n",
       "      <th>1</th>\n",
       "      <td>1</td>\n",
       "      <td>https://www.imdb.com/title/tt0054047/</td>\n",
       "      <td>The Magnificent Seven</td>\n",
       "      <td>1960</td>\n",
       "      <td>['Action', 'Adventure', 'Western']</td>\n",
       "      <td>NaN</td>\n",
       "      <td>$2,000,000</td>\n",
       "      <td>NaN</td>\n",
       "      <td>NaN</td>\n",
       "      <td>7.7</td>\n",
       "      <td>85315</td>\n",
       "    </tr>\n",
       "    <tr>\n",
       "      <th>2</th>\n",
       "      <td>2</td>\n",
       "      <td>https://www.imdb.com/title/tt0054331/</td>\n",
       "      <td>Spartacus</td>\n",
       "      <td>1960</td>\n",
       "      <td>['Adventure', 'Biography', 'Drama', 'History',...</td>\n",
       "      <td>$1,830,650</td>\n",
       "      <td>$12,000,000</td>\n",
       "      <td>$1,836,351</td>\n",
       "      <td>NaN</td>\n",
       "      <td>7.9</td>\n",
       "      <td>120895</td>\n",
       "    </tr>\n",
       "    <tr>\n",
       "      <th>3</th>\n",
       "      <td>3</td>\n",
       "      <td>https://www.imdb.com/title/tt0053604/</td>\n",
       "      <td>The Apartment</td>\n",
       "      <td>1960</td>\n",
       "      <td>['Comedy', 'Drama', 'Romance']</td>\n",
       "      <td>NaN</td>\n",
       "      <td>$3,000,000</td>\n",
       "      <td>$177,066</td>\n",
       "      <td>NaN</td>\n",
       "      <td>8.3</td>\n",
       "      <td>157134</td>\n",
       "    </tr>\n",
       "    <tr>\n",
       "      <th>4</th>\n",
       "      <td>4</td>\n",
       "      <td>https://www.imdb.com/title/tt0053917/</td>\n",
       "      <td>Home from the Hill</td>\n",
       "      <td>1960</td>\n",
       "      <td>['Drama', 'Romance']</td>\n",
       "      <td>NaN</td>\n",
       "      <td>$1,818,688</td>\n",
       "      <td>NaN</td>\n",
       "      <td>NaN</td>\n",
       "      <td>7.4</td>\n",
       "      <td>2864</td>\n",
       "    </tr>\n",
       "    <tr>\n",
       "      <th>...</th>\n",
       "      <td>...</td>\n",
       "      <td>...</td>\n",
       "      <td>...</td>\n",
       "      <td>...</td>\n",
       "      <td>...</td>\n",
       "      <td>...</td>\n",
       "      <td>...</td>\n",
       "      <td>...</td>\n",
       "      <td>...</td>\n",
       "      <td>...</td>\n",
       "      <td>...</td>\n",
       "    </tr>\n",
       "    <tr>\n",
       "      <th>18291</th>\n",
       "      <td>18291</td>\n",
       "      <td>https://www.imdb.com/title/tt10370380/</td>\n",
       "      <td>The Windermere Children</td>\n",
       "      <td>2020</td>\n",
       "      <td>['Drama', 'War']</td>\n",
       "      <td>NaN</td>\n",
       "      <td>NaN</td>\n",
       "      <td>NaN</td>\n",
       "      <td>NaN</td>\n",
       "      <td>7.3</td>\n",
       "      <td>1577</td>\n",
       "    </tr>\n",
       "    <tr>\n",
       "      <th>18292</th>\n",
       "      <td>18292</td>\n",
       "      <td>https://www.imdb.com/title/tt11127878/</td>\n",
       "      <td>Milea</td>\n",
       "      <td>2020</td>\n",
       "      <td>['Drama', 'Romance']</td>\n",
       "      <td>NaN</td>\n",
       "      <td>NaN</td>\n",
       "      <td>NaN</td>\n",
       "      <td>NaN</td>\n",
       "      <td>6.2</td>\n",
       "      <td>187</td>\n",
       "    </tr>\n",
       "    <tr>\n",
       "      <th>18293</th>\n",
       "      <td>18293</td>\n",
       "      <td>https://www.imdb.com/title/tt11358398/</td>\n",
       "      <td>The Man Standing Next</td>\n",
       "      <td>2020</td>\n",
       "      <td>['History', 'Thriller']</td>\n",
       "      <td>$113,527</td>\n",
       "      <td>NaN</td>\n",
       "      <td>$34,664,900</td>\n",
       "      <td>NaN</td>\n",
       "      <td>7.0</td>\n",
       "      <td>822</td>\n",
       "    </tr>\n",
       "    <tr>\n",
       "      <th>18297</th>\n",
       "      <td>18297</td>\n",
       "      <td>https://www.imdb.com/title/tt5714470/</td>\n",
       "      <td>Come Away</td>\n",
       "      <td>2020</td>\n",
       "      <td>['Adventure', 'Drama', 'Fantasy']</td>\n",
       "      <td>NaN</td>\n",
       "      <td>NaN</td>\n",
       "      <td>NaN</td>\n",
       "      <td>NaN</td>\n",
       "      <td>6.6</td>\n",
       "      <td>27</td>\n",
       "    </tr>\n",
       "    <tr>\n",
       "      <th>18298</th>\n",
       "      <td>18298</td>\n",
       "      <td>https://www.imdb.com/title/tt6559576/</td>\n",
       "      <td>Selfie Dad</td>\n",
       "      <td>2020</td>\n",
       "      <td>['Comedy', 'Family']</td>\n",
       "      <td>NaN</td>\n",
       "      <td>NaN</td>\n",
       "      <td>NaN</td>\n",
       "      <td>PG</td>\n",
       "      <td>3.7</td>\n",
       "      <td>83</td>\n",
       "    </tr>\n",
       "  </tbody>\n",
       "</table>\n",
       "<p>18183 rows × 11 columns</p>\n",
       "</div>"
      ],
      "text/plain": [
       "       index                                     url                    title  \\\n",
       "0          0   https://www.imdb.com/title/tt0054215/                   Psycho   \n",
       "1          1   https://www.imdb.com/title/tt0054047/    The Magnificent Seven   \n",
       "2          2   https://www.imdb.com/title/tt0054331/                Spartacus   \n",
       "3          3   https://www.imdb.com/title/tt0053604/            The Apartment   \n",
       "4          4   https://www.imdb.com/title/tt0053917/       Home from the Hill   \n",
       "...      ...                                     ...                      ...   \n",
       "18291  18291  https://www.imdb.com/title/tt10370380/  The Windermere Children   \n",
       "18292  18292  https://www.imdb.com/title/tt11127878/                    Milea   \n",
       "18293  18293  https://www.imdb.com/title/tt11358398/    The Man Standing Next   \n",
       "18297  18297   https://www.imdb.com/title/tt5714470/                Come Away   \n",
       "18298  18298   https://www.imdb.com/title/tt6559576/               Selfie Dad   \n",
       "\n",
       "       year                                              genre    gross_usa  \\\n",
       "0      1960                  ['Horror', 'Mystery', 'Thriller']  $32,000,000   \n",
       "1      1960                 ['Action', 'Adventure', 'Western']          NaN   \n",
       "2      1960  ['Adventure', 'Biography', 'Drama', 'History',...   $1,830,650   \n",
       "3      1960                     ['Comedy', 'Drama', 'Romance']          NaN   \n",
       "4      1960                               ['Drama', 'Romance']          NaN   \n",
       "...     ...                                                ...          ...   \n",
       "18291  2020                                   ['Drama', 'War']          NaN   \n",
       "18292  2020                               ['Drama', 'Romance']          NaN   \n",
       "18293  2020                            ['History', 'Thriller']     $113,527   \n",
       "18297  2020                  ['Adventure', 'Drama', 'Fantasy']          NaN   \n",
       "18298  2020                               ['Comedy', 'Family']          NaN   \n",
       "\n",
       "            budget worldwide_gross pg_rated  rating rating_pop  \n",
       "0         $806,947     $32,000,000      NaN     8.5     580863  \n",
       "1       $2,000,000             NaN      NaN     7.7      85315  \n",
       "2      $12,000,000      $1,836,351      NaN     7.9     120895  \n",
       "3       $3,000,000        $177,066      NaN     8.3     157134  \n",
       "4       $1,818,688             NaN      NaN     7.4       2864  \n",
       "...            ...             ...      ...     ...        ...  \n",
       "18291          NaN             NaN      NaN     7.3       1577  \n",
       "18292          NaN             NaN      NaN     6.2        187  \n",
       "18293          NaN     $34,664,900      NaN     7.0        822  \n",
       "18297          NaN             NaN      NaN     6.6         27  \n",
       "18298          NaN             NaN       PG     3.7         83  \n",
       "\n",
       "[18183 rows x 11 columns]"
      ]
     },
     "execution_count": 40,
     "metadata": {},
     "output_type": "execute_result"
    }
   ],
   "source": [
    "combined['rating_pop'] = combined.rating_pop.str.replace(',', '') # Remove commas.\n",
    "combined.dropna(inplace = True, subset=['rating', 'rating_pop'])  # Remove missing values from rating and rating_pop.\n",
    "combined                                                          #"
   ]
  },
  {
   "cell_type": "markdown",
   "metadata": {},
   "source": [
    "### Data Visualization for Rating Distribution:"
   ]
  },
  {
   "cell_type": "markdown",
   "metadata": {},
   "source": [
    "Now we get to start visualizing. Let's plot the distribution of user ratings."
   ]
  },
  {
   "cell_type": "code",
   "execution_count": 41,
   "metadata": {},
   "outputs": [
    {
     "data": {
      "text/plain": [
       "Text(6.55, 0.1, 'Breakeven Point')"
      ]
     },
     "execution_count": 41,
     "metadata": {},
     "output_type": "execute_result"
    },
    {
     "data": {
      "image/png": "[encoded data removed]",
      "text/plain": [
       "<Figure size 432x288 with 1 Axes>"
      ]
     },
     "metadata": {
      "needs_background": "light"
     },
     "output_type": "display_data"
    }
   ],
   "source": [
    "sns.distplot(combined.rating, bins = 20)                  # Plot movie rating distribution. \n",
    "plt.title('Distribution of User Rating')                  # Set title.\n",
    "plt.xlabel('User Rating')                                 # Set x-axis label.\n",
    "plt.axvline(x = 6.5)                                      # Create a vertical line at the breakeven point.\n",
    "plt.text(6.55,0.1,'Breakeven Point', color = 'royalblue') # Create text on graph."
   ]
  },
  {
   "cell_type": "markdown",
   "metadata": {},
   "source": [
    "As we can see, the mean user rating is about a 6.25 out of 10. And there's a slight negative skew, possibly because users are more likely to go and rate movies they didn't like, and 10 out of 10 reviews are very rare."
   ]
  },
  {
   "cell_type": "markdown",
   "metadata": {},
   "source": [
    "### Data Cleaning P.2: Incorporating Revenue"
   ]
  },
  {
   "cell_type": "markdown",
   "metadata": {},
   "source": [
    "Now let's try to incorporate worldwide gross revenue and see how it relates to a movie's rating."
   ]
  },
  {
   "cell_type": "markdown",
   "metadata": {},
   "source": [
    "We need to drop missing values from the worldwide_gross column."
   ]
  },
  {
   "cell_type": "code",
   "execution_count": 42,
   "metadata": {},
   "outputs": [],
   "source": [
    "combined_gross = combined.dropna(subset=['worldwide_gross']) # Drop missing values from worldwide gross. "
   ]
  },
  {
   "cell_type": "markdown",
   "metadata": {},
   "source": [
    "Now let's clean the remaining entries by removing commas and stripping the dollar signs. "
   ]
  },
  {
   "cell_type": "code",
   "execution_count": 43,
   "metadata": {},
   "outputs": [
    {
     "name": "stderr",
     "output_type": "stream",
     "text": [
      "/Users/arencarpenter/opt/anaconda3/lib/python3.7/site-packages/ipykernel_launcher.py:1: SettingWithCopyWarning: \n",
      "A value is trying to be set on a copy of a slice from a DataFrame.\n",
      "Try using .loc[row_indexer,col_indexer] = value instead\n",
      "\n",
      "See the caveats in the documentation: https://pandas.pydata.org/pandas-docs/stable/user_guide/indexing.html#returning-a-view-versus-a-copy\n",
      "  \"\"\"Entry point for launching an IPython kernel.\n",
      "/Users/arencarpenter/opt/anaconda3/lib/python3.7/site-packages/ipykernel_launcher.py:2: SettingWithCopyWarning: \n",
      "A value is trying to be set on a copy of a slice from a DataFrame.\n",
      "Try using .loc[row_indexer,col_indexer] = value instead\n",
      "\n",
      "See the caveats in the documentation: https://pandas.pydata.org/pandas-docs/stable/user_guide/indexing.html#returning-a-view-versus-a-copy\n",
      "  \n"
     ]
    }
   ],
   "source": [
    "combined_gross['worldwide_gross'] = combined_gross.worldwide_gross.str.replace(',', '') # Remove commas and dollar \n",
    "combined_gross['worldwide_gross'] = combined_gross.worldwide_gross.str.strip('$')       # signs. "
   ]
  },
  {
   "cell_type": "markdown",
   "metadata": {},
   "source": [
    "Examine our changes. Looking good. "
   ]
  },
  {
   "cell_type": "code",
   "execution_count": 44,
   "metadata": {
    "scrolled": true
   },
   "outputs": [
    {
     "data": {
      "text/html": [
       "<div>\n",
       "<style scoped>\n",
       "    .dataframe tbody tr th:only-of-type {\n",
       "        vertical-align: middle;\n",
       "    }\n",
       "\n",
       "    .dataframe tbody tr th {\n",
       "        vertical-align: top;\n",
       "    }\n",
       "\n",
       "    .dataframe thead th {\n",
       "        text-align: right;\n",
       "    }\n",
       "</style>\n",
       "<table border=\"1\" class=\"dataframe\">\n",
       "  <thead>\n",
       "    <tr style=\"text-align: right;\">\n",
       "      <th></th>\n",
       "      <th>index</th>\n",
       "      <th>url</th>\n",
       "      <th>title</th>\n",
       "      <th>year</th>\n",
       "      <th>genre</th>\n",
       "      <th>gross_usa</th>\n",
       "      <th>budget</th>\n",
       "      <th>worldwide_gross</th>\n",
       "      <th>pg_rated</th>\n",
       "      <th>rating</th>\n",
       "      <th>rating_pop</th>\n",
       "    </tr>\n",
       "  </thead>\n",
       "  <tbody>\n",
       "    <tr>\n",
       "      <th>0</th>\n",
       "      <td>0</td>\n",
       "      <td>https://www.imdb.com/title/tt0054215/</td>\n",
       "      <td>Psycho</td>\n",
       "      <td>1960</td>\n",
       "      <td>['Horror', 'Mystery', 'Thriller']</td>\n",
       "      <td>$32,000,000</td>\n",
       "      <td>$806,947</td>\n",
       "      <td>32000000</td>\n",
       "      <td>NaN</td>\n",
       "      <td>8.5</td>\n",
       "      <td>580863</td>\n",
       "    </tr>\n",
       "    <tr>\n",
       "      <th>2</th>\n",
       "      <td>2</td>\n",
       "      <td>https://www.imdb.com/title/tt0054331/</td>\n",
       "      <td>Spartacus</td>\n",
       "      <td>1960</td>\n",
       "      <td>['Adventure', 'Biography', 'Drama', 'History',...</td>\n",
       "      <td>$1,830,650</td>\n",
       "      <td>$12,000,000</td>\n",
       "      <td>1836351</td>\n",
       "      <td>NaN</td>\n",
       "      <td>7.9</td>\n",
       "      <td>120895</td>\n",
       "    </tr>\n",
       "    <tr>\n",
       "      <th>3</th>\n",
       "      <td>3</td>\n",
       "      <td>https://www.imdb.com/title/tt0053604/</td>\n",
       "      <td>The Apartment</td>\n",
       "      <td>1960</td>\n",
       "      <td>['Comedy', 'Drama', 'Romance']</td>\n",
       "      <td>NaN</td>\n",
       "      <td>$3,000,000</td>\n",
       "      <td>177066</td>\n",
       "      <td>NaN</td>\n",
       "      <td>8.3</td>\n",
       "      <td>157134</td>\n",
       "    </tr>\n",
       "    <tr>\n",
       "      <th>5</th>\n",
       "      <td>5</td>\n",
       "      <td>https://www.imdb.com/title/tt0054357/</td>\n",
       "      <td>Swiss Family Robinson</td>\n",
       "      <td>1960</td>\n",
       "      <td>['Adventure', 'Family']</td>\n",
       "      <td>$40,356,000</td>\n",
       "      <td>$5,000,000</td>\n",
       "      <td>40356000</td>\n",
       "      <td>NaN</td>\n",
       "      <td>7.2</td>\n",
       "      <td>13620</td>\n",
       "    </tr>\n",
       "    <tr>\n",
       "      <th>7</th>\n",
       "      <td>7</td>\n",
       "      <td>https://www.imdb.com/title/tt0053779/</td>\n",
       "      <td>La Dolce Vita</td>\n",
       "      <td>1960</td>\n",
       "      <td>['Comedy', 'Drama']</td>\n",
       "      <td>NaN</td>\n",
       "      <td>NaN</td>\n",
       "      <td>171140</td>\n",
       "      <td>NaN</td>\n",
       "      <td>8.0</td>\n",
       "      <td>63887</td>\n",
       "    </tr>\n",
       "    <tr>\n",
       "      <th>...</th>\n",
       "      <td>...</td>\n",
       "      <td>...</td>\n",
       "      <td>...</td>\n",
       "      <td>...</td>\n",
       "      <td>...</td>\n",
       "      <td>...</td>\n",
       "      <td>...</td>\n",
       "      <td>...</td>\n",
       "      <td>...</td>\n",
       "      <td>...</td>\n",
       "      <td>...</td>\n",
       "    </tr>\n",
       "    <tr>\n",
       "      <th>18277</th>\n",
       "      <td>18277</td>\n",
       "      <td>https://www.imdb.com/title/tt9537292/</td>\n",
       "      <td>Ala Vaikunthapurramuloo</td>\n",
       "      <td>2020</td>\n",
       "      <td>['Action', 'Drama']</td>\n",
       "      <td>NaN</td>\n",
       "      <td>NaN</td>\n",
       "      <td>631683</td>\n",
       "      <td>NaN</td>\n",
       "      <td>7.2</td>\n",
       "      <td>5734</td>\n",
       "    </tr>\n",
       "    <tr>\n",
       "      <th>18280</th>\n",
       "      <td>18280</td>\n",
       "      <td>https://www.imdb.com/title/tt10816484/</td>\n",
       "      <td>18 Presents</td>\n",
       "      <td>2020</td>\n",
       "      <td>['Drama']</td>\n",
       "      <td>NaN</td>\n",
       "      <td>EUR2,500,000</td>\n",
       "      <td>3486375</td>\n",
       "      <td>NaN</td>\n",
       "      <td>6.7</td>\n",
       "      <td>1952</td>\n",
       "    </tr>\n",
       "    <tr>\n",
       "      <th>18282</th>\n",
       "      <td>18282</td>\n",
       "      <td>https://www.imdb.com/title/tt8415352/</td>\n",
       "      <td>The Murder of Nicole Brown Simpson</td>\n",
       "      <td>2020</td>\n",
       "      <td>['Crime', 'Thriller']</td>\n",
       "      <td>NaN</td>\n",
       "      <td>NaN</td>\n",
       "      <td>8931</td>\n",
       "      <td>R</td>\n",
       "      <td>2.2</td>\n",
       "      <td>789</td>\n",
       "    </tr>\n",
       "    <tr>\n",
       "      <th>18290</th>\n",
       "      <td>18290</td>\n",
       "      <td>https://www.imdb.com/title/tt7095476/</td>\n",
       "      <td>Waiting for Anya</td>\n",
       "      <td>2020</td>\n",
       "      <td>['Drama', 'Thriller', 'War']</td>\n",
       "      <td>NaN</td>\n",
       "      <td>$10,000,000</td>\n",
       "      <td>36404</td>\n",
       "      <td>NaN</td>\n",
       "      <td>5.6</td>\n",
       "      <td>431</td>\n",
       "    </tr>\n",
       "    <tr>\n",
       "      <th>18293</th>\n",
       "      <td>18293</td>\n",
       "      <td>https://www.imdb.com/title/tt11358398/</td>\n",
       "      <td>The Man Standing Next</td>\n",
       "      <td>2020</td>\n",
       "      <td>['History', 'Thriller']</td>\n",
       "      <td>$113,527</td>\n",
       "      <td>NaN</td>\n",
       "      <td>34664900</td>\n",
       "      <td>NaN</td>\n",
       "      <td>7.0</td>\n",
       "      <td>822</td>\n",
       "    </tr>\n",
       "  </tbody>\n",
       "</table>\n",
       "<p>10087 rows × 11 columns</p>\n",
       "</div>"
      ],
      "text/plain": [
       "       index                                     url  \\\n",
       "0          0   https://www.imdb.com/title/tt0054215/   \n",
       "2          2   https://www.imdb.com/title/tt0054331/   \n",
       "3          3   https://www.imdb.com/title/tt0053604/   \n",
       "5          5   https://www.imdb.com/title/tt0054357/   \n",
       "7          7   https://www.imdb.com/title/tt0053779/   \n",
       "...      ...                                     ...   \n",
       "18277  18277   https://www.imdb.com/title/tt9537292/   \n",
       "18280  18280  https://www.imdb.com/title/tt10816484/   \n",
       "18282  18282   https://www.imdb.com/title/tt8415352/   \n",
       "18290  18290   https://www.imdb.com/title/tt7095476/   \n",
       "18293  18293  https://www.imdb.com/title/tt11358398/   \n",
       "\n",
       "                                    title  year  \\\n",
       "0                                  Psycho  1960   \n",
       "2                               Spartacus  1960   \n",
       "3                           The Apartment  1960   \n",
       "5                   Swiss Family Robinson  1960   \n",
       "7                           La Dolce Vita  1960   \n",
       "...                                   ...   ...   \n",
       "18277             Ala Vaikunthapurramuloo  2020   \n",
       "18280                         18 Presents  2020   \n",
       "18282  The Murder of Nicole Brown Simpson  2020   \n",
       "18290                    Waiting for Anya  2020   \n",
       "18293               The Man Standing Next  2020   \n",
       "\n",
       "                                                   genre    gross_usa  \\\n",
       "0                      ['Horror', 'Mystery', 'Thriller']  $32,000,000   \n",
       "2      ['Adventure', 'Biography', 'Drama', 'History',...   $1,830,650   \n",
       "3                         ['Comedy', 'Drama', 'Romance']          NaN   \n",
       "5                                ['Adventure', 'Family']  $40,356,000   \n",
       "7                                    ['Comedy', 'Drama']          NaN   \n",
       "...                                                  ...          ...   \n",
       "18277                                ['Action', 'Drama']          NaN   \n",
       "18280                                          ['Drama']          NaN   \n",
       "18282                              ['Crime', 'Thriller']          NaN   \n",
       "18290                       ['Drama', 'Thriller', 'War']          NaN   \n",
       "18293                            ['History', 'Thriller']     $113,527   \n",
       "\n",
       "             budget worldwide_gross pg_rated  rating rating_pop  \n",
       "0          $806,947        32000000      NaN     8.5     580863  \n",
       "2       $12,000,000         1836351      NaN     7.9     120895  \n",
       "3        $3,000,000          177066      NaN     8.3     157134  \n",
       "5        $5,000,000        40356000      NaN     7.2      13620  \n",
       "7               NaN          171140      NaN     8.0      63887  \n",
       "...             ...             ...      ...     ...        ...  \n",
       "18277           NaN          631683      NaN     7.2       5734  \n",
       "18280  EUR2,500,000         3486375      NaN     6.7       1952  \n",
       "18282           NaN            8931        R     2.2        789  \n",
       "18290   $10,000,000           36404      NaN     5.6        431  \n",
       "18293           NaN        34664900      NaN     7.0        822  \n",
       "\n",
       "[10087 rows x 11 columns]"
      ]
     },
     "execution_count": 44,
     "metadata": {},
     "output_type": "execute_result"
    }
   ],
   "source": [
    "combined_gross # Examine changes."
   ]
  },
  {
   "cell_type": "markdown",
   "metadata": {},
   "source": [
    "Now that we have removed special characters we need to recast the column from an object 'O' to an 'int64'."
   ]
  },
  {
   "cell_type": "code",
   "execution_count": 45,
   "metadata": {
    "scrolled": true
   },
   "outputs": [
    {
     "data": {
      "text/plain": [
       "dtype('O')"
      ]
     },
     "execution_count": 45,
     "metadata": {},
     "output_type": "execute_result"
    }
   ],
   "source": [
    "combined_gross.worldwide_gross.dtype # Worldwide gross is 'object' type. Need to recast as numeric. "
   ]
  },
  {
   "cell_type": "markdown",
   "metadata": {},
   "source": [
    "We also had two non-USD entries that we removed manually. "
   ]
  },
  {
   "cell_type": "code",
   "execution_count": 46,
   "metadata": {},
   "outputs": [
    {
     "name": "stderr",
     "output_type": "stream",
     "text": [
      "/Users/arencarpenter/opt/anaconda3/lib/python3.7/site-packages/pandas/core/generic.py:3939: SettingWithCopyWarning: \n",
      "A value is trying to be set on a copy of a slice from a DataFrame\n",
      "\n",
      "See the caveats in the documentation: https://pandas.pydata.org/pandas-docs/stable/user_guide/indexing.html#returning-a-view-versus-a-copy\n",
      "  self._update_inplace(obj)\n"
     ]
    }
   ],
   "source": [
    "combined_gross.worldwide_gross.drop([11895, 12556], axis=0, inplace=True) # This throws a warning because altering a\n",
    "                                                                          # copy of the original dataframe. But let the\n",
    "                                                                          # change go through."
   ]
  },
  {
   "cell_type": "code",
   "execution_count": 47,
   "metadata": {},
   "outputs": [
    {
     "data": {
      "text/html": [
       "<div>\n",
       "<style scoped>\n",
       "    .dataframe tbody tr th:only-of-type {\n",
       "        vertical-align: middle;\n",
       "    }\n",
       "\n",
       "    .dataframe tbody tr th {\n",
       "        vertical-align: top;\n",
       "    }\n",
       "\n",
       "    .dataframe thead th {\n",
       "        text-align: right;\n",
       "    }\n",
       "</style>\n",
       "<table border=\"1\" class=\"dataframe\">\n",
       "  <thead>\n",
       "    <tr style=\"text-align: right;\">\n",
       "      <th></th>\n",
       "      <th>index</th>\n",
       "      <th>url</th>\n",
       "      <th>title</th>\n",
       "      <th>year</th>\n",
       "      <th>genre</th>\n",
       "      <th>gross_usa</th>\n",
       "      <th>budget</th>\n",
       "      <th>worldwide_gross</th>\n",
       "      <th>pg_rated</th>\n",
       "      <th>rating</th>\n",
       "      <th>rating_pop</th>\n",
       "    </tr>\n",
       "  </thead>\n",
       "  <tbody>\n",
       "    <tr>\n",
       "      <th>0</th>\n",
       "      <td>0</td>\n",
       "      <td>https://www.imdb.com/title/tt0054215/</td>\n",
       "      <td>Psycho</td>\n",
       "      <td>1960</td>\n",
       "      <td>['Horror', 'Mystery', 'Thriller']</td>\n",
       "      <td>$32,000,000</td>\n",
       "      <td>$806,947</td>\n",
       "      <td>32000000</td>\n",
       "      <td>NaN</td>\n",
       "      <td>8.5</td>\n",
       "      <td>580863</td>\n",
       "    </tr>\n",
       "    <tr>\n",
       "      <th>2</th>\n",
       "      <td>2</td>\n",
       "      <td>https://www.imdb.com/title/tt0054331/</td>\n",
       "      <td>Spartacus</td>\n",
       "      <td>1960</td>\n",
       "      <td>['Adventure', 'Biography', 'Drama', 'History',...</td>\n",
       "      <td>$1,830,650</td>\n",
       "      <td>$12,000,000</td>\n",
       "      <td>1836351</td>\n",
       "      <td>NaN</td>\n",
       "      <td>7.9</td>\n",
       "      <td>120895</td>\n",
       "    </tr>\n",
       "    <tr>\n",
       "      <th>3</th>\n",
       "      <td>3</td>\n",
       "      <td>https://www.imdb.com/title/tt0053604/</td>\n",
       "      <td>The Apartment</td>\n",
       "      <td>1960</td>\n",
       "      <td>['Comedy', 'Drama', 'Romance']</td>\n",
       "      <td>NaN</td>\n",
       "      <td>$3,000,000</td>\n",
       "      <td>177066</td>\n",
       "      <td>NaN</td>\n",
       "      <td>8.3</td>\n",
       "      <td>157134</td>\n",
       "    </tr>\n",
       "    <tr>\n",
       "      <th>5</th>\n",
       "      <td>5</td>\n",
       "      <td>https://www.imdb.com/title/tt0054357/</td>\n",
       "      <td>Swiss Family Robinson</td>\n",
       "      <td>1960</td>\n",
       "      <td>['Adventure', 'Family']</td>\n",
       "      <td>$40,356,000</td>\n",
       "      <td>$5,000,000</td>\n",
       "      <td>40356000</td>\n",
       "      <td>NaN</td>\n",
       "      <td>7.2</td>\n",
       "      <td>13620</td>\n",
       "    </tr>\n",
       "    <tr>\n",
       "      <th>7</th>\n",
       "      <td>7</td>\n",
       "      <td>https://www.imdb.com/title/tt0053779/</td>\n",
       "      <td>La Dolce Vita</td>\n",
       "      <td>1960</td>\n",
       "      <td>['Comedy', 'Drama']</td>\n",
       "      <td>NaN</td>\n",
       "      <td>NaN</td>\n",
       "      <td>171140</td>\n",
       "      <td>NaN</td>\n",
       "      <td>8.0</td>\n",
       "      <td>63887</td>\n",
       "    </tr>\n",
       "    <tr>\n",
       "      <th>...</th>\n",
       "      <td>...</td>\n",
       "      <td>...</td>\n",
       "      <td>...</td>\n",
       "      <td>...</td>\n",
       "      <td>...</td>\n",
       "      <td>...</td>\n",
       "      <td>...</td>\n",
       "      <td>...</td>\n",
       "      <td>...</td>\n",
       "      <td>...</td>\n",
       "      <td>...</td>\n",
       "    </tr>\n",
       "    <tr>\n",
       "      <th>18277</th>\n",
       "      <td>18277</td>\n",
       "      <td>https://www.imdb.com/title/tt9537292/</td>\n",
       "      <td>Ala Vaikunthapurramuloo</td>\n",
       "      <td>2020</td>\n",
       "      <td>['Action', 'Drama']</td>\n",
       "      <td>NaN</td>\n",
       "      <td>NaN</td>\n",
       "      <td>631683</td>\n",
       "      <td>NaN</td>\n",
       "      <td>7.2</td>\n",
       "      <td>5734</td>\n",
       "    </tr>\n",
       "    <tr>\n",
       "      <th>18280</th>\n",
       "      <td>18280</td>\n",
       "      <td>https://www.imdb.com/title/tt10816484/</td>\n",
       "      <td>18 Presents</td>\n",
       "      <td>2020</td>\n",
       "      <td>['Drama']</td>\n",
       "      <td>NaN</td>\n",
       "      <td>EUR2,500,000</td>\n",
       "      <td>3486375</td>\n",
       "      <td>NaN</td>\n",
       "      <td>6.7</td>\n",
       "      <td>1952</td>\n",
       "    </tr>\n",
       "    <tr>\n",
       "      <th>18282</th>\n",
       "      <td>18282</td>\n",
       "      <td>https://www.imdb.com/title/tt8415352/</td>\n",
       "      <td>The Murder of Nicole Brown Simpson</td>\n",
       "      <td>2020</td>\n",
       "      <td>['Crime', 'Thriller']</td>\n",
       "      <td>NaN</td>\n",
       "      <td>NaN</td>\n",
       "      <td>8931</td>\n",
       "      <td>R</td>\n",
       "      <td>2.2</td>\n",
       "      <td>789</td>\n",
       "    </tr>\n",
       "    <tr>\n",
       "      <th>18290</th>\n",
       "      <td>18290</td>\n",
       "      <td>https://www.imdb.com/title/tt7095476/</td>\n",
       "      <td>Waiting for Anya</td>\n",
       "      <td>2020</td>\n",
       "      <td>['Drama', 'Thriller', 'War']</td>\n",
       "      <td>NaN</td>\n",
       "      <td>$10,000,000</td>\n",
       "      <td>36404</td>\n",
       "      <td>NaN</td>\n",
       "      <td>5.6</td>\n",
       "      <td>431</td>\n",
       "    </tr>\n",
       "    <tr>\n",
       "      <th>18293</th>\n",
       "      <td>18293</td>\n",
       "      <td>https://www.imdb.com/title/tt11358398/</td>\n",
       "      <td>The Man Standing Next</td>\n",
       "      <td>2020</td>\n",
       "      <td>['History', 'Thriller']</td>\n",
       "      <td>$113,527</td>\n",
       "      <td>NaN</td>\n",
       "      <td>34664900</td>\n",
       "      <td>NaN</td>\n",
       "      <td>7.0</td>\n",
       "      <td>822</td>\n",
       "    </tr>\n",
       "  </tbody>\n",
       "</table>\n",
       "<p>10087 rows × 11 columns</p>\n",
       "</div>"
      ],
      "text/plain": [
       "       index                                     url  \\\n",
       "0          0   https://www.imdb.com/title/tt0054215/   \n",
       "2          2   https://www.imdb.com/title/tt0054331/   \n",
       "3          3   https://www.imdb.com/title/tt0053604/   \n",
       "5          5   https://www.imdb.com/title/tt0054357/   \n",
       "7          7   https://www.imdb.com/title/tt0053779/   \n",
       "...      ...                                     ...   \n",
       "18277  18277   https://www.imdb.com/title/tt9537292/   \n",
       "18280  18280  https://www.imdb.com/title/tt10816484/   \n",
       "18282  18282   https://www.imdb.com/title/tt8415352/   \n",
       "18290  18290   https://www.imdb.com/title/tt7095476/   \n",
       "18293  18293  https://www.imdb.com/title/tt11358398/   \n",
       "\n",
       "                                    title  year  \\\n",
       "0                                  Psycho  1960   \n",
       "2                               Spartacus  1960   \n",
       "3                           The Apartment  1960   \n",
       "5                   Swiss Family Robinson  1960   \n",
       "7                           La Dolce Vita  1960   \n",
       "...                                   ...   ...   \n",
       "18277             Ala Vaikunthapurramuloo  2020   \n",
       "18280                         18 Presents  2020   \n",
       "18282  The Murder of Nicole Brown Simpson  2020   \n",
       "18290                    Waiting for Anya  2020   \n",
       "18293               The Man Standing Next  2020   \n",
       "\n",
       "                                                   genre    gross_usa  \\\n",
       "0                      ['Horror', 'Mystery', 'Thriller']  $32,000,000   \n",
       "2      ['Adventure', 'Biography', 'Drama', 'History',...   $1,830,650   \n",
       "3                         ['Comedy', 'Drama', 'Romance']          NaN   \n",
       "5                                ['Adventure', 'Family']  $40,356,000   \n",
       "7                                    ['Comedy', 'Drama']          NaN   \n",
       "...                                                  ...          ...   \n",
       "18277                                ['Action', 'Drama']          NaN   \n",
       "18280                                          ['Drama']          NaN   \n",
       "18282                              ['Crime', 'Thriller']          NaN   \n",
       "18290                       ['Drama', 'Thriller', 'War']          NaN   \n",
       "18293                            ['History', 'Thriller']     $113,527   \n",
       "\n",
       "             budget worldwide_gross pg_rated  rating rating_pop  \n",
       "0          $806,947        32000000      NaN     8.5     580863  \n",
       "2       $12,000,000         1836351      NaN     7.9     120895  \n",
       "3        $3,000,000          177066      NaN     8.3     157134  \n",
       "5        $5,000,000        40356000      NaN     7.2      13620  \n",
       "7               NaN          171140      NaN     8.0      63887  \n",
       "...             ...             ...      ...     ...        ...  \n",
       "18277           NaN          631683      NaN     7.2       5734  \n",
       "18280  EUR2,500,000         3486375      NaN     6.7       1952  \n",
       "18282           NaN            8931        R     2.2        789  \n",
       "18290   $10,000,000           36404      NaN     5.6        431  \n",
       "18293           NaN        34664900      NaN     7.0        822  \n",
       "\n",
       "[10087 rows x 11 columns]"
      ]
     },
     "execution_count": 47,
     "metadata": {},
     "output_type": "execute_result"
    }
   ],
   "source": [
    "combined_gross"
   ]
  },
  {
   "cell_type": "markdown",
   "metadata": {},
   "source": [
    "Now we can recast the column. "
   ]
  },
  {
   "cell_type": "code",
   "execution_count": 48,
   "metadata": {
    "scrolled": true
   },
   "outputs": [
    {
     "name": "stderr",
     "output_type": "stream",
     "text": [
      "/Users/arencarpenter/opt/anaconda3/lib/python3.7/site-packages/ipykernel_launcher.py:1: SettingWithCopyWarning: \n",
      "A value is trying to be set on a copy of a slice from a DataFrame.\n",
      "Try using .loc[row_indexer,col_indexer] = value instead\n",
      "\n",
      "See the caveats in the documentation: https://pandas.pydata.org/pandas-docs/stable/user_guide/indexing.html#returning-a-view-versus-a-copy\n",
      "  \"\"\"Entry point for launching an IPython kernel.\n"
     ]
    }
   ],
   "source": [
    "combined_gross['worldwide_gross'] = combined_gross.worldwide_gross.astype('int64') # This throws a warning due to\n",
    "                                                                                   # altering a copy of the dataframe."
   ]
  },
  {
   "cell_type": "markdown",
   "metadata": {},
   "source": [
    "And we can confirm the data type of the column is now a numerical value. "
   ]
  },
  {
   "cell_type": "code",
   "execution_count": 49,
   "metadata": {
    "scrolled": true
   },
   "outputs": [
    {
     "data": {
      "text/plain": [
       "dtype('float64')"
      ]
     },
     "execution_count": 49,
     "metadata": {},
     "output_type": "execute_result"
    }
   ],
   "source": [
    "combined_gross.worldwide_gross.dtype # Confirm that worldwide_gross is numerical."
   ]
  },
  {
   "cell_type": "markdown",
   "metadata": {},
   "source": [
    "### Data Visualization:"
   ]
  },
  {
   "cell_type": "markdown",
   "metadata": {},
   "source": [
    "Now we can visualize the average worldwide gross revenue for each user rating. "
   ]
  },
  {
   "cell_type": "code",
   "execution_count": 50,
   "metadata": {
    "scrolled": true
   },
   "outputs": [
    {
     "data": {
      "text/plain": [
       "Text(48.5, 200000000, 'Breakeven Point')"
      ]
     },
     "execution_count": 50,
     "metadata": {},
     "output_type": "execute_result"
    },
    {
     "data": {
      "image/png": "[encoded data removed]",
      "text/plain": [
       "<Figure size 1800x576 with 1 Axes>"
      ]
     },
     "metadata": {
      "needs_background": "light"
     },
     "output_type": "display_data"
    }
   ],
   "source": [
    "plt.figure(figsize=(25, 8))                                     # Set figure size. \n",
    "sns.barplot(x = 'rating', y = 'worldwide_gross', data = combined_gross, ci=None, palette='Blues_d')\n",
    "plt.yticks(np.arange(100000000, 600000000, 100000000))          # Setting axis labels and ticks. \n",
    "plt.title('Mean Gross Revenue by User Rating')                  # \n",
    "plt.ylabel('Worldwide Gross Revenue in hundred millions')       #\n",
    "plt.xlabel('Rating')                                            #\n",
    "sns.despine()                                                   #\n",
    "plt.axvline(x = 48)                                             # There are 76 x values, hence 48 aligning with a 6.5 \n",
    "plt.text(48.5,200000000,'Breakeven Point', color = 'royalblue') # rating (breakeven rating)."
   ]
  },
  {
   "cell_type": "markdown",
   "metadata": {},
   "source": [
    "Movies that are rated poorly do not have high worldwide gross revenue. We also transposed our calculated breakeven point rating of 6.5 unto this graph. On average, movies that score a user rating above this threshold earn a profit. And at the extreme, movies that score a 8.4 or above have very high revenues. "
   ]
  },
  {
   "cell_type": "markdown",
   "metadata": {},
   "source": [
    "### Insights:"
   ]
  },
  {
   "cell_type": "markdown",
   "metadata": {},
   "source": [
    "The average movie has a user rating on IMDB of about 6 out of 10. Comparing the respective budgets versus worldwide gross revenue suggests that movies with a user rating of 6.5 or greater have a positive return on investment. The key insights from this data are, that with an average rating of about 6 and the mean breakeven point being 6.5, about as many movies lose money as make money. Movies that make their budget back should have a rating greater than 6.5. That is, you should aim to make a highly rated film. While this seems obvious, there have been many examples of big summer blockbusters that flop at the box office due to poor reviews even with ample budget. "
   ]
  },
  {
   "cell_type": "markdown",
   "metadata": {},
   "source": [
    "======================================================================================================================"
   ]
  },
  {
   "cell_type": "markdown",
   "metadata": {},
   "source": [
    "## Exploratory Data Analysis: Genres and Revenue"
   ]
  },
  {
   "cell_type": "markdown",
   "metadata": {},
   "source": [
    "The type of movies that people deem popular today will change over time. With this assumption that genres trend over the years, we will explore how genres can play a part in revenue and how the distribution of popular genres have changed."
   ]
  },
  {
   "cell_type": "markdown",
   "metadata": {},
   "source": [
    "### Libraries to Import"
   ]
  },
  {
   "cell_type": "code",
   "execution_count": 51,
   "metadata": {},
   "outputs": [],
   "source": [
    "import pandas as pd\n",
    "import numpy as np\n",
    "import ast\n",
    "from tqdm import tqdm\n",
    "\n",
    "import seaborn as sns\n",
    "sns.set_palette(\"muted\")\n",
    "\n",
    "import matplotlib.pyplot as plt\n",
    "%matplotlib inline\n",
    "\n",
    "from scipy.stats import linregress"
   ]
  },
  {
   "cell_type": "markdown",
   "metadata": {},
   "source": [
    "### Import Data"
   ]
  },
  {
   "cell_type": "markdown",
   "metadata": {},
   "source": [
    "Import our dataset of scraped IMDB data. "
   ]
  },
  {
   "cell_type": "code",
   "execution_count": 54,
   "metadata": {},
   "outputs": [],
   "source": [
    "df = pd.read_csv('zippedData/combined.csv',index_col=0)"
   ]
  },
  {
   "cell_type": "markdown",
   "metadata": {},
   "source": [
    "### Defining Functions"
   ]
  },
  {
   "cell_type": "code",
   "execution_count": 55,
   "metadata": {},
   "outputs": [],
   "source": [
    "def genre_counter(dataframe):\n",
    "    '''\n",
    "    Returns a dictionary of counts by iterating over dataframe['genre_list'].\n",
    "    '''\n",
    "    m = {}\n",
    "    \n",
    "    for i in dataframe['genre_list']:\n",
    "        for x in i:\n",
    "            if x not in m:\n",
    "                m[x] = 1\n",
    "            else:\n",
    "                m[x] += 1\n",
    "    \n",
    "    sorted_m = {k: v for k,v in sorted(m.items(), key=lambda item: item[1], reverse=True)}\n",
    "    \n",
    "    return sorted_m"
   ]
  },
  {
   "cell_type": "code",
   "execution_count": 56,
   "metadata": {},
   "outputs": [],
   "source": [
    "def cleaned_genre(dataframe):\n",
    "    '''\n",
    "    Returns dataframe with genre dummy columns.\n",
    "    Genres Counted:['Horror', 'Mystery', 'Thriller', 'Action', 'Adventure', 'Western',\n",
    "                    'Biography', 'Drama', 'History', 'War', 'Comedy', 'Romance',\n",
    "                    'Family', 'Fantasy', 'Sci-Fi', 'Crime', 'Music', 'Sport', 'Musical', 'Animation']\n",
    "    '''\n",
    "    dataframe.dropna(subset=['genre'],axis=0,inplace=True)                               #drop rows with missing genre\n",
    "    dataframe.reset_index(drop=True,inplace=True)                                        #need to reset_index before we select drop\n",
    "    \n",
    "    dataframe.drop(dataframe[dataframe['genre'].str.contains('See All')].index,axis=0,inplace=True)    #drop rows with genre containing 'Adult' or 'See All'\n",
    "    dataframe.drop(dataframe[dataframe['genre'].str.contains('Adult')].index,axis=0,inplace=True)      #7 rows with genre containing 'Adult' or 'See All'\n",
    "    dataframe.reset_index(drop=True,inplace=True)\n",
    "    \n",
    "    _list = []\n",
    "    for i in dataframe['genre']:            #genre column contains list-like strings\n",
    "        _list.append(ast.literal_eval(i))   #ast can convert these strings into actual lists\n",
    "    \n",
    "    dataframe['genre_list'] = _list\n",
    "    \n",
    "    m = genre_counter(dataframe)      # m will return dict- key(genre) with value(count)\n",
    "    genre_category = list(m.keys())\n",
    "    \n",
    "    for i in genre_category:   #creating dummy variables with 0\n",
    "        dataframe[i] = 0       #\n",
    "    \n",
    "    print('iterating over 18288 rows')\n",
    "    for i, x in tqdm(enumerate(dataframe['genre_list'])):\n",
    "        for each in x:\n",
    "            dataframe.loc[i, each] = 1\n",
    "    print('done')\n",
    "    \n",
    "    return dataframe"
   ]
  },
  {
   "cell_type": "code",
   "execution_count": 57,
   "metadata": {},
   "outputs": [],
   "source": [
    "def cleaned_gross_minus_budget(dataframe):\n",
    "    '''\n",
    "    Returns cleaned dataframe by: dropping rows with missing 'budget' and 'worldwide-gross', \n",
    "    creating new column for 'gross_minus_budget' representing net profits.\n",
    "    '''\n",
    "    _df = cleaned_genre(dataframe)   # Make a copy of the dataframe.\n",
    "    combined = _df.copy()\n",
    "    \n",
    "    combined['worldwide_gross'] = combined['worldwide_gross'].str.strip('$')        # Remove $ and commas for...\n",
    "    combined['worldwide_gross'] = combined['worldwide_gross'].str.replace(',', '')  # worldwide_gross, \n",
    "                                                                                    #\n",
    "    combined['budget'] = combined['budget'].str.strip('$')                          # budget,\n",
    "    combined['budget'] = combined['budget'].str.replace(',', '')                    #\n",
    "                                                                                    #\n",
    "    combined['gross_usa'] = combined['gross_usa'].str.strip('$')                    # and gross_usa.\n",
    "    combined['gross_usa'] = combined['gross_usa'].str.replace(',', '')              #\n",
    "    \n",
    "    \n",
    "    combined = combined[~combined['budget'].astype(str).str.startswith('SEK')] # Format is redefine the column with all\n",
    "    combined = combined[~combined['budget'].astype(str).str.startswith('NOK')] # entries EXCEPT where the entry starts\n",
    "    combined = combined[~combined['budget'].astype(str).str.startswith('KRW')] # with the specified currency string.\n",
    "    combined = combined[~combined['budget'].astype(str).str.startswith('SGD')]\n",
    "    combined = combined[~combined['budget'].astype(str).str.startswith('THB')]\n",
    "    combined = combined[~combined['budget'].astype(str).str.startswith('JPY')]\n",
    "    combined = combined[~combined['budget'].astype(str).str.startswith('HUF')]\n",
    "    combined = combined[~combined['budget'].astype(str).str.startswith('INR')]\n",
    "    combined = combined[~combined['budget'].astype(str).str.startswith('GBP')]\n",
    "    combined = combined[~combined['budget'].astype(str).str.startswith('HKD')]\n",
    "    combined = combined[~combined['budget'].astype(str).str.startswith('FRF')]\n",
    "    combined = combined[~combined['budget'].astype(str).str.startswith('EUR')]\n",
    "    combined = combined[~combined['budget'].astype(str).str.startswith('FIM')]\n",
    "    combined = combined[~combined['budget'].astype(str).str.startswith('DEM')]\n",
    "    combined = combined[~combined['budget'].astype(str).str.startswith('DKK')]\n",
    "    combined = combined[~combined['budget'].astype(str).str.startswith('CAD')]\n",
    "    combined = combined[~combined['budget'].astype(str).str.startswith('ESP')]\n",
    "    combined = combined[~combined['budget'].astype(str).str.startswith('AUD')]\n",
    "    combined = combined[~combined['budget'].astype(str).str.startswith('BEF')]\n",
    "    combined = combined[~combined['budget'].astype(str).str.startswith('CNY')]\n",
    "    combined = combined[~combined['budget'].astype(str).str.startswith('ATS')]\n",
    "    combined = combined[~combined['budget'].astype(str).str.startswith('BRL')]\n",
    "    combined = combined[~combined['budget'].astype(str).str.startswith('BRL')]\n",
    "    combined = combined[~combined['budget'].astype(str).str.startswith('ITL')]\n",
    "    combined = combined[~combined['budget'].astype(str).str.startswith('RUR')]\n",
    "    combined = combined[~combined['budget'].astype(str).str.startswith('IEP')]\n",
    "    combined = combined[~combined['budget'].astype(str).str.startswith('TRL')]\n",
    "    \n",
    "    _albert = combined.dropna(subset=['budget','worldwide_gross'],axis=0).copy()   # Drop missing values.\n",
    "    _albert['budget'] = _albert['budget'].astype('int64')                          # Recast budget as int64.\n",
    "    _albert['worldwide_gross'] = _albert['worldwide_gross'].astype('int64')        # Recast worldwide_gross as int64.\n",
    "    \n",
    "    _albert['gross_minus_budget'] = _albert['worldwide_gross'] - _albert['budget'] # New column as revenue - budget.\n",
    "    \n",
    "    print('dropped 11889 rows. final shape: ',_albert.shape)\n",
    "    return _albert"
   ]
  },
  {
   "cell_type": "code",
   "execution_count": 58,
   "metadata": {},
   "outputs": [],
   "source": [
    "def find_linregress_slope_dist(dataframe):\n",
    "    '''\n",
    "    x = years, y = percentage of movies that contain genre\n",
    "    Returns a list of tuples of (dist, genre).\n",
    "    ex: [(0.005,Thriller),(0.004,Drama)...]\n",
    "    '''\n",
    "    m = genre_counter(dataframe)\n",
    "    genre_category = list(m.keys())\n",
    "    \n",
    "    _albert = []                                                          # Create empty list.\n",
    "    for i in genre_category:                                              # For each genre...\n",
    "        _sample_df = dataframe.groupby(['year'])[i].mean().reset_index()  # get dist of genre in that year\n",
    "        _linregress = linregress(_sample_df['year'], _sample_df[i])[0]    # get the slope\n",
    "        _albert.append((_linregress,i))                                   # append slope and genre.\n",
    "    \n",
    "    _albert.sort(key = lambda x: x[0], reverse = True)\n",
    "    return _albert"
   ]
  },
  {
   "cell_type": "code",
   "execution_count": 59,
   "metadata": {},
   "outputs": [],
   "source": [
    "def plot_genre_distribution(m):\n",
    "    plt.figure(figsize=(20,10))\n",
    "    plt.bar(list(m.keys()), m.values())\n",
    "    plt.ylabel('Count')\n",
    "    plt.xlabel('Genres')\n",
    "    plt.title('Overall Genre Distribution')\n",
    "    sns.despine()\n",
    "    plt.show()"
   ]
  },
  {
   "cell_type": "markdown",
   "metadata": {},
   "source": [
    "#### Assigning _genre to be dataframe containing genre dummy variables"
   ]
  },
  {
   "cell_type": "code",
   "execution_count": 60,
   "metadata": {},
   "outputs": [
    {
     "name": "stderr",
     "output_type": "stream",
     "text": [
      "131it [00:00, 1308.86it/s]"
     ]
    },
    {
     "name": "stdout",
     "output_type": "stream",
     "text": [
      "iterating over 18288 rows\n"
     ]
    },
    {
     "name": "stderr",
     "output_type": "stream",
     "text": [
      "18288it [00:14, 1278.61it/s]"
     ]
    },
    {
     "name": "stdout",
     "output_type": "stream",
     "text": [
      "done\n"
     ]
    },
    {
     "name": "stderr",
     "output_type": "stream",
     "text": [
      "\n"
     ]
    }
   ],
   "source": [
    "_genre = cleaned_genre(df)"
   ]
  },
  {
   "cell_type": "markdown",
   "metadata": {},
   "source": [
    "#### Assigning m to be a dictionary of genres and total counts per genre"
   ]
  },
  {
   "cell_type": "code",
   "execution_count": 61,
   "metadata": {},
   "outputs": [],
   "source": [
    "m = genre_counter(_genre)"
   ]
  },
  {
   "cell_type": "markdown",
   "metadata": {},
   "source": [
    "#### Overall Genre Distribution\n",
    "##### Important: \n",
    "> IMDB lists multipled genres for movies where applicable. For example, Pixar's \"Inside Out\" is classified as an \"Animation, Adventure, Comedy\" and would therefore be counted as an entry in those 3 genres individually. Thus our analysis is geared toward finding the most profitable genres with the assumption that movies can combine genres."
   ]
  },
  {
   "cell_type": "markdown",
   "metadata": {},
   "source": [
    "Let's start by graphing genre popularity via the count of movies who share each tag. Note that this is an aggregate of all movies over the 80 years sampled. The actual change in popularity of each genre will be discussed later. "
   ]
  },
  {
   "cell_type": "code",
   "execution_count": 62,
   "metadata": {},
   "outputs": [
    {
     "data": {
      "image/png": "[encoded data removed]",
      "text/plain": [
       "<Figure size 1440x720 with 1 Axes>"
      ]
     },
     "metadata": {
      "needs_background": "light"
     },
     "output_type": "display_data"
    }
   ],
   "source": [
    "plot_genre_distribution(m)"
   ]
  },
  {
   "cell_type": "markdown",
   "metadata": {},
   "source": [
    "### Insights:"
   ]
  },
  {
   "cell_type": "markdown",
   "metadata": {},
   "source": [
    "We see that Dramas are the most prolific genre throughout the history of film with more than 10,000 entries out of our 18,000 movies sampled. Comedy is second with about 1/3 of movies using this tag. This should not be unexpected as drama and comedies are over-arching genres, that is other genres can be easily paired with these, i.e. Romantic Comedies or Historical Dramas. However, tastes change, so let's look at what genres have been on the rise and those who are falling from popularity. "
   ]
  },
  {
   "cell_type": "markdown",
   "metadata": {},
   "source": [
    "### Genre Popularity over Time"
   ]
  },
  {
   "cell_type": "code",
   "execution_count": 63,
   "metadata": {},
   "outputs": [],
   "source": [
    "def plot_top_worst_dist(dataframe):\n",
    "    \n",
    "    _linregress = find_linregress_slope_dist(dataframe) # Use function to find slope of frequency for genre.\n",
    "\n",
    "    fig, axes = plt.subplots(nrows=1,ncols=2,figsize=(20,10))     # Create figure with subplots.\n",
    "\n",
    "    ax_1 = axes[0]\n",
    "    _df = dataframe.groupby(['year'])[_linregress[0][1]].mean()   # Select data.\n",
    "    sns.lineplot(x=list(_df.index), y=_df.values, ax= ax_1)        # Plot with x and y.\n",
    "    \n",
    "    ax_1.set_ylabel('Distribution')                               # Set x-axis label.\n",
    "    ax_1.set_xlabel('Year')                                       # Set y-axis label.\n",
    "    ax_1.set_title('Largest Positive Change: '+_linregress[0][1]) # Set Axis title.\n",
    "    ax_1.set_ylim(0,0.7)                                          # Set range of y values. \n",
    "\n",
    "    ax_2 = axes[1]                                                # Same as Axis[0]\n",
    "    _df = dataframe.groupby(['year'])[_linregress[-1][1]].mean()\n",
    "    sns.lineplot(x=list(_df.index), y=_df.values, ax= ax_2)\n",
    "    \n",
    "    ax_2.set_ylabel('Distribution')\n",
    "    ax_2.set_xlabel('Year')\n",
    "    ax_2.set_title('Largest Negative Change: '+_linregress[-1][1])\n",
    "    ax_2.set_ylim(0,0.7)"
   ]
  },
  {
   "cell_type": "markdown",
   "metadata": {},
   "source": [
    "#### Largest Positive Change vs Largest Negative Change\n"
   ]
  },
  {
   "cell_type": "code",
   "execution_count": 64,
   "metadata": {},
   "outputs": [
    {
     "data": {
      "image/png": "[encoded data removed]",
      "text/plain": [
       "<Figure size 1440x720 with 2 Axes>"
      ]
     },
     "metadata": {
      "needs_background": "light"
     },
     "output_type": "display_data"
    }
   ],
   "source": [
    "plot_top_worst_dist(_genre)"
   ]
  },
  {
   "cell_type": "markdown",
   "metadata": {},
   "source": [
    "### Insights:"
   ]
  },
  {
   "cell_type": "markdown",
   "metadata": {},
   "source": [
    "Y-axis represents the percentage of movies per year that contains the specified genre tag. For example: In 1960, only 13% of the movies contained the 'Thriller' tag, but in 2019, more than 40% of the most popular 300 movies were classified as 'Thriller'. \n",
    "\n",
    ">\"When television became popular in the late 1940s and 1950s, TV westerns quickly became an audience favorite, with 30 such shows airing during prime-time in 1959. Traditional Westerns faded in popularity in the late 1960s...\" -https://en.wikipedia.org/wiki/Westerns_on_television </br>\n",
    "\n",
    "'Westerns' on the other hand have fallen from popularity after the age of the Spaghetti Western in the mid-1960s. Since then, less than 5% of the most popular movies have been 'Westerns', and these include movies like \"Django Unchained\" directed by Quentin Tarintino which are not the typical 'Western' movie. \n",
    "\n"
   ]
  },
  {
   "cell_type": "markdown",
   "metadata": {},
   "source": [
    "#### Assigning cleaned_gross to be the CLEANED imported dataframe with dummy genre variables"
   ]
  },
  {
   "cell_type": "code",
   "execution_count": 65,
   "metadata": {},
   "outputs": [
    {
     "name": "stderr",
     "output_type": "stream",
     "text": [
      "143it [00:00, 1415.88it/s]"
     ]
    },
    {
     "name": "stdout",
     "output_type": "stream",
     "text": [
      "iterating over 18288 rows\n"
     ]
    },
    {
     "name": "stderr",
     "output_type": "stream",
     "text": [
      "18288it [00:14, 1295.18it/s]\n"
     ]
    },
    {
     "name": "stdout",
     "output_type": "stream",
     "text": [
      "done\n",
      "dropped 11889 rows. final shape:  (6399, 32)\n"
     ]
    }
   ],
   "source": [
    "cleaned_gross = cleaned_gross_minus_budget(df)"
   ]
  },
  {
   "cell_type": "markdown",
   "metadata": {},
   "source": [
    "### Creating a helper function to find the regression slope of Genre specific net income per year"
   ]
  },
  {
   "cell_type": "code",
   "execution_count": 66,
   "metadata": {},
   "outputs": [],
   "source": [
    "def find_linregress_slope_gross(dataframe):\n",
    "    '''\n",
    "    x = years, y = gross_minus_budget\n",
    "    Returns a list of tuples of (slope, genre).\n",
    "    ex: [(4428902,Thriller),(125214,Drama)...]\n",
    "    '''\n",
    "    m = genre_counter(dataframe)    # Similiar to previous function but returns slope instead of distribution.\n",
    "    genre_category = list(m.keys())\n",
    "    \n",
    "    _albert = []                                                                               # Create empty list.\n",
    "    for i in genre_category:                                                                   # Iterate through genres.\n",
    "        _albert_yes = dataframe.loc[dataframe[i] == 1]\n",
    "        _sample_df = _albert_yes.groupby(['year'])['gross_minus_budget'].mean().reset_index()  # Group by year and grab profit.\n",
    "        _linregress = linregress(_sample_df['year'], _sample_df['gross_minus_budget'])[0]      # Grabs profit column for each genre.\n",
    "        _albert.append((_linregress,i))                                                        # Append to list.\n",
    "    \n",
    "    _albert.sort(key = lambda x: x[0], reverse = True)\n",
    "    return _albert"
   ]
  },
  {
   "cell_type": "markdown",
   "metadata": {},
   "source": [
    "#### Having a sorted list of slope and Genre Name will help us choose which Genres to plot"
   ]
  },
  {
   "cell_type": "code",
   "execution_count": 67,
   "metadata": {},
   "outputs": [],
   "source": [
    "gross_slope = find_linregress_slope_gross(cleaned_gross)"
   ]
  },
  {
   "cell_type": "code",
   "execution_count": 68,
   "metadata": {},
   "outputs": [
    {
     "data": {
      "text/plain": [
       "[(4428902.01593712, 'Animation'),\n",
       " (4392300.607497364, 'Musical'),\n",
       " (3905571.592722525, 'Adventure'),\n",
       " (3364200.4461238435, 'Fantasy'),\n",
       " (3304892.017566035, 'Sci-Fi'),\n",
       " (2689759.9678901974, 'Family'),\n",
       " (2357560.010897966, 'Action'),\n",
       " (1665891.8092986054, 'Music'),\n",
       " (1500153.499897386, 'Comedy'),\n",
       " (1364146.177246614, 'Mystery'),\n",
       " (1091141.068143111, 'Thriller'),\n",
       " (1021392.3278442413, 'War'),\n",
       " (975584.9045584836, 'Romance'),\n",
       " (880651.0098206727, 'Crime'),\n",
       " (870414.6509338833, 'History'),\n",
       " (718899.579357285, 'Horror'),\n",
       " (629027.9987008005, 'Drama'),\n",
       " (375519.70506954344, 'Western'),\n",
       " (183812.47464667555, 'Sport'),\n",
       " (76771.23079767723, 'Biography')]"
      ]
     },
     "execution_count": 68,
     "metadata": {},
     "output_type": "execute_result"
    }
   ],
   "source": [
    "gross_slope"
   ]
  },
  {
   "cell_type": "markdown",
   "metadata": {},
   "source": [
    "#### Assigning a new column to the dataframe called 'year_bins' \n",
    "Assign each individual year to a new bin of its respective decade."
   ]
  },
  {
   "cell_type": "code",
   "execution_count": 69,
   "metadata": {},
   "outputs": [],
   "source": [
    "albert_trimmed = cleaned_gross.copy()"
   ]
  },
  {
   "cell_type": "code",
   "execution_count": 70,
   "metadata": {},
   "outputs": [],
   "source": [
    "cut_labels = ['1960s', '1970s', '1980s', '1990s', '2000s', '2010s']\n",
    "cut_bins = [1950,1969,1979,1989,1999,2009,2025]\n",
    "albert_trimmed['year_bins'] = pd.cut(albert_trimmed['year'], bins=cut_bins, labels=cut_labels)"
   ]
  },
  {
   "cell_type": "markdown",
   "metadata": {},
   "source": [
    "#### Plotting Net Income over time; comparing Specific (Top) Genres vs Not"
   ]
  },
  {
   "cell_type": "code",
   "execution_count": 71,
   "metadata": {},
   "outputs": [
    {
     "data": {
      "image/png": "[encoded data removed]",
      "text/plain": [
       "<Figure size 1440x1008 with 4 Axes>"
      ]
     },
     "metadata": {
      "needs_background": "light"
     },
     "output_type": "display_data"
    }
   ],
   "source": [
    "fig, axes = plt.subplots(nrows=2,ncols=2,figsize=(20,14))                  # Create figure with 2x2 subplots.\n",
    "\n",
    "########## Upper Left ##########\n",
    "ax_1 = axes[0][0]                                                          \n",
    "sns.boxplot(x='year_bins',y='gross_minus_budget',hue='Animation', data = albert_trimmed, ax= ax_1, palette = [\"slategray\",\"royalblue\"])\n",
    "\n",
    "handles, _ = ax_1.get_legend_handles_labels()\n",
    "ax_1.legend(loc='upper left',handles=handles,labels=[\"No Animation\", \"Has Animation\"])              # Set legend location.\n",
    "ax_1.set_ylabel('Net Revenue \\n in billions')   # Set y-axis label.\n",
    "ax_1.set_title(gross_slope[0][1])               # Set title.\n",
    "ax_1.set_ylim(-200_000_000,3_000_000_000)       # Set range of y-axis.\n",
    "ax_1.set_xlabel('Years')                        # Set x-axis label.\n",
    "\n",
    "########## Upper Right ##########\n",
    "ax_2 = axes[0][1]\n",
    "sns.boxplot(x='year_bins',y='gross_minus_budget',hue='Musical', data = albert_trimmed, ax= ax_2, palette = [\"slategray\",\"royalblue\"])\n",
    "\n",
    "handles, _ = ax_2.get_legend_handles_labels()\n",
    "ax_2.legend(loc='upper left',handles = handles, labels=[\"No Musical\", \"Has Musical\"])\n",
    "ax_2.set_ylabel('Net Revenue \\n in billions')   # Set y-axis label.\n",
    "ax_2.set_title(gross_slope[1][1])               # Set title.\n",
    "ax_2.set_ylim(-200_000_000,3_000_000_000)       # Set range of y-axis.\n",
    "ax_2.set_xlabel('Years')                        # Set x-axis label.\n",
    "\n",
    "########## Lower Left ##########\n",
    "ax_3 = axes[1][0]\n",
    "sns.boxplot(x='year_bins',y='gross_minus_budget',hue='Adventure', data = albert_trimmed, ax= ax_3, palette = [\"slategray\",\"royalblue\"])\n",
    "\n",
    "handles, _ = ax_3.get_legend_handles_labels()\n",
    "ax_3.legend(loc='upper left',handles = handles,labels=[\"No Adventure\", \"Has Adventure\"])\n",
    "ax_3.set_ylabel('Net Revenue \\n in billions')   # Set y-axis label.\n",
    "ax_3.set_title(gross_slope[2][1])               # Set title.\n",
    "ax_3.set_ylim(-200_000_000,3_000_000_000)       # Set range of y-axis.\n",
    "ax_3.set_xlabel('Years')                        # Set x-axis label.\n",
    "\n",
    "########## Lower Right ##########\n",
    "ax_4 = axes[1][1]\n",
    "sns.boxplot(x='year_bins',y='gross_minus_budget',hue='Fantasy', data = albert_trimmed, ax= ax_4, palette = [\"slategray\",\"royalblue\"])\n",
    "\n",
    "handles, _ = ax_4.get_legend_handles_labels()\n",
    "ax_4.legend(loc='upper left',handles = handles,labels=[\"No Fantasy\", \"Has Fantasy\"])\n",
    "ax_4.set_ylabel('Net Revenue \\n in billions')   # Set y-axis label.\n",
    "ax_4.set_title(gross_slope[3][1])               # Set title.\n",
    "ax_4.set_ylim(-200_000_000,3_000_000_000)       # Set range of y-axis.\n",
    "ax_4.set_xlabel('Years');                       # Set x-axis label."
   ]
  },
  {
   "cell_type": "markdown",
   "metadata": {},
   "source": [
    "### Insights:"
   ]
  },
  {
   "cell_type": "markdown",
   "metadata": {},
   "source": [
    "Because movies can have multiple genre tags, our legend shows \"Has [Genre]\" and that selection includes all movies that contain that tag. These are the four fastest growing genres defined by the slope of their popularity over time. We would predict that movies utilizing one or more of these genres would be capitalizing on the current state of the film industry and have the greatest return on investment and please audiences. "
   ]
  },
  {
   "cell_type": "markdown",
   "metadata": {},
   "source": [
    "#### Plotting Net Income over time; comparing Specific (Bottom) Genres vs Not"
   ]
  },
  {
   "cell_type": "code",
   "execution_count": 73,
   "metadata": {},
   "outputs": [
    {
     "data": {
      "text/plain": [
       "Text(0.5, 0, 'Years')"
      ]
     },
     "execution_count": 73,
     "metadata": {},
     "output_type": "execute_result"
    },
    {
     "data": {
      "image/png": "[encoded data removed]",
      "text/plain": [
       "<Figure size 1440x1008 with 4 Axes>"
      ]
     },
     "metadata": {
      "needs_background": "light"
     },
     "output_type": "display_data"
    }
   ],
   "source": [
    "fig, axes = plt.subplots(nrows=2,ncols=2,figsize=(20,14))   # Create figure with 2x2 subplots.\n",
    "\n",
    "########## Upper Left ##########\n",
    "ax_1 = axes[0][0]\n",
    "sns.boxplot(x='year_bins',y='gross_minus_budget',hue='Biography', data = albert_trimmed, ax= ax_1, palette=[\"slategray\",\"royalblue\"])\n",
    "\n",
    "handles, _ = ax_1.get_legend_handles_labels()\n",
    "ax_1.legend(loc='upper left',handles=handles,labels=[\"No Biography\", \"Has Biography\"])\n",
    "ax_1.set_ylabel('Net Revenue \\n in billions')   # Set y-axis label.\n",
    "ax_1.set_title('Biography')                     # Set title.\n",
    "ax_1.set_ylim(-200_000_000,3_000_000_000)       # Set range of y-axis.\n",
    "ax_1.set_xlabel('Years')                        # Set x-axis label.\n",
    "\n",
    "########## Upper Right ##########\n",
    "ax_2 = axes[0][1]\n",
    "sns.boxplot(x='year_bins',y='gross_minus_budget',hue='Sport', data = albert_trimmed, ax= ax_2, palette = [\"slategray\",\"royalblue\"])\n",
    "\n",
    "handles, _ = ax_2.get_legend_handles_labels()\n",
    "ax_2.legend(loc='upper left',handles = handles, labels=[\"No Sport\", \"Has Sport\"])\n",
    "ax_2.set_ylabel('Net Revenue \\n in billions')   # Set y-axis label.\n",
    "ax_2.set_title('Sport')                         # Set title.\n",
    "ax_2.set_ylim(-200_000_000,3_000_000_000)       # Set range of y-axis.\n",
    "ax_2.set_xlabel('Years')                        # Set x-axis label.\n",
    "\n",
    "########## Lower Left ##########\n",
    "ax_3 = axes[1][0]\n",
    "sns.boxplot(x='year_bins',y='gross_minus_budget',hue='Western', data = albert_trimmed, ax= ax_3, palette = [\"slategray\",\"royalblue\"])\n",
    "\n",
    "handles, _ = ax_3.get_legend_handles_labels()\n",
    "ax_3.legend(loc='upper left',handles = handles,labels=[\"No Western\", \"Has Western\"])\n",
    "ax_3.set_ylabel('Net Revenue \\n in billions')   # Set y-axis label.\n",
    "ax_3.set_title('Western')                       # Set title. \n",
    "ax_3.set_ylim(-200_000_000,3_000_000_000)       # Set range of y-axis.\n",
    "ax_3.set_xlabel('Years')                        # Set x-axis label.\n",
    "\n",
    "########## Lower Right ##########\n",
    "ax_4 = axes[1][1]\n",
    "sns.boxplot(x='year_bins',y='gross_minus_budget',hue='Drama', data = albert_trimmed, ax= ax_4, palette = [\"slategray\",\"royalblue\"])\n",
    "\n",
    "handles, _ = ax_4.get_legend_handles_labels()\n",
    "ax_4.legend(loc='upper left',handles = handles,labels=[\"No Drama\", \"Has Drama\"])\n",
    "ax_4.set_ylabel('Net Revenue \\n in billions')   # Set y-axis label.\n",
    "ax_4.set_title('Drama')                         # Set title. \n",
    "ax_4.set_ylim(-200_000_000,3_000_000_000)       # Set range of y-axis.\n",
    "ax_4.set_xlabel('Years')                        # Set x-axis label."
   ]
  },
  {
   "cell_type": "markdown",
   "metadata": {},
   "source": [
    "### Insights:"
   ]
  },
  {
   "cell_type": "markdown",
   "metadata": {},
   "source": [
    "On the other side, these genres have shown the largest decrease in popularity over time. Many of these are niche genres that have never been incredibly popular, see 'Sports' and 'Western' genres. However, 'Drama' may be unexpected as it was the overall most popular genre from our first visualization. We hypothesize that because 'Drama' was very popular in the past it could only lose market share as other genres gained in popularity. Additionally, as 'Dramas' are generally slower and more serious, they less often generate large amounts of interest and thus rarely do we see 'Drama' blockbusters."
   ]
  }
 ],
 "metadata": {
  "kernelspec": {
   "display_name": "Python 3",
   "language": "python",
   "name": "python3"
  },
  "language_info": {
   "codemirror_mode": {
    "name": "ipython",
    "version": 3
   },
   "file_extension": ".py",
   "mimetype": "text/x-python",
   "name": "python",
   "nbconvert_exporter": "python",
   "pygments_lexer": "ipython3",
   "version": "3.7.6"
  }
 },
 "nbformat": 4,
 "nbformat_minor": 4
}
