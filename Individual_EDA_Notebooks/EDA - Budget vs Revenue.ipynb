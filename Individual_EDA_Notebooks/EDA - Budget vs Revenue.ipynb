{
 "cells": [
  {
   "cell_type": "markdown",
   "metadata": {},
   "source": [
    "# Exploratory Data Analysis: ROI for Budget"
   ]
  },
  {
   "cell_type": "markdown",
   "metadata": {},
   "source": [
    "While we've seen that movie revenue has been increasing over time, movies are also more expensive to make now than they used to be. With the advent of CGI and greenscreen technology, blockbuster budgets have also increased exponentially. Let's see how that affects a movie's earning potential."
   ]
  },
  {
   "cell_type": "markdown",
   "metadata": {},
   "source": [
    "### Libraries to import:"
   ]
  },
  {
   "cell_type": "code",
   "execution_count": 1,
   "metadata": {},
   "outputs": [],
   "source": [
    "import pandas as pd\n",
    "import seaborn as sns\n",
    "sns.set_palette(\"muted\")\n",
    "import matplotlib.pyplot as plt\n",
    "import numpy as np\n",
    "%matplotlib inline"
   ]
  },
  {
   "cell_type": "markdown",
   "metadata": {},
   "source": [
    "### Concatenate Scraped Movie Data by Decade:"
   ]
  },
  {
   "cell_type": "markdown",
   "metadata": {},
   "source": [
    "Let's start by creating a dataframe consisting of webscraped data from IMDB for the top 300 movies from each year going back to 1960. We will concatenate each decade's csv file into one. "
   ]
  },
  {
   "cell_type": "code",
   "execution_count": 3,
   "metadata": {},
   "outputs": [],
   "source": [
    "sixties = pd.read_csv('../zippedData/1960_1970.csv')"
   ]
  },
  {
   "cell_type": "code",
   "execution_count": 4,
   "metadata": {
    "scrolled": true
   },
   "outputs": [],
   "source": [
    "seventies = pd.read_csv('../zippedData/1971_1980.csv')"
   ]
  },
  {
   "cell_type": "code",
   "execution_count": 5,
   "metadata": {
    "scrolled": true
   },
   "outputs": [],
   "source": [
    "eighties = pd.read_csv('../zippedData/1981_1990.csv')"
   ]
  },
  {
   "cell_type": "code",
   "execution_count": 6,
   "metadata": {},
   "outputs": [],
   "source": [
    "nineties = pd.read_csv('../zippedData/1991_2000.csv')"
   ]
  },
  {
   "cell_type": "code",
   "execution_count": 7,
   "metadata": {},
   "outputs": [],
   "source": [
    "aughts = pd.read_csv('../zippedData/2001_2010.csv')"
   ]
  },
  {
   "cell_type": "code",
   "execution_count": 8,
   "metadata": {},
   "outputs": [],
   "source": [
    "teens = pd.read_csv('../zippedData/2011_2020.csv')"
   ]
  },
  {
   "cell_type": "code",
   "execution_count": 9,
   "metadata": {},
   "outputs": [
    {
     "data": {
      "text/html": [
       "<div>\n",
       "<style scoped>\n",
       "    .dataframe tbody tr th:only-of-type {\n",
       "        vertical-align: middle;\n",
       "    }\n",
       "\n",
       "    .dataframe tbody tr th {\n",
       "        vertical-align: top;\n",
       "    }\n",
       "\n",
       "    .dataframe thead th {\n",
       "        text-align: right;\n",
       "    }\n",
       "</style>\n",
       "<table border=\"1\" class=\"dataframe\">\n",
       "  <thead>\n",
       "    <tr style=\"text-align: right;\">\n",
       "      <th></th>\n",
       "      <th>url</th>\n",
       "      <th>title</th>\n",
       "      <th>year</th>\n",
       "      <th>genre</th>\n",
       "      <th>gross_usa</th>\n",
       "      <th>budget</th>\n",
       "      <th>worldwide_gross</th>\n",
       "      <th>pg_rated</th>\n",
       "      <th>rating</th>\n",
       "      <th>rating_pop</th>\n",
       "    </tr>\n",
       "  </thead>\n",
       "  <tbody>\n",
       "    <tr>\n",
       "      <th>0</th>\n",
       "      <td>https://www.imdb.com/title/tt0054215/</td>\n",
       "      <td>Psycho</td>\n",
       "      <td>1960</td>\n",
       "      <td>['Horror', 'Mystery', 'Thriller']</td>\n",
       "      <td>$32,000,000</td>\n",
       "      <td>$806,947</td>\n",
       "      <td>$32,000,000</td>\n",
       "      <td>NaN</td>\n",
       "      <td>8.5</td>\n",
       "      <td>580,863</td>\n",
       "    </tr>\n",
       "    <tr>\n",
       "      <th>1</th>\n",
       "      <td>https://www.imdb.com/title/tt0054047/</td>\n",
       "      <td>The Magnificent Seven</td>\n",
       "      <td>1960</td>\n",
       "      <td>['Action', 'Adventure', 'Western']</td>\n",
       "      <td>NaN</td>\n",
       "      <td>$2,000,000</td>\n",
       "      <td>NaN</td>\n",
       "      <td>NaN</td>\n",
       "      <td>7.7</td>\n",
       "      <td>85,315</td>\n",
       "    </tr>\n",
       "    <tr>\n",
       "      <th>2</th>\n",
       "      <td>https://www.imdb.com/title/tt0054331/</td>\n",
       "      <td>Spartacus</td>\n",
       "      <td>1960</td>\n",
       "      <td>['Adventure', 'Biography', 'Drama', 'History',...</td>\n",
       "      <td>$1,830,650</td>\n",
       "      <td>$12,000,000</td>\n",
       "      <td>$1,836,351</td>\n",
       "      <td>NaN</td>\n",
       "      <td>7.9</td>\n",
       "      <td>120,895</td>\n",
       "    </tr>\n",
       "    <tr>\n",
       "      <th>3</th>\n",
       "      <td>https://www.imdb.com/title/tt0053604/</td>\n",
       "      <td>The Apartment</td>\n",
       "      <td>1960</td>\n",
       "      <td>['Comedy', 'Drama', 'Romance']</td>\n",
       "      <td>NaN</td>\n",
       "      <td>$3,000,000</td>\n",
       "      <td>$177,066</td>\n",
       "      <td>NaN</td>\n",
       "      <td>8.3</td>\n",
       "      <td>157,134</td>\n",
       "    </tr>\n",
       "    <tr>\n",
       "      <th>4</th>\n",
       "      <td>https://www.imdb.com/title/tt0053917/</td>\n",
       "      <td>Home from the Hill</td>\n",
       "      <td>1960</td>\n",
       "      <td>['Drama', 'Romance']</td>\n",
       "      <td>NaN</td>\n",
       "      <td>$1,818,688</td>\n",
       "      <td>NaN</td>\n",
       "      <td>NaN</td>\n",
       "      <td>7.4</td>\n",
       "      <td>2,864</td>\n",
       "    </tr>\n",
       "    <tr>\n",
       "      <th>...</th>\n",
       "      <td>...</td>\n",
       "      <td>...</td>\n",
       "      <td>...</td>\n",
       "      <td>...</td>\n",
       "      <td>...</td>\n",
       "      <td>...</td>\n",
       "      <td>...</td>\n",
       "      <td>...</td>\n",
       "      <td>...</td>\n",
       "      <td>...</td>\n",
       "    </tr>\n",
       "    <tr>\n",
       "      <th>2995</th>\n",
       "      <td>https://www.imdb.com/title/tt7541720/</td>\n",
       "      <td>Music</td>\n",
       "      <td>2020</td>\n",
       "      <td>['Drama']</td>\n",
       "      <td>NaN</td>\n",
       "      <td>NaN</td>\n",
       "      <td>NaN</td>\n",
       "      <td>PG-13</td>\n",
       "      <td>NaN</td>\n",
       "      <td>NaN</td>\n",
       "    </tr>\n",
       "    <tr>\n",
       "      <th>2996</th>\n",
       "      <td>https://www.imdb.com/title/tt5867314/</td>\n",
       "      <td>The Empty Man</td>\n",
       "      <td>2020</td>\n",
       "      <td>['Crime', 'Drama', 'Horror', 'Mystery', 'Thril...</td>\n",
       "      <td>NaN</td>\n",
       "      <td>NaN</td>\n",
       "      <td>NaN</td>\n",
       "      <td>R</td>\n",
       "      <td>NaN</td>\n",
       "      <td>NaN</td>\n",
       "    </tr>\n",
       "    <tr>\n",
       "      <th>2997</th>\n",
       "      <td>https://www.imdb.com/title/tt5714470/</td>\n",
       "      <td>Come Away</td>\n",
       "      <td>2020</td>\n",
       "      <td>['Adventure', 'Drama', 'Fantasy']</td>\n",
       "      <td>NaN</td>\n",
       "      <td>NaN</td>\n",
       "      <td>NaN</td>\n",
       "      <td>NaN</td>\n",
       "      <td>6.6</td>\n",
       "      <td>27</td>\n",
       "    </tr>\n",
       "    <tr>\n",
       "      <th>2998</th>\n",
       "      <td>https://www.imdb.com/title/tt6559576/</td>\n",
       "      <td>Selfie Dad</td>\n",
       "      <td>2020</td>\n",
       "      <td>['Comedy', 'Family']</td>\n",
       "      <td>NaN</td>\n",
       "      <td>NaN</td>\n",
       "      <td>NaN</td>\n",
       "      <td>PG</td>\n",
       "      <td>3.7</td>\n",
       "      <td>83</td>\n",
       "    </tr>\n",
       "    <tr>\n",
       "      <th>2999</th>\n",
       "      <td>https://www.imdb.com/title/tt9614452/</td>\n",
       "      <td>The Big Bull</td>\n",
       "      <td>2020</td>\n",
       "      <td>['Crime', 'Drama']</td>\n",
       "      <td>NaN</td>\n",
       "      <td>NaN</td>\n",
       "      <td>NaN</td>\n",
       "      <td>NaN</td>\n",
       "      <td>NaN</td>\n",
       "      <td>NaN</td>\n",
       "    </tr>\n",
       "  </tbody>\n",
       "</table>\n",
       "<p>18300 rows × 10 columns</p>\n",
       "</div>"
      ],
      "text/plain": [
       "                                        url                  title  year  \\\n",
       "0     https://www.imdb.com/title/tt0054215/                 Psycho  1960   \n",
       "1     https://www.imdb.com/title/tt0054047/  The Magnificent Seven  1960   \n",
       "2     https://www.imdb.com/title/tt0054331/              Spartacus  1960   \n",
       "3     https://www.imdb.com/title/tt0053604/          The Apartment  1960   \n",
       "4     https://www.imdb.com/title/tt0053917/     Home from the Hill  1960   \n",
       "...                                     ...                    ...   ...   \n",
       "2995  https://www.imdb.com/title/tt7541720/                  Music  2020   \n",
       "2996  https://www.imdb.com/title/tt5867314/          The Empty Man  2020   \n",
       "2997  https://www.imdb.com/title/tt5714470/              Come Away  2020   \n",
       "2998  https://www.imdb.com/title/tt6559576/             Selfie Dad  2020   \n",
       "2999  https://www.imdb.com/title/tt9614452/           The Big Bull  2020   \n",
       "\n",
       "                                                  genre    gross_usa  \\\n",
       "0                     ['Horror', 'Mystery', 'Thriller']  $32,000,000   \n",
       "1                    ['Action', 'Adventure', 'Western']          NaN   \n",
       "2     ['Adventure', 'Biography', 'Drama', 'History',...   $1,830,650   \n",
       "3                        ['Comedy', 'Drama', 'Romance']          NaN   \n",
       "4                                  ['Drama', 'Romance']          NaN   \n",
       "...                                                 ...          ...   \n",
       "2995                                          ['Drama']          NaN   \n",
       "2996  ['Crime', 'Drama', 'Horror', 'Mystery', 'Thril...          NaN   \n",
       "2997                  ['Adventure', 'Drama', 'Fantasy']          NaN   \n",
       "2998                               ['Comedy', 'Family']          NaN   \n",
       "2999                                 ['Crime', 'Drama']          NaN   \n",
       "\n",
       "           budget worldwide_gross pg_rated  rating rating_pop  \n",
       "0        $806,947     $32,000,000      NaN     8.5    580,863  \n",
       "1      $2,000,000             NaN      NaN     7.7     85,315  \n",
       "2     $12,000,000      $1,836,351      NaN     7.9    120,895  \n",
       "3      $3,000,000        $177,066      NaN     8.3    157,134  \n",
       "4      $1,818,688             NaN      NaN     7.4      2,864  \n",
       "...           ...             ...      ...     ...        ...  \n",
       "2995          NaN             NaN    PG-13     NaN        NaN  \n",
       "2996          NaN             NaN        R     NaN        NaN  \n",
       "2997          NaN             NaN      NaN     6.6         27  \n",
       "2998          NaN             NaN       PG     3.7         83  \n",
       "2999          NaN             NaN      NaN     NaN        NaN  \n",
       "\n",
       "[18300 rows x 10 columns]"
      ]
     },
     "execution_count": 9,
     "metadata": {},
     "output_type": "execute_result"
    }
   ],
   "source": [
    "combined = sixties.append([seventies, eighties, nineties, aughts, teens])\n",
    "combined"
   ]
  },
  {
   "cell_type": "markdown",
   "metadata": {},
   "source": [
    "### Examine DataFrame and Preliminary Cleaning:"
   ]
  },
  {
   "cell_type": "markdown",
   "metadata": {},
   "source": [
    "18,000 entries, not bad."
   ]
  },
  {
   "cell_type": "code",
   "execution_count": 10,
   "metadata": {},
   "outputs": [
    {
     "data": {
      "text/plain": [
       "(18300, 10)"
      ]
     },
     "execution_count": 10,
     "metadata": {},
     "output_type": "execute_result"
    }
   ],
   "source": [
    "combined.shape"
   ]
  },
  {
   "cell_type": "code",
   "execution_count": 11,
   "metadata": {},
   "outputs": [
    {
     "data": {
      "text/plain": [
       "Index(['url', 'title', 'year', 'genre', 'gross_usa', 'budget',\n",
       "       'worldwide_gross', 'pg_rated', 'rating', 'rating_pop'],\n",
       "      dtype='object')"
      ]
     },
     "execution_count": 11,
     "metadata": {},
     "output_type": "execute_result"
    }
   ],
   "source": [
    "combined.columns"
   ]
  },
  {
   "cell_type": "markdown",
   "metadata": {},
   "source": [
    "Because we are combining multiple dataframes they will have shared indexes. So let's reset the index and remove the old column this will create."
   ]
  },
  {
   "cell_type": "code",
   "execution_count": 12,
   "metadata": {},
   "outputs": [],
   "source": [
    "combined.reset_index(inplace=True)"
   ]
  },
  {
   "cell_type": "code",
   "execution_count": 13,
   "metadata": {},
   "outputs": [],
   "source": [
    "combined = combined.drop('index', axis=1)"
   ]
  },
  {
   "cell_type": "code",
   "execution_count": 14,
   "metadata": {},
   "outputs": [
    {
     "data": {
      "text/html": [
       "<div>\n",
       "<style scoped>\n",
       "    .dataframe tbody tr th:only-of-type {\n",
       "        vertical-align: middle;\n",
       "    }\n",
       "\n",
       "    .dataframe tbody tr th {\n",
       "        vertical-align: top;\n",
       "    }\n",
       "\n",
       "    .dataframe thead th {\n",
       "        text-align: right;\n",
       "    }\n",
       "</style>\n",
       "<table border=\"1\" class=\"dataframe\">\n",
       "  <thead>\n",
       "    <tr style=\"text-align: right;\">\n",
       "      <th></th>\n",
       "      <th>url</th>\n",
       "      <th>title</th>\n",
       "      <th>year</th>\n",
       "      <th>genre</th>\n",
       "      <th>gross_usa</th>\n",
       "      <th>budget</th>\n",
       "      <th>worldwide_gross</th>\n",
       "      <th>pg_rated</th>\n",
       "      <th>rating</th>\n",
       "      <th>rating_pop</th>\n",
       "    </tr>\n",
       "  </thead>\n",
       "  <tbody>\n",
       "    <tr>\n",
       "      <th>0</th>\n",
       "      <td>https://www.imdb.com/title/tt0054215/</td>\n",
       "      <td>Psycho</td>\n",
       "      <td>1960</td>\n",
       "      <td>['Horror', 'Mystery', 'Thriller']</td>\n",
       "      <td>$32,000,000</td>\n",
       "      <td>$806,947</td>\n",
       "      <td>$32,000,000</td>\n",
       "      <td>NaN</td>\n",
       "      <td>8.5</td>\n",
       "      <td>580,863</td>\n",
       "    </tr>\n",
       "    <tr>\n",
       "      <th>1</th>\n",
       "      <td>https://www.imdb.com/title/tt0054047/</td>\n",
       "      <td>The Magnificent Seven</td>\n",
       "      <td>1960</td>\n",
       "      <td>['Action', 'Adventure', 'Western']</td>\n",
       "      <td>NaN</td>\n",
       "      <td>$2,000,000</td>\n",
       "      <td>NaN</td>\n",
       "      <td>NaN</td>\n",
       "      <td>7.7</td>\n",
       "      <td>85,315</td>\n",
       "    </tr>\n",
       "    <tr>\n",
       "      <th>2</th>\n",
       "      <td>https://www.imdb.com/title/tt0054331/</td>\n",
       "      <td>Spartacus</td>\n",
       "      <td>1960</td>\n",
       "      <td>['Adventure', 'Biography', 'Drama', 'History',...</td>\n",
       "      <td>$1,830,650</td>\n",
       "      <td>$12,000,000</td>\n",
       "      <td>$1,836,351</td>\n",
       "      <td>NaN</td>\n",
       "      <td>7.9</td>\n",
       "      <td>120,895</td>\n",
       "    </tr>\n",
       "    <tr>\n",
       "      <th>3</th>\n",
       "      <td>https://www.imdb.com/title/tt0053604/</td>\n",
       "      <td>The Apartment</td>\n",
       "      <td>1960</td>\n",
       "      <td>['Comedy', 'Drama', 'Romance']</td>\n",
       "      <td>NaN</td>\n",
       "      <td>$3,000,000</td>\n",
       "      <td>$177,066</td>\n",
       "      <td>NaN</td>\n",
       "      <td>8.3</td>\n",
       "      <td>157,134</td>\n",
       "    </tr>\n",
       "    <tr>\n",
       "      <th>4</th>\n",
       "      <td>https://www.imdb.com/title/tt0053917/</td>\n",
       "      <td>Home from the Hill</td>\n",
       "      <td>1960</td>\n",
       "      <td>['Drama', 'Romance']</td>\n",
       "      <td>NaN</td>\n",
       "      <td>$1,818,688</td>\n",
       "      <td>NaN</td>\n",
       "      <td>NaN</td>\n",
       "      <td>7.4</td>\n",
       "      <td>2,864</td>\n",
       "    </tr>\n",
       "    <tr>\n",
       "      <th>...</th>\n",
       "      <td>...</td>\n",
       "      <td>...</td>\n",
       "      <td>...</td>\n",
       "      <td>...</td>\n",
       "      <td>...</td>\n",
       "      <td>...</td>\n",
       "      <td>...</td>\n",
       "      <td>...</td>\n",
       "      <td>...</td>\n",
       "      <td>...</td>\n",
       "    </tr>\n",
       "    <tr>\n",
       "      <th>18295</th>\n",
       "      <td>https://www.imdb.com/title/tt7541720/</td>\n",
       "      <td>Music</td>\n",
       "      <td>2020</td>\n",
       "      <td>['Drama']</td>\n",
       "      <td>NaN</td>\n",
       "      <td>NaN</td>\n",
       "      <td>NaN</td>\n",
       "      <td>PG-13</td>\n",
       "      <td>NaN</td>\n",
       "      <td>NaN</td>\n",
       "    </tr>\n",
       "    <tr>\n",
       "      <th>18296</th>\n",
       "      <td>https://www.imdb.com/title/tt5867314/</td>\n",
       "      <td>The Empty Man</td>\n",
       "      <td>2020</td>\n",
       "      <td>['Crime', 'Drama', 'Horror', 'Mystery', 'Thril...</td>\n",
       "      <td>NaN</td>\n",
       "      <td>NaN</td>\n",
       "      <td>NaN</td>\n",
       "      <td>R</td>\n",
       "      <td>NaN</td>\n",
       "      <td>NaN</td>\n",
       "    </tr>\n",
       "    <tr>\n",
       "      <th>18297</th>\n",
       "      <td>https://www.imdb.com/title/tt5714470/</td>\n",
       "      <td>Come Away</td>\n",
       "      <td>2020</td>\n",
       "      <td>['Adventure', 'Drama', 'Fantasy']</td>\n",
       "      <td>NaN</td>\n",
       "      <td>NaN</td>\n",
       "      <td>NaN</td>\n",
       "      <td>NaN</td>\n",
       "      <td>6.6</td>\n",
       "      <td>27</td>\n",
       "    </tr>\n",
       "    <tr>\n",
       "      <th>18298</th>\n",
       "      <td>https://www.imdb.com/title/tt6559576/</td>\n",
       "      <td>Selfie Dad</td>\n",
       "      <td>2020</td>\n",
       "      <td>['Comedy', 'Family']</td>\n",
       "      <td>NaN</td>\n",
       "      <td>NaN</td>\n",
       "      <td>NaN</td>\n",
       "      <td>PG</td>\n",
       "      <td>3.7</td>\n",
       "      <td>83</td>\n",
       "    </tr>\n",
       "    <tr>\n",
       "      <th>18299</th>\n",
       "      <td>https://www.imdb.com/title/tt9614452/</td>\n",
       "      <td>The Big Bull</td>\n",
       "      <td>2020</td>\n",
       "      <td>['Crime', 'Drama']</td>\n",
       "      <td>NaN</td>\n",
       "      <td>NaN</td>\n",
       "      <td>NaN</td>\n",
       "      <td>NaN</td>\n",
       "      <td>NaN</td>\n",
       "      <td>NaN</td>\n",
       "    </tr>\n",
       "  </tbody>\n",
       "</table>\n",
       "<p>18300 rows × 10 columns</p>\n",
       "</div>"
      ],
      "text/plain": [
       "                                         url                  title  year  \\\n",
       "0      https://www.imdb.com/title/tt0054215/                 Psycho  1960   \n",
       "1      https://www.imdb.com/title/tt0054047/  The Magnificent Seven  1960   \n",
       "2      https://www.imdb.com/title/tt0054331/              Spartacus  1960   \n",
       "3      https://www.imdb.com/title/tt0053604/          The Apartment  1960   \n",
       "4      https://www.imdb.com/title/tt0053917/     Home from the Hill  1960   \n",
       "...                                      ...                    ...   ...   \n",
       "18295  https://www.imdb.com/title/tt7541720/                  Music  2020   \n",
       "18296  https://www.imdb.com/title/tt5867314/          The Empty Man  2020   \n",
       "18297  https://www.imdb.com/title/tt5714470/              Come Away  2020   \n",
       "18298  https://www.imdb.com/title/tt6559576/             Selfie Dad  2020   \n",
       "18299  https://www.imdb.com/title/tt9614452/           The Big Bull  2020   \n",
       "\n",
       "                                                   genre    gross_usa  \\\n",
       "0                      ['Horror', 'Mystery', 'Thriller']  $32,000,000   \n",
       "1                     ['Action', 'Adventure', 'Western']          NaN   \n",
       "2      ['Adventure', 'Biography', 'Drama', 'History',...   $1,830,650   \n",
       "3                         ['Comedy', 'Drama', 'Romance']          NaN   \n",
       "4                                   ['Drama', 'Romance']          NaN   \n",
       "...                                                  ...          ...   \n",
       "18295                                          ['Drama']          NaN   \n",
       "18296  ['Crime', 'Drama', 'Horror', 'Mystery', 'Thril...          NaN   \n",
       "18297                  ['Adventure', 'Drama', 'Fantasy']          NaN   \n",
       "18298                               ['Comedy', 'Family']          NaN   \n",
       "18299                                 ['Crime', 'Drama']          NaN   \n",
       "\n",
       "            budget worldwide_gross pg_rated  rating rating_pop  \n",
       "0         $806,947     $32,000,000      NaN     8.5    580,863  \n",
       "1       $2,000,000             NaN      NaN     7.7     85,315  \n",
       "2      $12,000,000      $1,836,351      NaN     7.9    120,895  \n",
       "3       $3,000,000        $177,066      NaN     8.3    157,134  \n",
       "4       $1,818,688             NaN      NaN     7.4      2,864  \n",
       "...            ...             ...      ...     ...        ...  \n",
       "18295          NaN             NaN    PG-13     NaN        NaN  \n",
       "18296          NaN             NaN        R     NaN        NaN  \n",
       "18297          NaN             NaN      NaN     6.6         27  \n",
       "18298          NaN             NaN       PG     3.7         83  \n",
       "18299          NaN             NaN      NaN     NaN        NaN  \n",
       "\n",
       "[18300 rows x 10 columns]"
      ]
     },
     "execution_count": 14,
     "metadata": {},
     "output_type": "execute_result"
    }
   ],
   "source": [
    "combined"
   ]
  },
  {
   "cell_type": "markdown",
   "metadata": {},
   "source": [
    "### Data Cleaning:"
   ]
  },
  {
   "cell_type": "markdown",
   "metadata": {},
   "source": [
    "#### Check for Missing Values:"
   ]
  },
  {
   "cell_type": "code",
   "execution_count": 15,
   "metadata": {
    "scrolled": true
   },
   "outputs": [
    {
     "data": {
      "text/plain": [
       "url                    0\n",
       "title                  0\n",
       "year                   0\n",
       "genre                  5\n",
       "gross_usa           8893\n",
       "budget              9547\n",
       "worldwide_gross     8212\n",
       "pg_rated           11061\n",
       "rating               117\n",
       "rating_pop           117\n",
       "dtype: int64"
      ]
     },
     "execution_count": 15,
     "metadata": {},
     "output_type": "execute_result"
    }
   ],
   "source": [
    "combined.isnull().sum()"
   ]
  },
  {
   "cell_type": "markdown",
   "metadata": {},
   "source": [
    "#### Remove Dollar Signs and Commas from Currency Columns:"
   ]
  },
  {
   "cell_type": "code",
   "execution_count": 16,
   "metadata": {},
   "outputs": [],
   "source": [
    "combined['worldwide_gross'] = combined['worldwide_gross'].str.strip('$')\n",
    "combined['worldwide_gross'] = combined['worldwide_gross'].str.replace(',', '')\n",
    "\n",
    "combined['budget'] = combined['budget'].str.strip('$')\n",
    "combined['budget'] = combined['budget'].str.replace(',', '')\n",
    "\n",
    "combined['gross_usa'] = combined['gross_usa'].str.strip('$')\n",
    "combined['gross_usa'] = combined['gross_usa'].str.replace(',', '')"
   ]
  },
  {
   "cell_type": "markdown",
   "metadata": {},
   "source": [
    "#### Remove Non-USD Reported Earnings:"
   ]
  },
  {
   "cell_type": "markdown",
   "metadata": {},
   "source": [
    "We removed entries with non-USD reported budgets. This removed about 600 entries of the 18,000. Note that this does not remove all foreign films, just films produced by companies who did not report their budget in USD."
   ]
  },
  {
   "cell_type": "code",
   "execution_count": 17,
   "metadata": {},
   "outputs": [],
   "source": [
    "combined = combined[~combined['budget'].astype(str).str.startswith('SEK')] # Format is redefine the column with all\n",
    "combined = combined[~combined['budget'].astype(str).str.startswith('NOK')] # entries EXCEPT where the entry starts\n",
    "combined = combined[~combined['budget'].astype(str).str.startswith('KRW')] # with the specified currency string.\n",
    "combined = combined[~combined['budget'].astype(str).str.startswith('SGD')]\n",
    "combined = combined[~combined['budget'].astype(str).str.startswith('THB')]\n",
    "combined = combined[~combined['budget'].astype(str).str.startswith('JPY')]\n",
    "combined = combined[~combined['budget'].astype(str).str.startswith('HUF')]\n",
    "combined = combined[~combined['budget'].astype(str).str.startswith('INR')]\n",
    "combined = combined[~combined['budget'].astype(str).str.startswith('GBP')]\n",
    "combined = combined[~combined['budget'].astype(str).str.startswith('HKD')]\n",
    "combined = combined[~combined['budget'].astype(str).str.startswith('FRF')]\n",
    "combined = combined[~combined['budget'].astype(str).str.startswith('EUR')]\n",
    "combined = combined[~combined['budget'].astype(str).str.startswith('FIM')]\n",
    "combined = combined[~combined['budget'].astype(str).str.startswith('DEM')]\n",
    "combined = combined[~combined['budget'].astype(str).str.startswith('DKK')]\n",
    "combined = combined[~combined['budget'].astype(str).str.startswith('CAD')]\n",
    "combined = combined[~combined['budget'].astype(str).str.startswith('ESP')]\n",
    "combined = combined[~combined['budget'].astype(str).str.startswith('AUD')]\n",
    "combined = combined[~combined['budget'].astype(str).str.startswith('BEF')]\n",
    "combined = combined[~combined['budget'].astype(str).str.startswith('CNY')]\n",
    "combined = combined[~combined['budget'].astype(str).str.startswith('ATS')]\n",
    "combined = combined[~combined['budget'].astype(str).str.startswith('BRL')]"
   ]
  },
  {
   "cell_type": "code",
   "execution_count": 18,
   "metadata": {},
   "outputs": [
    {
     "data": {
      "text/html": [
       "<div>\n",
       "<style scoped>\n",
       "    .dataframe tbody tr th:only-of-type {\n",
       "        vertical-align: middle;\n",
       "    }\n",
       "\n",
       "    .dataframe tbody tr th {\n",
       "        vertical-align: top;\n",
       "    }\n",
       "\n",
       "    .dataframe thead th {\n",
       "        text-align: right;\n",
       "    }\n",
       "</style>\n",
       "<table border=\"1\" class=\"dataframe\">\n",
       "  <thead>\n",
       "    <tr style=\"text-align: right;\">\n",
       "      <th></th>\n",
       "      <th>url</th>\n",
       "      <th>title</th>\n",
       "      <th>year</th>\n",
       "      <th>genre</th>\n",
       "      <th>gross_usa</th>\n",
       "      <th>budget</th>\n",
       "      <th>worldwide_gross</th>\n",
       "      <th>pg_rated</th>\n",
       "      <th>rating</th>\n",
       "      <th>rating_pop</th>\n",
       "    </tr>\n",
       "  </thead>\n",
       "  <tbody>\n",
       "    <tr>\n",
       "      <th>0</th>\n",
       "      <td>https://www.imdb.com/title/tt0054215/</td>\n",
       "      <td>Psycho</td>\n",
       "      <td>1960</td>\n",
       "      <td>['Horror', 'Mystery', 'Thriller']</td>\n",
       "      <td>32000000</td>\n",
       "      <td>806947</td>\n",
       "      <td>32000000</td>\n",
       "      <td>NaN</td>\n",
       "      <td>8.5</td>\n",
       "      <td>580,863</td>\n",
       "    </tr>\n",
       "    <tr>\n",
       "      <th>1</th>\n",
       "      <td>https://www.imdb.com/title/tt0054047/</td>\n",
       "      <td>The Magnificent Seven</td>\n",
       "      <td>1960</td>\n",
       "      <td>['Action', 'Adventure', 'Western']</td>\n",
       "      <td>NaN</td>\n",
       "      <td>2000000</td>\n",
       "      <td>NaN</td>\n",
       "      <td>NaN</td>\n",
       "      <td>7.7</td>\n",
       "      <td>85,315</td>\n",
       "    </tr>\n",
       "    <tr>\n",
       "      <th>2</th>\n",
       "      <td>https://www.imdb.com/title/tt0054331/</td>\n",
       "      <td>Spartacus</td>\n",
       "      <td>1960</td>\n",
       "      <td>['Adventure', 'Biography', 'Drama', 'History',...</td>\n",
       "      <td>1830650</td>\n",
       "      <td>12000000</td>\n",
       "      <td>1836351</td>\n",
       "      <td>NaN</td>\n",
       "      <td>7.9</td>\n",
       "      <td>120,895</td>\n",
       "    </tr>\n",
       "    <tr>\n",
       "      <th>3</th>\n",
       "      <td>https://www.imdb.com/title/tt0053604/</td>\n",
       "      <td>The Apartment</td>\n",
       "      <td>1960</td>\n",
       "      <td>['Comedy', 'Drama', 'Romance']</td>\n",
       "      <td>NaN</td>\n",
       "      <td>3000000</td>\n",
       "      <td>177066</td>\n",
       "      <td>NaN</td>\n",
       "      <td>8.3</td>\n",
       "      <td>157,134</td>\n",
       "    </tr>\n",
       "    <tr>\n",
       "      <th>4</th>\n",
       "      <td>https://www.imdb.com/title/tt0053917/</td>\n",
       "      <td>Home from the Hill</td>\n",
       "      <td>1960</td>\n",
       "      <td>['Drama', 'Romance']</td>\n",
       "      <td>NaN</td>\n",
       "      <td>1818688</td>\n",
       "      <td>NaN</td>\n",
       "      <td>NaN</td>\n",
       "      <td>7.4</td>\n",
       "      <td>2,864</td>\n",
       "    </tr>\n",
       "    <tr>\n",
       "      <th>...</th>\n",
       "      <td>...</td>\n",
       "      <td>...</td>\n",
       "      <td>...</td>\n",
       "      <td>...</td>\n",
       "      <td>...</td>\n",
       "      <td>...</td>\n",
       "      <td>...</td>\n",
       "      <td>...</td>\n",
       "      <td>...</td>\n",
       "      <td>...</td>\n",
       "    </tr>\n",
       "    <tr>\n",
       "      <th>18295</th>\n",
       "      <td>https://www.imdb.com/title/tt7541720/</td>\n",
       "      <td>Music</td>\n",
       "      <td>2020</td>\n",
       "      <td>['Drama']</td>\n",
       "      <td>NaN</td>\n",
       "      <td>NaN</td>\n",
       "      <td>NaN</td>\n",
       "      <td>PG-13</td>\n",
       "      <td>NaN</td>\n",
       "      <td>NaN</td>\n",
       "    </tr>\n",
       "    <tr>\n",
       "      <th>18296</th>\n",
       "      <td>https://www.imdb.com/title/tt5867314/</td>\n",
       "      <td>The Empty Man</td>\n",
       "      <td>2020</td>\n",
       "      <td>['Crime', 'Drama', 'Horror', 'Mystery', 'Thril...</td>\n",
       "      <td>NaN</td>\n",
       "      <td>NaN</td>\n",
       "      <td>NaN</td>\n",
       "      <td>R</td>\n",
       "      <td>NaN</td>\n",
       "      <td>NaN</td>\n",
       "    </tr>\n",
       "    <tr>\n",
       "      <th>18297</th>\n",
       "      <td>https://www.imdb.com/title/tt5714470/</td>\n",
       "      <td>Come Away</td>\n",
       "      <td>2020</td>\n",
       "      <td>['Adventure', 'Drama', 'Fantasy']</td>\n",
       "      <td>NaN</td>\n",
       "      <td>NaN</td>\n",
       "      <td>NaN</td>\n",
       "      <td>NaN</td>\n",
       "      <td>6.6</td>\n",
       "      <td>27</td>\n",
       "    </tr>\n",
       "    <tr>\n",
       "      <th>18298</th>\n",
       "      <td>https://www.imdb.com/title/tt6559576/</td>\n",
       "      <td>Selfie Dad</td>\n",
       "      <td>2020</td>\n",
       "      <td>['Comedy', 'Family']</td>\n",
       "      <td>NaN</td>\n",
       "      <td>NaN</td>\n",
       "      <td>NaN</td>\n",
       "      <td>PG</td>\n",
       "      <td>3.7</td>\n",
       "      <td>83</td>\n",
       "    </tr>\n",
       "    <tr>\n",
       "      <th>18299</th>\n",
       "      <td>https://www.imdb.com/title/tt9614452/</td>\n",
       "      <td>The Big Bull</td>\n",
       "      <td>2020</td>\n",
       "      <td>['Crime', 'Drama']</td>\n",
       "      <td>NaN</td>\n",
       "      <td>NaN</td>\n",
       "      <td>NaN</td>\n",
       "      <td>NaN</td>\n",
       "      <td>NaN</td>\n",
       "      <td>NaN</td>\n",
       "    </tr>\n",
       "  </tbody>\n",
       "</table>\n",
       "<p>17445 rows × 10 columns</p>\n",
       "</div>"
      ],
      "text/plain": [
       "                                         url                  title  year  \\\n",
       "0      https://www.imdb.com/title/tt0054215/                 Psycho  1960   \n",
       "1      https://www.imdb.com/title/tt0054047/  The Magnificent Seven  1960   \n",
       "2      https://www.imdb.com/title/tt0054331/              Spartacus  1960   \n",
       "3      https://www.imdb.com/title/tt0053604/          The Apartment  1960   \n",
       "4      https://www.imdb.com/title/tt0053917/     Home from the Hill  1960   \n",
       "...                                      ...                    ...   ...   \n",
       "18295  https://www.imdb.com/title/tt7541720/                  Music  2020   \n",
       "18296  https://www.imdb.com/title/tt5867314/          The Empty Man  2020   \n",
       "18297  https://www.imdb.com/title/tt5714470/              Come Away  2020   \n",
       "18298  https://www.imdb.com/title/tt6559576/             Selfie Dad  2020   \n",
       "18299  https://www.imdb.com/title/tt9614452/           The Big Bull  2020   \n",
       "\n",
       "                                                   genre gross_usa    budget  \\\n",
       "0                      ['Horror', 'Mystery', 'Thriller']  32000000    806947   \n",
       "1                     ['Action', 'Adventure', 'Western']       NaN   2000000   \n",
       "2      ['Adventure', 'Biography', 'Drama', 'History',...   1830650  12000000   \n",
       "3                         ['Comedy', 'Drama', 'Romance']       NaN   3000000   \n",
       "4                                   ['Drama', 'Romance']       NaN   1818688   \n",
       "...                                                  ...       ...       ...   \n",
       "18295                                          ['Drama']       NaN       NaN   \n",
       "18296  ['Crime', 'Drama', 'Horror', 'Mystery', 'Thril...       NaN       NaN   \n",
       "18297                  ['Adventure', 'Drama', 'Fantasy']       NaN       NaN   \n",
       "18298                               ['Comedy', 'Family']       NaN       NaN   \n",
       "18299                                 ['Crime', 'Drama']       NaN       NaN   \n",
       "\n",
       "      worldwide_gross pg_rated  rating rating_pop  \n",
       "0            32000000      NaN     8.5    580,863  \n",
       "1                 NaN      NaN     7.7     85,315  \n",
       "2             1836351      NaN     7.9    120,895  \n",
       "3              177066      NaN     8.3    157,134  \n",
       "4                 NaN      NaN     7.4      2,864  \n",
       "...               ...      ...     ...        ...  \n",
       "18295             NaN    PG-13     NaN        NaN  \n",
       "18296             NaN        R     NaN        NaN  \n",
       "18297             NaN      NaN     6.6         27  \n",
       "18298             NaN       PG     3.7         83  \n",
       "18299             NaN      NaN     NaN        NaN  \n",
       "\n",
       "[17445 rows x 10 columns]"
      ]
     },
     "execution_count": 18,
     "metadata": {},
     "output_type": "execute_result"
    }
   ],
   "source": [
    "combined"
   ]
  },
  {
   "cell_type": "markdown",
   "metadata": {},
   "source": [
    "#### Remove Rows with Missing Data: \n",
    "\n",
    "We need intact budget and worldwide gross earnings for each movie so we need to remove rows with missing values in these columns. This will decrease the size of the dataframe, but, in this case, it is necessary. "
   ]
  },
  {
   "cell_type": "code",
   "execution_count": 19,
   "metadata": {},
   "outputs": [
    {
     "data": {
      "text/html": [
       "<div>\n",
       "<style scoped>\n",
       "    .dataframe tbody tr th:only-of-type {\n",
       "        vertical-align: middle;\n",
       "    }\n",
       "\n",
       "    .dataframe tbody tr th {\n",
       "        vertical-align: top;\n",
       "    }\n",
       "\n",
       "    .dataframe thead th {\n",
       "        text-align: right;\n",
       "    }\n",
       "</style>\n",
       "<table border=\"1\" class=\"dataframe\">\n",
       "  <thead>\n",
       "    <tr style=\"text-align: right;\">\n",
       "      <th></th>\n",
       "      <th>url</th>\n",
       "      <th>title</th>\n",
       "      <th>year</th>\n",
       "      <th>genre</th>\n",
       "      <th>gross_usa</th>\n",
       "      <th>budget</th>\n",
       "      <th>worldwide_gross</th>\n",
       "      <th>pg_rated</th>\n",
       "      <th>rating</th>\n",
       "      <th>rating_pop</th>\n",
       "    </tr>\n",
       "  </thead>\n",
       "  <tbody>\n",
       "    <tr>\n",
       "      <th>1202</th>\n",
       "      <td>https://www.imdb.com/title/tt0057012/</td>\n",
       "      <td>Dr. Strangelove or: How I Learned to Stop Worr...</td>\n",
       "      <td>1964</td>\n",
       "      <td>['Comedy']</td>\n",
       "      <td>9440272</td>\n",
       "      <td>1800000</td>\n",
       "      <td>9443876</td>\n",
       "      <td>PG</td>\n",
       "      <td>8.4</td>\n",
       "      <td>437,986</td>\n",
       "    </tr>\n",
       "    <tr>\n",
       "      <th>1205</th>\n",
       "      <td>https://www.imdb.com/title/tt0058461/</td>\n",
       "      <td>A Fistful of Dollars</td>\n",
       "      <td>1964</td>\n",
       "      <td>['Action', 'Drama', 'Western']</td>\n",
       "      <td>14500000</td>\n",
       "      <td>200000</td>\n",
       "      <td>14516248</td>\n",
       "      <td>R</td>\n",
       "      <td>8.0</td>\n",
       "      <td>190,339</td>\n",
       "    </tr>\n",
       "    <tr>\n",
       "      <th>1238</th>\n",
       "      <td>https://www.imdb.com/title/tt0057877/</td>\n",
       "      <td>Becket</td>\n",
       "      <td>1964</td>\n",
       "      <td>['Biography', 'Drama', 'History']</td>\n",
       "      <td>149327</td>\n",
       "      <td>3000000</td>\n",
       "      <td>149327</td>\n",
       "      <td>PG-13</td>\n",
       "      <td>7.8</td>\n",
       "      <td>13,272</td>\n",
       "    </tr>\n",
       "    <tr>\n",
       "      <th>1502</th>\n",
       "      <td>https://www.imdb.com/title/tt0059113/</td>\n",
       "      <td>Doctor Zhivago</td>\n",
       "      <td>1965</td>\n",
       "      <td>['Drama', 'Romance', 'War']</td>\n",
       "      <td>111721910</td>\n",
       "      <td>11000000</td>\n",
       "      <td>111918564</td>\n",
       "      <td>PG-13</td>\n",
       "      <td>8.0</td>\n",
       "      <td>67,790</td>\n",
       "    </tr>\n",
       "    <tr>\n",
       "      <th>1558</th>\n",
       "      <td>https://www.imdb.com/title/tt0059418/</td>\n",
       "      <td>Major Dundee</td>\n",
       "      <td>1965</td>\n",
       "      <td>['Adventure', 'War', 'Western']</td>\n",
       "      <td>20807</td>\n",
       "      <td>3800000</td>\n",
       "      <td>20807</td>\n",
       "      <td>PG-13</td>\n",
       "      <td>6.7</td>\n",
       "      <td>6,864</td>\n",
       "    </tr>\n",
       "    <tr>\n",
       "      <th>...</th>\n",
       "      <td>...</td>\n",
       "      <td>...</td>\n",
       "      <td>...</td>\n",
       "      <td>...</td>\n",
       "      <td>...</td>\n",
       "      <td>...</td>\n",
       "      <td>...</td>\n",
       "      <td>...</td>\n",
       "      <td>...</td>\n",
       "      <td>...</td>\n",
       "    </tr>\n",
       "    <tr>\n",
       "      <th>18099</th>\n",
       "      <td>https://www.imdb.com/title/tt9173418/</td>\n",
       "      <td>Brahms: The Boy II</td>\n",
       "      <td>2020</td>\n",
       "      <td>['Drama', 'Horror', 'Mystery', 'Thriller']</td>\n",
       "      <td>12611536</td>\n",
       "      <td>10000000</td>\n",
       "      <td>20311536</td>\n",
       "      <td>PG-13</td>\n",
       "      <td>4.6</td>\n",
       "      <td>7,432</td>\n",
       "    </tr>\n",
       "    <tr>\n",
       "      <th>18127</th>\n",
       "      <td>https://www.imdb.com/title/tt7545266/</td>\n",
       "      <td>Like a Boss</td>\n",
       "      <td>2020</td>\n",
       "      <td>['Comedy']</td>\n",
       "      <td>22169514</td>\n",
       "      <td>29000000</td>\n",
       "      <td>29753143</td>\n",
       "      <td>R</td>\n",
       "      <td>4.4</td>\n",
       "      <td>6,756</td>\n",
       "    </tr>\n",
       "    <tr>\n",
       "      <th>18130</th>\n",
       "      <td>https://www.imdb.com/title/tt7510346/</td>\n",
       "      <td>The Turning</td>\n",
       "      <td>2020</td>\n",
       "      <td>['Drama', 'Horror', 'Mystery']</td>\n",
       "      <td>15472775</td>\n",
       "      <td>14000000</td>\n",
       "      <td>18592707</td>\n",
       "      <td>PG-13</td>\n",
       "      <td>3.8</td>\n",
       "      <td>6,813</td>\n",
       "    </tr>\n",
       "    <tr>\n",
       "      <th>18136</th>\n",
       "      <td>https://www.imdb.com/title/tt9208444/</td>\n",
       "      <td>Impractical Jokers: The Movie</td>\n",
       "      <td>2020</td>\n",
       "      <td>['Comedy']</td>\n",
       "      <td>10691091</td>\n",
       "      <td>3000000</td>\n",
       "      <td>10691091</td>\n",
       "      <td>PG-13</td>\n",
       "      <td>6.0</td>\n",
       "      <td>3,694</td>\n",
       "    </tr>\n",
       "    <tr>\n",
       "      <th>18217</th>\n",
       "      <td>https://www.imdb.com/title/tt7798646/</td>\n",
       "      <td>The Photograph</td>\n",
       "      <td>2020</td>\n",
       "      <td>['Drama', 'Romance']</td>\n",
       "      <td>20578185</td>\n",
       "      <td>16000000</td>\n",
       "      <td>20653204</td>\n",
       "      <td>PG-13</td>\n",
       "      <td>5.9</td>\n",
       "      <td>2,353</td>\n",
       "    </tr>\n",
       "  </tbody>\n",
       "</table>\n",
       "<p>4616 rows × 10 columns</p>\n",
       "</div>"
      ],
      "text/plain": [
       "                                         url  \\\n",
       "1202   https://www.imdb.com/title/tt0057012/   \n",
       "1205   https://www.imdb.com/title/tt0058461/   \n",
       "1238   https://www.imdb.com/title/tt0057877/   \n",
       "1502   https://www.imdb.com/title/tt0059113/   \n",
       "1558   https://www.imdb.com/title/tt0059418/   \n",
       "...                                      ...   \n",
       "18099  https://www.imdb.com/title/tt9173418/   \n",
       "18127  https://www.imdb.com/title/tt7545266/   \n",
       "18130  https://www.imdb.com/title/tt7510346/   \n",
       "18136  https://www.imdb.com/title/tt9208444/   \n",
       "18217  https://www.imdb.com/title/tt7798646/   \n",
       "\n",
       "                                                   title  year  \\\n",
       "1202   Dr. Strangelove or: How I Learned to Stop Worr...  1964   \n",
       "1205                                A Fistful of Dollars  1964   \n",
       "1238                                              Becket  1964   \n",
       "1502                                      Doctor Zhivago  1965   \n",
       "1558                                        Major Dundee  1965   \n",
       "...                                                  ...   ...   \n",
       "18099                                 Brahms: The Boy II  2020   \n",
       "18127                                        Like a Boss  2020   \n",
       "18130                                        The Turning  2020   \n",
       "18136                      Impractical Jokers: The Movie  2020   \n",
       "18217                                     The Photograph  2020   \n",
       "\n",
       "                                            genre  gross_usa    budget  \\\n",
       "1202                                   ['Comedy']    9440272   1800000   \n",
       "1205               ['Action', 'Drama', 'Western']   14500000    200000   \n",
       "1238            ['Biography', 'Drama', 'History']     149327   3000000   \n",
       "1502                  ['Drama', 'Romance', 'War']  111721910  11000000   \n",
       "1558              ['Adventure', 'War', 'Western']      20807   3800000   \n",
       "...                                           ...        ...       ...   \n",
       "18099  ['Drama', 'Horror', 'Mystery', 'Thriller']   12611536  10000000   \n",
       "18127                                  ['Comedy']   22169514  29000000   \n",
       "18130              ['Drama', 'Horror', 'Mystery']   15472775  14000000   \n",
       "18136                                  ['Comedy']   10691091   3000000   \n",
       "18217                        ['Drama', 'Romance']   20578185  16000000   \n",
       "\n",
       "      worldwide_gross pg_rated  rating rating_pop  \n",
       "1202          9443876       PG     8.4    437,986  \n",
       "1205         14516248        R     8.0    190,339  \n",
       "1238           149327    PG-13     7.8     13,272  \n",
       "1502        111918564    PG-13     8.0     67,790  \n",
       "1558            20807    PG-13     6.7      6,864  \n",
       "...               ...      ...     ...        ...  \n",
       "18099        20311536    PG-13     4.6      7,432  \n",
       "18127        29753143        R     4.4      6,756  \n",
       "18130        18592707    PG-13     3.8      6,813  \n",
       "18136        10691091    PG-13     6.0      3,694  \n",
       "18217        20653204    PG-13     5.9      2,353  \n",
       "\n",
       "[4616 rows x 10 columns]"
      ]
     },
     "execution_count": 19,
     "metadata": {},
     "output_type": "execute_result"
    }
   ],
   "source": [
    "pared_down = combined.dropna() #Now we can drop missing values.\n",
    "pared_down"
   ]
  },
  {
   "cell_type": "markdown",
   "metadata": {},
   "source": [
    "#### Recast Budget and Worldwide Gross as Int64: \n",
    "\n",
    "This throws a warning because we are altering a copy of a dataframe. In this case, it is what we want so don't mind the warning, the change will go through."
   ]
  },
  {
   "cell_type": "code",
   "execution_count": 20,
   "metadata": {
    "scrolled": false
   },
   "outputs": [
    {
     "name": "stderr",
     "output_type": "stream",
     "text": [
      "/Users/arencarpenter/opt/anaconda3/lib/python3.7/site-packages/ipykernel_launcher.py:1: SettingWithCopyWarning: \n",
      "A value is trying to be set on a copy of a slice from a DataFrame.\n",
      "Try using .loc[row_indexer,col_indexer] = value instead\n",
      "\n",
      "See the caveats in the documentation: https://pandas.pydata.org/pandas-docs/stable/user_guide/indexing.html#returning-a-view-versus-a-copy\n",
      "  \"\"\"Entry point for launching an IPython kernel.\n"
     ]
    }
   ],
   "source": [
    "pared_down['budget'] = pared_down.budget.astype('int64') # Recast as numerical data type."
   ]
  },
  {
   "cell_type": "code",
   "execution_count": 21,
   "metadata": {},
   "outputs": [
    {
     "name": "stderr",
     "output_type": "stream",
     "text": [
      "/Users/arencarpenter/opt/anaconda3/lib/python3.7/site-packages/ipykernel_launcher.py:1: SettingWithCopyWarning: \n",
      "A value is trying to be set on a copy of a slice from a DataFrame.\n",
      "Try using .loc[row_indexer,col_indexer] = value instead\n",
      "\n",
      "See the caveats in the documentation: https://pandas.pydata.org/pandas-docs/stable/user_guide/indexing.html#returning-a-view-versus-a-copy\n",
      "  \"\"\"Entry point for launching an IPython kernel.\n"
     ]
    }
   ],
   "source": [
    "pared_down['worldwide_gross'] = pared_down.worldwide_gross.astype('int64')"
   ]
  },
  {
   "cell_type": "markdown",
   "metadata": {},
   "source": [
    "Confirm that the data type of both columns is now int64."
   ]
  },
  {
   "cell_type": "code",
   "execution_count": 22,
   "metadata": {},
   "outputs": [
    {
     "data": {
      "text/plain": [
       "dtype('int64')"
      ]
     },
     "execution_count": 22,
     "metadata": {},
     "output_type": "execute_result"
    }
   ],
   "source": [
    "pared_down.budget.dtype"
   ]
  },
  {
   "cell_type": "code",
   "execution_count": 23,
   "metadata": {},
   "outputs": [
    {
     "data": {
      "text/plain": [
       "dtype('int64')"
      ]
     },
     "execution_count": 23,
     "metadata": {},
     "output_type": "execute_result"
    }
   ],
   "source": [
    "pared_down.worldwide_gross.dtype"
   ]
  },
  {
   "cell_type": "markdown",
   "metadata": {},
   "source": [
    "Let's sort the values to get a sense of our range of budgets."
   ]
  },
  {
   "cell_type": "code",
   "execution_count": 24,
   "metadata": {},
   "outputs": [
    {
     "data": {
      "text/plain": [
       "11436         6000\n",
       "9672          7000\n",
       "13262         7000\n",
       "10425        15000\n",
       "14150        15000\n",
       "           ...    \n",
       "17111    300000000\n",
       "14113    300000000\n",
       "17122    317000000\n",
       "17401    321000000\n",
       "17706    356000000\n",
       "Name: budget, Length: 4616, dtype: int64"
      ]
     },
     "execution_count": 24,
     "metadata": {},
     "output_type": "execute_result"
    }
   ],
   "source": [
    "pared_down.budget.sort_values()"
   ]
  },
  {
   "cell_type": "markdown",
   "metadata": {},
   "source": [
    "### Data Visualization:"
   ]
  },
  {
   "cell_type": "markdown",
   "metadata": {},
   "source": [
    "Now we can start to visualize. Let's plot each movie's budget and worldwide revenue."
   ]
  },
  {
   "cell_type": "code",
   "execution_count": 38,
   "metadata": {},
   "outputs": [
    {
     "data": {
      "image/png": "[encoded data removed]",
      "text/plain": [
       "<Figure size 720x720 with 1 Axes>"
      ]
     },
     "metadata": {
      "needs_background": "light"
     },
     "output_type": "display_data"
    }
   ],
   "source": [
    "plt.figure(figsize=(10, 10))\n",
    "sns.regplot(x = 'budget', y = 'worldwide_gross', data = pared_down, scatter_kws={'alpha':0.5})\n",
    "plt.title('Budget vs Worldwide Revenue')          # Set title.\n",
    "plt.xlabel(\"Budget \\n in hundred millions\")       # Set x-axis label.\n",
    "plt.ylabel('Worldwide Revenue \\n in billions')    # Set y-axis label.\n",
    "sns.despine()"
   ]
  },
  {
   "cell_type": "markdown",
   "metadata": {},
   "source": [
    "As we can see, there is a positive relationship between budget and revenue. Using our regression line, we would expect a film with budget of 150,000,000 -- or 150 million -- to return 500,000,000 -- or 0.5 billion -- in revenue. Thus a profit of 350,000,000. "
   ]
  },
  {
   "cell_type": "markdown",
   "metadata": {},
   "source": [
    "Here is the same scatter plot as a regplot for the distribution of each variable. As we can see, most movies have a budget of less than 50,000,000 and earn less than 100,000,000. "
   ]
  },
  {
   "cell_type": "code",
   "execution_count": 261,
   "metadata": {
    "scrolled": true
   },
   "outputs": [
    {
     "data": {
      "text/plain": [
       "<seaborn.axisgrid.JointGrid at 0x7fb00f54add0>"
      ]
     },
     "execution_count": 261,
     "metadata": {},
     "output_type": "execute_result"
    },
    {
     "data": {
      "image/png": "[encoded data removed]",
      "text/plain": [
       "<Figure size 432x432 with 3 Axes>"
      ]
     },
     "metadata": {
      "needs_background": "light"
     },
     "output_type": "display_data"
    }
   ],
   "source": [
    "sns.jointplot(x = 'budget', y = 'worldwide_gross', data = pared_down, alpha = 0.5)"
   ]
  },
  {
   "cell_type": "markdown",
   "metadata": {},
   "source": [
    "### Insights:"
   ]
  },
  {
   "cell_type": "markdown",
   "metadata": {},
   "source": [
    "The average movie has a positive return on investment for its budget. Devoid of other factors, producers should put in as much money as they can to ensure the biggest payoff. However, this does not account for other important factors, such as release time, user and critic ratings, and competition from other films."
   ]
  },
  {
   "cell_type": "markdown",
   "metadata": {},
   "source": []
  }
 ],
 "metadata": {
  "kernelspec": {
   "display_name": "Python 3",
   "language": "python",
   "name": "python3"
  },
  "language_info": {
   "codemirror_mode": {
    "name": "ipython",
    "version": 3
   },
   "file_extension": ".py",
   "mimetype": "text/x-python",
   "name": "python",
   "nbconvert_exporter": "python",
   "pygments_lexer": "ipython3",
   "version": "3.7.6"
  }
 },
 "nbformat": 4,
 "nbformat_minor": 4
}
